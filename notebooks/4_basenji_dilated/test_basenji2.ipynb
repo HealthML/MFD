{
 "cells": [
  {
   "cell_type": "code",
   "execution_count": null,
   "id": "ef6fdc62-eb60-47c2-ac86-d97153217ad4",
   "metadata": {
    "tags": []
   },
   "outputs": [],
   "source": [
    "import sys\n",
    "sys.path.append('./src')"
   ]
  },
  {
   "cell_type": "code",
   "execution_count": null,
   "id": "72f4bf7c-06b5-4c95-9e2d-94da4914abf1",
   "metadata": {
    "tags": []
   },
   "outputs": [],
   "source": [
    "import torch\n",
    "import wandb\n",
    "import json\n",
    "from pytorch_lightning.callbacks import ModelCheckpoint\n",
    "import pytorch_lightning as pl\n",
    "from pytorch_lightning.loggers import WandbLogger\n",
    "from pytorch_lightning import Trainer\n",
    "from models import models\n",
    "from util.load_config import config\n",
    "from util.parse_arguments import parse_arguments\n",
    "import argparse\n",
    "from util.wandb import create_sweep, current_sweep_id\n",
    "import pyranges\n",
    "import os\n",
    "from models.models import AquaticBasenji\n",
    "from models.models import AquaticDilated\n",
    "from models.models import DinucleotideBaseline"
   ]
  },
  {
   "cell_type": "code",
   "execution_count": null,
   "id": "56468d2d-d1b1-445f-af75-f761e1e52fc5",
   "metadata": {
    "tags": []
   },
   "outputs": [],
   "source": [
    "from data.dataloaders import LitCoverageDatasetHDF5"
   ]
  },
  {
   "cell_type": "code",
   "execution_count": null,
   "id": "1a8b275d-b877-4bad-83d3-fdda3998e052",
   "metadata": {
    "tags": []
   },
   "outputs": [],
   "source": [
    "datamodule = LitCoverageDatasetHDF5(\n",
    "            seq_order = 1, \n",
    "            seq_len = 2176,\n",
    "            basepath=\"data/processed/GRCh38/toydata\",\n",
    "            ref_path = config['reference']['GRCh38'],\n",
    "            batch_size = 128,\n",
    "            random_shift = 3,\n",
    "            random_reverse_complement = True\n",
    "        )"
   ]
  },
  {
   "cell_type": "code",
   "execution_count": null,
   "id": "0dedbbf5-7234-4308-aa87-34493341bb89",
   "metadata": {
    "tags": []
   },
   "outputs": [],
   "source": [
    "model = AquaticDilated(\n",
    "            seq_order = 1, \n",
    "            seq_len = 2176,\n",
    "            n_classes = datamodule.n_classes,\n",
    "            weight_decay = 0,\n",
    "            L2 = 3\n",
    ")"
   ]
  },
  {
   "cell_type": "code",
   "execution_count": null,
   "id": "a57c7e65-cf42-4a8e-90c5-92c622bca143",
   "metadata": {
    "tags": []
   },
   "outputs": [],
   "source": [
    "if torch.cuda.is_available():\n",
    "    trainer_args = {\n",
    "        'accelerator':'gpu',\n",
    "        'devices':1,\n",
    "    }\n",
    "else:\n",
    "    trainer_args = {\n",
    "        'accelerator':'cpu',\n",
    "        'devices':'auto',\n",
    "    }"
   ]
  },
  {
   "cell_type": "code",
   "execution_count": null,
   "id": "c5103e38-70d6-4f90-afd5-e9e21861e9cc",
   "metadata": {
    "tags": []
   },
   "outputs": [],
   "source": [
    "trainer_args"
   ]
  },
  {
   "cell_type": "code",
   "execution_count": null,
   "id": "dd9e8aba-2795-4a84-959b-ecd6075045c9",
   "metadata": {
    "tags": []
   },
   "outputs": [],
   "source": [
    "# datamodule.setup('fit')\n",
    "# \n",
    "# \n",
    "# dl = datamodule.train_dataloader()\n",
    "# \n",
    "# for b in dl:\n",
    "#     break\n",
    "# \n",
    "# b[0].shape\n",
    "# \n",
    "# b[1].shape\n",
    "# \n",
    "# model.forward(b[0][0]).shape\n",
    "\n",
    "# opt = model.configure_optimizers()\n",
    "# opt"
   ]
  },
  {
   "cell_type": "code",
   "execution_count": null,
   "id": "459a37ae-cb1e-4544-ad06-4146a8bda52f",
   "metadata": {
    "tags": []
   },
   "outputs": [],
   "source": [
    "trainer = Trainer(**trainer_args)"
   ]
  },
  {
   "cell_type": "code",
   "execution_count": null,
   "id": "b65b6011-60be-4231-bce9-1f2a6b54a5bc",
   "metadata": {
    "tags": []
   },
   "outputs": [],
   "source": [
    "trainer.fit(model, datamodule)"
   ]
  },
  {
   "cell_type": "code",
   "execution_count": null,
   "id": "36afc097-c6f4-42a4-b74a-790ecf3f0105",
   "metadata": {},
   "outputs": [],
   "source": []
  }
 ],
 "metadata": {
  "kernelspec": {
   "display_name": "Python 3 (ipykernel)",
   "language": "python",
   "name": "python3"
  },
  "language_info": {
   "codemirror_mode": {
    "name": "ipython",
    "version": 3
   },
   "file_extension": ".py",
   "mimetype": "text/x-python",
   "name": "python",
   "nbconvert_exporter": "python",
   "pygments_lexer": "ipython3",
   "version": "3.10.8"
  }
 },
 "nbformat": 4,
 "nbformat_minor": 5
}
