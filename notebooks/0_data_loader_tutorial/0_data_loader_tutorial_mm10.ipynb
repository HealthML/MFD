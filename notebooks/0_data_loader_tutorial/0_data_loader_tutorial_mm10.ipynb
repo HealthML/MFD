{
 "cells": [
  {
   "cell_type": "code",
   "execution_count": 1,
   "id": "732fa6b0-d60d-43d4-9aa0-41cec3c627af",
   "metadata": {},
   "outputs": [],
   "source": [
    "# you have to make the module discoverable to load the classes below:\n",
    "\n",
    "import sys\n",
    "import os\n",
    "\n",
    "os.chdir('../../../nucleotran/')\n",
    "sys.path.append('./src')"
   ]
  },
  {
   "cell_type": "code",
   "execution_count": 2,
   "id": "4dd40ab4-76b2-4eac-891b-88b65fc52879",
   "metadata": {},
   "outputs": [],
   "source": [
    "from data.dataloaders import CoverageDatasetHDF5\n",
    "\n",
    "from features.nucleotide import DNATokenizer\n",
    "from torch import tensor\n",
    "\n",
    "import numpy as np\n",
    "import pandas as pd\n",
    "\n",
    "import torch\n",
    "from torch.utils.data import DataLoader\n",
    "from torch.nn import Embedding\n",
    "from torch import nn\n",
    "from torch import permute"
   ]
  },
  {
   "cell_type": "markdown",
   "id": "24b3b675-1014-43cd-92ef-07c227f3e996",
   "metadata": {},
   "source": [
    "#### Thursday June 9, 2022\n",
    "## Pytorch for DNA-sequence-classification \n",
    "\n",
    "\n",
    "In this tutorial I will give you an introduction to the data you will be working with, and how to access it with pytorch `Dataset` and `DataLoader` classes. We will then train a simple baseline-model using a toy-dataset.\n",
    "\n",
    "## Requirements\n",
    "\n",
    "The classes I've written require `pytorch`, `pysam`, `pandas`, `numpy`, and `h5py`. The tutorial requires `sklearn`.\n",
    "\n",
    "A conda environment definition that contains these dependencies *and much more* is located at `nucleotrain/environment.yml`.\n",
    "\n",
    "I recommend using that environment, and installing a jupyter-kernel with that environment.\n",
    "\n",
    "## The Data\n",
    "\n",
    "This tutorial works on the mouse data\n",
    "\n",
    "We want to train a classifier to predict 0 to x labels for each DNA-sequence in the dataset. Each label is an activity read-out from an experiment. DNA-sequences are strings of 4 letters (nucleotides): A, C, G and T. Given the DNA-sequence, we want to predict a vector of length x. Each position in this vector corresponds to an activitiy-readout, and can either be 0 or 1.\n",
    "\n",
    "Instead of looking at single nucleotides, we can look at *oligo-nucleotides*, i.e., short sequences of consecutive nucleotides that occur together (e.g., `AA` or `CG`). This is similar to creating tokens in text datasets.\n",
    "\n",
    "In this tutorial, we will look at di-nucleotides:"
   ]
  },
  {
   "cell_type": "code",
   "execution_count": 3,
   "id": "582439c2-cc32-421a-bb5a-ecaf1249c157",
   "metadata": {},
   "outputs": [],
   "source": [
    "# set the \"sequence order\" or \"token/word length\"\n",
    "seq_order = 2"
   ]
  },
  {
   "cell_type": "markdown",
   "id": "c571a8b9-1f2a-4c9e-81f8-dedb6f1df173",
   "metadata": {},
   "source": [
    "I've written a class `DNATokenizer` that converts DNA-strings to arrays of tokens. For any token-length (i.e., the \"sequence order\") greater than 1, we can also define a stride. \n",
    "\n",
    "E.g., the sequence `ACGTAC` could be ecoded as `[AC, CG, GT, TA, AC]` (token length 2, stride = 1), or `[AC, GT, AC]` (token length 2, stride = 2)."
   ]
  },
  {
   "cell_type": "code",
   "execution_count": 4,
   "id": "0f0dc458-1ba0-4173-aae9-a32616ccc352",
   "metadata": {},
   "outputs": [],
   "source": [
    "# the tokenizer defines the token length, and the stride\n",
    "dnatokenizer = DNATokenizer(seq_order=seq_order, stride=1, allow_N=False)\n",
    "\n",
    "# dna_embed will help us convert the token-representation to one-hot representation\n",
    "W, mapping = dnatokenizer.get_one_hot_weights_matrix(N_max=0)\n",
    "dna_embed = Embedding.from_pretrained(tensor(W),freeze=True)"
   ]
  },
  {
   "cell_type": "markdown",
   "id": "f9dfef3d-7e14-4f2f-9508-1b01cb0c4ee1",
   "metadata": {},
   "source": [
    "We will be using the class `CoverageDatasetHDF5` to iterate over our dataset:\n",
    "\n",
    "- The first argument is a UCDC BED-file that defines the genetic regions. Each region has an underlying DNA-sequence. You can think of the regions as coordinates. Similar to a book with different chapters and line-numbers, we can look up DNA-sequences at specific locations in the genome, based on the chromosome (\"chapter\"), and genetic coordinates (\"line numbers\"). Line numbers are not shared between Chromosomes (we start counting from 0 for each \"chapter\").\n",
    "\n",
    "- The second argument is the file containing the genome reference sequence in FASTA format. It defines the text we want to parse from (i.e., the file contains the text of the \"book\"). The file is indexed for fast access.\n",
    "\n",
    "- The third argument is a path to a custom HDF5-formatted file, which contains the activity read-outs for every region defined in the UCSC BED-file (first argument).\n",
    "\n",
    "- `dna_tokenizer` is the `DNATokenizer`-object that defines how the DNA-sequences will be processed before being served up for training.\n",
    "\n",
    "- `random_shift` adding random shifts to the input DNA-sequences is a way of performing data-augmentation. We don't add this for now.\n",
    "\n",
    "- `random_reverse_complement` randomly serves up the reverse complement of a DNA-sequence (this is another way of data augmentation).\n",
    "\n",
    "- `transform` other transformations to perform to the input (X). By applying `dna_embed` we specify that we want to convert DNA-sequence tokens (e.g., `[2]`) to their one-hot representations (e.g., `[0,0,1,0,...]`)\n",
    "\n",
    "- `target_transform` other transformations to perform to the target (Y)."
   ]
  },
  {
   "cell_type": "code",
   "execution_count": 6,
   "id": "b6e97462-5622-4852-b8dc-63c484bce649",
   "metadata": {},
   "outputs": [
    {
     "name": "stdout",
     "output_type": "stream",
     "text": [
      "BED-file contains 10000 regions.\n",
      "91.550% of regions have at least 1 label.\n"
     ]
    }
   ],
   "source": [
    "dataset = CoverageDatasetHDF5('data/processed/mm10/toydata/regions.bed',\n",
    "                              '../mm10.fa.gz',\n",
    "                              'data/processed/mm10/toydata/overlaps.h5',\n",
    "                              dna_tokenizer=dnatokenizer,\n",
    "                              random_shift=0,\n",
    "                              random_reverse_complement=True,\n",
    "                              transform=lambda x: permute(dna_embed(tensor(x)), [0,2,1]), # the loader serves up the data in \"channels-last\" format, but pytorch wants \"channels-first\", so we permute\n",
    "                              target_transform=tensor)"
   ]
  },
  {
   "cell_type": "markdown",
   "id": "b5f904b7-c0d3-44dc-b2c2-81730608effb",
   "metadata": {},
   "source": [
    "The regions defined in the BED-file all have length 128 base-pairs (bp), i.e., the DNA strings have length 128. We could expand all the regions to add a larger context window. This would lead to some overlap between genetic ranges / sequences. It does not affect the labels, which are derived from the center 128bp regardless. To keep the length at 128 when we use di-nucleotide encoding, we add an extra base-pair to the sequence lenght:"
   ]
  },
  {
   "cell_type": "code",
   "execution_count": 7,
   "id": "4f68525b-11dd-4d19-84c2-812a74137cb8",
   "metadata": {},
   "outputs": [],
   "source": [
    "dataset.bedseqloader.resize(128+(seq_order-1)) # add one to keep the input sequence length the same when using bi-nucleotide encoding"
   ]
  },
  {
   "cell_type": "markdown",
   "id": "0a466da0-3e5f-41c6-8fec-280e27c3f7aa",
   "metadata": {},
   "source": [
    "### Loading the training data\n",
    "`CoverageDatasetHDF5`, like any valid `DataLoader`, implements `__getitem__` for serving data:"
   ]
  },
  {
   "cell_type": "code",
   "execution_count": 8,
   "id": "cb49d9f6-4447-49b6-ba31-6a7de2e5508a",
   "metadata": {},
   "outputs": [],
   "source": [
    "x_example, y_example = dataset[[0,1,2]] # load the first 3 x-y pairs"
   ]
  },
  {
   "cell_type": "code",
   "execution_count": 9,
   "id": "a5993914-222f-4911-abd7-c07c326413e7",
   "metadata": {},
   "outputs": [
    {
     "data": {
      "text/plain": [
       "torch.Size([3, 16, 128])"
      ]
     },
     "execution_count": 9,
     "metadata": {},
     "output_type": "execute_result"
    }
   ],
   "source": [
    "x_example.shape # the first dimension is the batch dimension, the second is the \"channel\" dimension, the last is the spatial dimension"
   ]
  },
  {
   "cell_type": "code",
   "execution_count": 10,
   "id": "151e8de8-2bb5-44a1-b47f-5d33c0a4c337",
   "metadata": {},
   "outputs": [
    {
     "data": {
      "text/plain": [
       "torch.Size([3, 758])"
      ]
     },
     "execution_count": 10,
     "metadata": {},
     "output_type": "execute_result"
    }
   ],
   "source": [
    "y_example.shape # the first dimension is the batch dimension, the second dimension contains the one-hot encoded labels (either 0. or 1.) for 2106 datasets"
   ]
  },
  {
   "cell_type": "markdown",
   "id": "c4669b22-f23a-4e2b-8cd7-b749a71e5316",
   "metadata": {},
   "source": [
    "`dataset.bedseqloader` is a `BEDSeqLoader` object (see `nucleotran/src/features/nucleotide.py`) which loads the DNA-sequences"
   ]
  },
  {
   "cell_type": "code",
   "execution_count": 11,
   "id": "4ce4eaed-fc74-48cb-839f-63adf22e3a3f",
   "metadata": {},
   "outputs": [
    {
     "data": {
      "text/plain": [
       "array(['AAAGGTGGCAAGGTGGGAAGAGTCCCACTTCCACACCCATGCCATCTCATAGCAGATGAAGGGCAAGTGGTGGGGCCAGCTCTCCTATGCTCTTACCCTCAAACTGGCTCACCCACACCCTTCTCACCA',\n",
       "       'ATGTAGTTGAGCTCTAAAGCAATTCCCTTTCTGACAAAGTGTTAGTTATGGAGACACCCCAGTTTTTTCCCACAACTGCTTCCCCTAACACCATGGTCCAAAGTGTAATCTAATCCTCTATTTGGAGCT',\n",
       "       'ACCCCCACTCTTTTCCTATATAAACCCCTAACTTTTGAGCCTCGTGGTTGACACCTCTGTCTTCTGCGTGAGATATGTGTCGGCCTGGAGGTCTGTCATTAAACTACCTTGTGTGTTTGCATCAAGACG'],\n",
       "      dtype='<U129')"
      ]
     },
     "execution_count": 11,
     "metadata": {},
     "output_type": "execute_result"
    }
   ],
   "source": [
    "dataset.bedseqloader[[0,1,2]] # first three DNA-sequences sequences, raw."
   ]
  },
  {
   "cell_type": "markdown",
   "id": "4fa63b29-1c52-44fe-85ae-9a8e428cd202",
   "metadata": {},
   "source": [
    "The tokenizer can convert these sequencs to tokens:"
   ]
  },
  {
   "cell_type": "code",
   "execution_count": 12,
   "id": "cb272fde-2d52-405c-a0f7-3832ed8041ec",
   "metadata": {},
   "outputs": [
    {
     "data": {
      "text/plain": [
       "array([[ 0,  0,  2, 10, 11, 14, 10,  9,  4,  0,  2, 10, 11, 14, 10, 10,\n",
       "         8,  0,  2,  8,  2, 11, 13,  5,  5,  4,  1,  7, 15, 13,  5,  4,\n",
       "         1,  4,  1,  5,  5,  4,  3, 14,  9,  5,  4,  3, 13,  7, 13,  4,\n",
       "         3, 12,  2,  9,  4,  2,  8,  3, 14,  8,  0,  2, 10, 10,  9,  4,\n",
       "         0,  2, 11, 14, 10, 11, 14, 10, 10, 10,  9,  5,  4,  2,  9,  7,\n",
       "        13,  7, 13,  5,  7, 12,  3, 14,  9,  7, 13,  7, 15, 12,  1,  5,\n",
       "         5,  7, 13,  4,  0,  0,  1,  7, 14, 10,  9,  7, 13,  4,  1,  5,\n",
       "         5,  4,  1,  4,  1,  5,  5,  7, 15, 13,  7, 13,  4,  1,  5,  4],\n",
       "       [ 3, 14, 11, 12,  2, 11, 15, 14,  8,  2,  9,  7, 13,  7, 12,  0,\n",
       "         0,  2,  9,  4,  0,  3, 15, 13,  5,  5,  7, 15, 15, 13,  7, 14,\n",
       "         8,  1,  4,  0,  0,  2, 11, 14, 11, 15, 12,  2, 11, 15, 12,  3,\n",
       "        14, 10,  8,  2,  8,  1,  4,  1,  5,  5,  5,  4,  2, 11, 15, 15,\n",
       "        15, 15, 15, 13,  5,  5,  4,  1,  4,  0,  1,  7, 14,  9,  7, 15,\n",
       "        13,  5,  5,  5,  7, 12,  0,  1,  4,  1,  5,  4,  3, 14, 10, 11,\n",
       "        13,  5,  4,  0,  0,  2, 11, 14, 11, 12,  0,  3, 13,  7, 12,  0,\n",
       "         3, 13,  5,  7, 13,  7, 12,  3, 15, 15, 14, 10,  8,  2,  9,  7],\n",
       "       [ 1,  5,  5,  5,  5,  4,  1,  7, 13,  7, 15, 15, 15, 13,  5,  7,\n",
       "        12,  3, 12,  3, 12,  0,  0,  1,  5,  5,  5,  7, 12,  0,  1,  7,\n",
       "        15, 15, 15, 14,  8,  2,  9,  5,  7, 13,  6, 11, 14, 10, 11, 15,\n",
       "        14,  8,  1,  4,  1,  5,  7, 13,  7, 14, 11, 13,  7, 15, 13,  7,\n",
       "        14,  9,  6, 11, 14,  8,  2,  8,  3, 12,  3, 14, 11, 14, 11, 13,\n",
       "         6, 10,  9,  5,  7, 14, 10,  8,  2, 10, 11, 13,  7, 14, 11, 13,\n",
       "         4,  3, 15, 12,  0,  0,  1,  7, 12,  1,  5,  7, 15, 14, 11, 14,\n",
       "        11, 14, 11, 15, 15, 14,  9,  4,  3, 13,  4,  0,  2,  8,  1,  6]])"
      ]
     },
     "execution_count": 12,
     "metadata": {},
     "output_type": "execute_result"
    }
   ],
   "source": [
    "dnatokenizer.tokenize(dataset.bedseqloader[[0,1,2]], random=False) # first three sequences, converted to di-nucleotide tokens with stride 1"
   ]
  },
  {
   "cell_type": "markdown",
   "id": "da4c91c4-e7ff-468d-9527-6537ef88a76d",
   "metadata": {},
   "source": [
    "`dna_embed` converts tokens to one-hot representation"
   ]
  },
  {
   "cell_type": "code",
   "execution_count": 13,
   "id": "fd6890a6-98da-45a6-9235-78374fffa08d",
   "metadata": {},
   "outputs": [],
   "source": [
    "embedded = dna_embed(tensor(dnatokenizer.tokenize(dataset.bedseqloader[[0,1,2]]))) # first three sequences, converted to one-hot encoding of oligo-nucleotide tokens"
   ]
  },
  {
   "cell_type": "code",
   "execution_count": 14,
   "id": "892d4757-5c51-40d6-9025-3a85e43fbdd2",
   "metadata": {},
   "outputs": [
    {
     "data": {
      "text/plain": [
       "torch.Size([3, 128, 16])"
      ]
     },
     "execution_count": 14,
     "metadata": {},
     "output_type": "execute_result"
    }
   ],
   "source": [
    "embedded.shape"
   ]
  },
  {
   "cell_type": "code",
   "execution_count": 15,
   "id": "424acfac-ff1c-4d9a-8571-b12a17299e74",
   "metadata": {},
   "outputs": [
    {
     "data": {
      "text/plain": [
       "tensor([[1., 0., 0., 0., 0., 0., 0., 0., 0., 0., 0., 0., 0., 0., 0., 0.],\n",
       "        [1., 0., 0., 0., 0., 0., 0., 0., 0., 0., 0., 0., 0., 0., 0., 0.],\n",
       "        [0., 0., 1., 0., 0., 0., 0., 0., 0., 0., 0., 0., 0., 0., 0., 0.]],\n",
       "       dtype=torch.float64)"
      ]
     },
     "execution_count": 15,
     "metadata": {},
     "output_type": "execute_result"
    }
   ],
   "source": [
    "embedded[0, 0:3, :] # first three oligo-nucleotides in the first DNA-string. Do you see what this corresponds to above? -> [0, 0, 2, ....]"
   ]
  },
  {
   "cell_type": "markdown",
   "id": "29e2921c-5f0d-4af6-82da-783d1b008abf",
   "metadata": {},
   "source": [
    "The mapping returned in cell 4 above contains the mapping of di-nucleotides to tokens, in case you get lost..."
   ]
  },
  {
   "cell_type": "code",
   "execution_count": 16,
   "id": "363bac54-100a-4e2b-9496-4bbd62c83448",
   "metadata": {},
   "outputs": [
    {
     "data": {
      "text/plain": [
       "{'AA': 0,\n",
       " 'AC': 1,\n",
       " 'AG': 2,\n",
       " 'AT': 3,\n",
       " 'CA': 4,\n",
       " 'CC': 5,\n",
       " 'CG': 6,\n",
       " 'CT': 7,\n",
       " 'GA': 8,\n",
       " 'GC': 9,\n",
       " 'GG': 10,\n",
       " 'GT': 11,\n",
       " 'TA': 12,\n",
       " 'TC': 13,\n",
       " 'TG': 14,\n",
       " 'TT': 15}"
      ]
     },
     "execution_count": 16,
     "metadata": {},
     "output_type": "execute_result"
    }
   ],
   "source": [
    "mapping"
   ]
  },
  {
   "cell_type": "code",
   "execution_count": 17,
   "id": "db789613-9ef4-4f5b-808a-03a1144e4fb6",
   "metadata": {},
   "outputs": [],
   "source": [
    "reverse_mapping = {v:k for k, v in mapping.items()}"
   ]
  },
  {
   "cell_type": "code",
   "execution_count": 18,
   "id": "2d73faac-6e02-420a-922e-10f7b13174de",
   "metadata": {},
   "outputs": [
    {
     "data": {
      "text/plain": [
       "'AAAGGTGGCAAGGTGGGAAGAGTCCCACTTCCACACCCATGCCATCTCATAGCAGATGAAGGGCAAGTGGTGGGGCCAGCTCTCCTATGCTCTTACCCTCAAACTGGCTCACCCACACCCTTCTCACC'"
      ]
     },
     "execution_count": 18,
     "metadata": {},
     "output_type": "execute_result"
    }
   ],
   "source": [
    "''.join([reverse_mapping[x] for x in np.where(embedded[0,:])[1]][0:128:seq_order]) # this should be the same sequence as below, do you understand why?"
   ]
  },
  {
   "cell_type": "code",
   "execution_count": 19,
   "id": "be4858f1-3e72-493a-b45c-efee5fb3e7e2",
   "metadata": {},
   "outputs": [
    {
     "data": {
      "text/plain": [
       "'AAAGGTGGCAAGGTGGGAAGAGTCCCACTTCCACACCCATGCCATCTCATAGCAGATGAAGGGCAAGTGGTGGGGCCAGCTCTCCTATGCTCTTACCCTCAAACTGGCTCACCCACACCCTTCTCACC'"
      ]
     },
     "execution_count": 19,
     "metadata": {},
     "output_type": "execute_result"
    }
   ],
   "source": [
    "dataset.bedseqloader[0][0][:-1] # dataset.bedseqloader returns raw DNA sequences"
   ]
  },
  {
   "cell_type": "markdown",
   "id": "77544da1-84a5-4292-a6a5-bf8e86435d12",
   "metadata": {},
   "source": [
    "`CoverageDatasetHDF5` comes with a method to easily split the data by chromosome:"
   ]
  },
  {
   "cell_type": "code",
   "execution_count": 20,
   "id": "9dbad45f-1708-4903-835d-d6ca88f953ac",
   "metadata": {},
   "outputs": [],
   "source": [
    "# we decide we want ot use chromosomes 9 and 10 as the test set\n",
    "\n",
    "i_train, i_test = dataset.train_test_split_chromosomes(['chr9','chr10'])"
   ]
  },
  {
   "cell_type": "markdown",
   "id": "08e705b0-2ab2-49e7-8335-30502a93b635",
   "metadata": {},
   "source": [
    "# 1st\n",
    "## Fit the baseline classifier with scikit learn"
   ]
  },
  {
   "cell_type": "markdown",
   "id": "534ee180-9d41-4b66-9684-bc0ef2c35418",
   "metadata": {},
   "source": [
    "Now that we have an idea of the input data, we will fit a simple multi-output-logistic-regression classifier. Before we use pytorch, I will show you how to fit an equivalent baseline-model with scikit learn."
   ]
  },
  {
   "cell_type": "code",
   "execution_count": 21,
   "id": "0e1e3abc-2df2-41d6-83a8-460dcacbe4ca",
   "metadata": {},
   "outputs": [],
   "source": [
    "from sklearn.multioutput import MultiOutputClassifier\n",
    "from sklearn.linear_model import LogisticRegression"
   ]
  },
  {
   "cell_type": "code",
   "execution_count": 22,
   "id": "baec2780-3f6e-4a63-a835-622d1f66f543",
   "metadata": {},
   "outputs": [],
   "source": [
    "from sklearn.metrics import log_loss, roc_auc_score"
   ]
  },
  {
   "cell_type": "code",
   "execution_count": 23,
   "id": "5de991fe-a88a-4537-83ea-538995264e40",
   "metadata": {},
   "outputs": [],
   "source": [
    "X_train, y_train = dataset[i_train] # fetch the training data"
   ]
  },
  {
   "cell_type": "code",
   "execution_count": 24,
   "id": "f4fd4b1d-02e2-4cfe-b0fd-a61addaf9784",
   "metadata": {},
   "outputs": [
    {
     "data": {
      "text/plain": [
       "torch.Size([9005, 16, 128])"
      ]
     },
     "execution_count": 24,
     "metadata": {},
     "output_type": "execute_result"
    }
   ],
   "source": [
    "X_train.shape"
   ]
  },
  {
   "cell_type": "code",
   "execution_count": 25,
   "id": "a0f5014f-ac0f-42b4-8c25-34ce32cf2f8c",
   "metadata": {},
   "outputs": [
    {
     "data": {
      "text/plain": [
       "torch.Size([9005, 758])"
      ]
     },
     "execution_count": 25,
     "metadata": {},
     "output_type": "execute_result"
    }
   ],
   "source": [
    "y_train.shape"
   ]
  },
  {
   "cell_type": "code",
   "execution_count": 26,
   "id": "a87928b6-b8ac-4477-b49f-2625c56de874",
   "metadata": {},
   "outputs": [],
   "source": [
    "X_train = X_train.numpy() # convert to numpy arrays\n",
    "y_train = y_train.numpy()"
   ]
  },
  {
   "cell_type": "markdown",
   "id": "1f69a0b0-90e9-4a86-98bb-46f449f6bc97",
   "metadata": {},
   "source": [
    "Our simple baseline model will make predictions only from the di-nucleotide frequencies, and disregard any positional information."
   ]
  },
  {
   "cell_type": "code",
   "execution_count": 27,
   "id": "95d176c6-d78b-467b-938b-48dd2f8abf25",
   "metadata": {},
   "outputs": [],
   "source": [
    "X = X_train.mean(axis=-1) # taking the average along the positional axis"
   ]
  },
  {
   "cell_type": "code",
   "execution_count": 28,
   "id": "80dc57fb-e670-476a-ab3a-dda96f3beae3",
   "metadata": {},
   "outputs": [],
   "source": [
    "X_test, y_test = dataset[i_test]\n",
    "X_test, y_test = X_test.numpy(), y_test.numpy()"
   ]
  },
  {
   "cell_type": "code",
   "execution_count": 29,
   "id": "deae1fcf-fa76-4e4c-901c-d15a7284abd5",
   "metadata": {},
   "outputs": [],
   "source": [
    "keep_train = ~(y_test == 0).all(axis=0) # drop those with 0 observations in our toy dataset\n",
    "keep_train_idx = np.argwhere(keep_train)[:,0]"
   ]
  },
  {
   "cell_type": "code",
   "execution_count": 30,
   "id": "f3073444-d8c2-4512-9b0f-31dbae099252",
   "metadata": {},
   "outputs": [],
   "source": [
    "# fit multiple logistic regression classifiers separately\n",
    "\n",
    "logreg = MultiOutputClassifier(LogisticRegression()).fit(X, y_train[:,keep_train])"
   ]
  },
  {
   "cell_type": "code",
   "execution_count": 31,
   "id": "3d060b98-6119-40a2-9948-3f9e0952819b",
   "metadata": {},
   "outputs": [
    {
     "name": "stdout",
     "output_type": "stream",
     "text": [
      "(995, 16)\n"
     ]
    }
   ],
   "source": [
    "# evaluate the models on the test set\n",
    "\n",
    "X_test = X_test.mean(axis=-1)\n",
    "print(X_test.shape)"
   ]
  },
  {
   "cell_type": "code",
   "execution_count": 32,
   "id": "4be5587f-966d-44c0-9d19-83b845b93457",
   "metadata": {},
   "outputs": [],
   "source": [
    "# predict output probabilities\n",
    "\n",
    "y_hat_sklearn = logreg.predict_proba(X_test)"
   ]
  },
  {
   "cell_type": "code",
   "execution_count": 33,
   "id": "f2331ee9-0aa5-461d-885f-836cee3b8932",
   "metadata": {},
   "outputs": [],
   "source": [
    "y_hat_sklearn = np.concatenate([x[:,1][:,np.newaxis] for x in y_hat_sklearn],axis=1)"
   ]
  },
  {
   "cell_type": "code",
   "execution_count": 34,
   "id": "151ecf51-427b-4be4-b705-051b688f3b30",
   "metadata": {},
   "outputs": [
    {
     "data": {
      "text/plain": [
       "True"
      ]
     },
     "execution_count": 34,
     "metadata": {},
     "output_type": "execute_result"
    }
   ],
   "source": [
    "y_hat_sklearn.shape == y_test[:,keep_train].shape"
   ]
  },
  {
   "cell_type": "code",
   "execution_count": 35,
   "id": "03b509a4-9e00-45eb-8ddd-3c205ca1c195",
   "metadata": {},
   "outputs": [],
   "source": [
    "y_test = y_test[:,keep_train]"
   ]
  },
  {
   "cell_type": "code",
   "execution_count": 36,
   "id": "6e7ee64c-90bd-454f-b7af-77b0137aa715",
   "metadata": {},
   "outputs": [],
   "source": [
    "# calculate the area under the receiver operator curve on the test set, for those classes with at least 5 observations in the test set\n",
    "\n",
    "rocs = {idx: roc_auc_score(y_test[:,i], y_hat_sklearn[:,i]) for i, idx in enumerate(keep_train_idx) if y_test[:,i].sum() >= 5}"
   ]
  },
  {
   "cell_type": "code",
   "execution_count": 37,
   "id": "003ef210-a156-4095-af2e-e34c7f9ab731",
   "metadata": {},
   "outputs": [],
   "source": [
    "rocs_i = list(rocs.keys())\n",
    "rocs = np.array(list(rocs.values()))"
   ]
  },
  {
   "cell_type": "code",
   "execution_count": 38,
   "id": "e64045fd-23c1-4042-849c-10fd5dc794f2",
   "metadata": {},
   "outputs": [
    {
     "data": {
      "text/plain": [
       "0.6648546169465939"
      ]
     },
     "execution_count": 38,
     "metadata": {},
     "output_type": "execute_result"
    }
   ],
   "source": [
    "np.mean(rocs) # the average classifier performance based on di-nucleotide content, you'll notice this is actually pretty good..."
   ]
  },
  {
   "cell_type": "code",
   "execution_count": 39,
   "id": "1f1fc079-1b51-4757-b68d-c91f40829b00",
   "metadata": {},
   "outputs": [],
   "source": [
    "rocs_sklearn = np.array(rocs)\n",
    "rocs_sklearn_argsort = np.argsort(-rocs_sklearn)"
   ]
  },
  {
   "cell_type": "code",
   "execution_count": 40,
   "id": "0ff2983f-e8fc-47d4-9d97-449a0fca8465",
   "metadata": {},
   "outputs": [
    {
     "data": {
      "text/plain": [
       "array([0.87945578, 0.87287509, 0.87203408, 0.86259707, 0.86020202,\n",
       "       0.85585779, 0.85334926, 0.84884599, 0.84183563, 0.84164467,\n",
       "       0.8414966 , 0.84      , 0.83666667, 0.83346207, 0.83312053,\n",
       "       0.82997196, 0.82928205, 0.82728205, 0.82577886, 0.82577384,\n",
       "       0.82461205, 0.8230303 , 0.8222449 , 0.82132658, 0.81981068,\n",
       "       0.81981068, 0.81907895, 0.8185525 , 0.81788247, 0.81757451])"
      ]
     },
     "execution_count": 40,
     "metadata": {},
     "output_type": "execute_result"
    }
   ],
   "source": [
    "rocs_sklearn[rocs_sklearn_argsort[0:30]] # some classes have really high performance, but this could be noisy because they might be very rare"
   ]
  },
  {
   "cell_type": "code",
   "execution_count": 41,
   "id": "b3c3d4aa-f1a0-4cc7-a145-5dc5857f50a4",
   "metadata": {},
   "outputs": [],
   "source": [
    "# look at the *average* parameters for the di-nucleotides accross all classes \n",
    "\n",
    "params_sklearn = np.concatenate([x.coef_ for x in logreg.estimators_ ], axis=0)"
   ]
  },
  {
   "cell_type": "code",
   "execution_count": 42,
   "id": "62846ed1-68b4-4a79-84ae-cb2386b8af2f",
   "metadata": {},
   "outputs": [
    {
     "name": "stdout",
     "output_type": "stream",
     "text": [
      "AA -0.642680106565826\n",
      "AC -0.3373262247593484\n",
      "AG -0.4287042866551895\n",
      "AT -1.8188658300055398\n",
      "CA -1.1069583329260346\n",
      "CC 1.6911057858979348\n",
      "CG 3.020272699790288\n",
      "CT -0.5176083589893388\n",
      "GA -0.3457265287214376\n",
      "GC 2.2050064444028488\n",
      "GG 1.9564265894211101\n",
      "GT -0.26359873585537613\n",
      "TA -1.1551257420136445\n",
      "TC -0.449442788014344\n",
      "TG -0.9985598286746281\n",
      "TT -0.8138834385110906\n"
     ]
    }
   ],
   "source": [
    "# the model gives high weight to GC-rich di-nucleotides. This is a known bias. But CG-dinucleotides also have a biological function.\n",
    "\n",
    "# https://en.wikipedia.org/wiki/CpG_site\n",
    "\n",
    "params_sklearn_mean = params_sklearn.mean(axis=0)\n",
    "for k, v in mapping.items():\n",
    "    print(f'{k} {params_sklearn_mean[v]}')"
   ]
  },
  {
   "cell_type": "code",
   "execution_count": 43,
   "id": "da2b2c92-df99-4afb-8f05-bc2ea3025c81",
   "metadata": {},
   "outputs": [],
   "source": [
    "intercepts = np.concatenate([x.intercept_ for x in logreg.estimators_ ], axis=0)"
   ]
  },
  {
   "cell_type": "code",
   "execution_count": 44,
   "id": "48a36045-cb21-46a0-b340-3a6e047b7d7c",
   "metadata": {},
   "outputs": [
    {
     "data": {
      "text/plain": [
       "array([-2.20805615, -2.86489719, -2.93549756, -4.03575511, -3.61038891,\n",
       "       -4.43155219, -3.00339478, -2.9881319 , -3.81064205, -5.57470903])"
      ]
     },
     "execution_count": 44,
     "metadata": {},
     "output_type": "execute_result"
    }
   ],
   "source": [
    "# the intercepts will mainly capture the frequency of the class\n",
    "\n",
    "intercepts[0:10]"
   ]
  },
  {
   "cell_type": "code",
   "execution_count": 45,
   "id": "d13eba6b-954e-48fc-adc6-345a0475f279",
   "metadata": {},
   "outputs": [],
   "source": [
    "# we can save these intercepts and use them to initialize our pytorch model later \n",
    "\n",
    "initialize_intercepts = np.empty(dtype=float, shape=y_train.shape[1])\n",
    "initialize_intercepts[keep_train] = intercepts\n",
    "initialize_intercepts[~keep_train] = np.min(intercepts)+(np.random.randn(np.sum(~keep_train))*0.01) # we save the intercepts to initialize the pytorch model"
   ]
  },
  {
   "cell_type": "code",
   "execution_count": 46,
   "id": "2b9af1ae-fac8-44b0-a1f0-dd337155d16f",
   "metadata": {},
   "outputs": [
    {
     "data": {
      "text/plain": [
       "tensor([-2.2081, -2.8649, -2.9355, -4.0358, -3.6104, -4.4316, -3.0034, -2.9881,\n",
       "        -3.8106, -5.5747, -3.2193, -3.6404, -4.5769, -2.8728, -2.8875, -4.6943,\n",
       "        -3.1178, -4.3538, -3.7943, -2.9324, -2.8863, -3.3325, -3.0804, -2.5475,\n",
       "        -2.9793, -3.2563, -2.8920, -2.3726, -3.8317, -8.0056, -3.1982, -4.0563,\n",
       "        -5.3368, -4.3183, -4.7751, -3.4842, -2.3667, -3.6958, -3.2225, -3.0365,\n",
       "        -3.0430, -3.0071, -3.6856, -3.0464, -4.4482, -3.7456, -3.6058, -3.5112,\n",
       "        -2.7485, -4.8859, -2.9676, -2.8625, -4.6145, -2.4696, -4.1528, -3.2509,\n",
       "        -3.0897, -3.7693, -2.9446, -5.0986, -3.0354, -3.7130, -3.8660, -4.6851,\n",
       "        -3.6513, -4.9927, -3.2335, -3.0594, -3.2859, -2.9704, -3.4846, -2.9467,\n",
       "        -3.7158, -3.4858, -2.1945, -4.2718, -3.0764, -4.3905, -6.1054, -3.8145,\n",
       "        -2.9949, -2.8432, -3.5275, -3.9192, -3.7249, -5.3786, -2.9764, -1.6701,\n",
       "        -4.0349, -3.6533, -1.9220, -2.1874, -2.2763, -3.3863, -2.9421, -3.2605,\n",
       "        -1.9774, -3.8223, -3.1124, -3.2318, -2.3528, -2.5096, -8.4061, -3.6655,\n",
       "        -2.4183, -3.3115, -3.5573, -3.0630, -3.5504, -2.2328, -3.1642, -3.4360,\n",
       "        -3.2439, -2.7539, -2.4818, -3.0306, -2.8608, -4.8672, -5.2649, -4.6900,\n",
       "        -3.1755, -3.0628, -2.9405, -2.8441, -2.3939, -2.4395, -3.2237, -3.6190,\n",
       "        -2.9295, -3.0390, -5.0557, -2.6296, -2.9395, -3.2204, -3.8281, -4.2531,\n",
       "        -2.7425, -3.0158, -3.2682, -3.0478, -3.1328, -2.2886, -4.1211, -2.7594,\n",
       "        -2.8607, -1.6652, -4.6472, -6.0088, -3.1907, -1.7951, -3.6191, -2.7693,\n",
       "        -3.3351, -3.1931, -2.8521, -3.3652, -2.3091, -3.3110, -6.0723, -2.1140,\n",
       "        -3.1307, -3.1457, -2.6768, -2.9366, -2.0484, -2.5013, -5.8621, -2.8153,\n",
       "        -2.5736, -5.1716, -3.0731, -3.7631, -3.9417, -2.9884, -2.6457, -3.1872,\n",
       "        -3.4202, -4.1301, -2.8158, -2.9748, -4.7433, -3.1599, -2.6584, -3.2841,\n",
       "        -4.2930, -1.8083, -2.8776, -3.3303, -3.0345, -5.0138, -3.0844, -3.3658,\n",
       "        -2.1290, -2.3321, -3.4037, -4.6034, -2.9127, -6.0026, -3.1694, -6.2154,\n",
       "        -4.6419, -2.2213, -2.7472, -2.6968, -2.8917, -2.2804, -4.1098, -1.5676,\n",
       "        -3.3471, -2.8996, -5.3378, -2.9221, -2.7806, -3.7598, -4.5596, -2.8829,\n",
       "        -2.2882, -2.3953, -4.6891, -3.0069, -2.9712, -2.7070, -2.7488, -3.2544,\n",
       "        -3.0384, -3.3233, -2.9257, -3.1100, -4.1139, -2.6338, -5.2938, -2.8748,\n",
       "        -2.0818, -6.3407, -2.5002, -3.4983, -1.9961, -3.4975, -4.7788, -3.3568,\n",
       "        -2.7444, -2.8704, -2.1246, -2.9133, -2.5107, -2.8142, -4.8758, -5.1173,\n",
       "        -2.4128, -3.4656, -3.5996, -6.8024, -4.0515, -2.1469, -3.8701, -3.7309,\n",
       "        -3.5282, -2.7876, -3.3426, -4.7546, -2.9229, -4.3612, -2.9664, -5.2970,\n",
       "        -3.2299, -2.5678, -3.2983, -3.8130, -3.0102, -3.9836, -4.2903, -2.8339,\n",
       "        -3.3217, -2.4222, -3.8674, -2.3917, -3.4998, -6.6866, -3.0763, -2.6743,\n",
       "        -3.6419, -3.1881, -1.8467, -3.4206, -2.3437, -2.9797, -4.5389, -2.7018,\n",
       "        -3.0868, -4.3695, -2.9653, -3.3380, -2.7645, -2.9744, -3.6433, -4.6712,\n",
       "        -4.0403, -3.0876, -3.0639, -3.0040, -4.6832, -2.6105, -1.8737, -1.8751,\n",
       "        -3.5581, -3.2081, -2.5276, -2.9326, -2.4772, -3.6971, -2.8784, -2.7980,\n",
       "        -3.4370, -4.0429, -2.5057, -2.8163, -3.3984, -3.1642, -4.0413, -8.0059,\n",
       "        -2.1677, -2.8017, -4.6799, -3.3285, -2.2255, -2.9962, -3.5013, -4.3077,\n",
       "        -1.8871, -3.4220, -2.4509, -3.1703, -2.8222, -3.1361, -3.3405, -2.6951,\n",
       "        -3.9917, -3.1436, -2.8989, -3.2622, -2.5054, -4.6220, -2.6210, -2.4911,\n",
       "        -3.4458, -3.8625, -3.1717, -2.9869, -4.7616, -3.3918, -2.7525, -2.8735,\n",
       "        -1.5735, -2.6645, -2.9848, -2.6496, -3.2383, -2.4508, -3.0570, -3.9049,\n",
       "        -4.2929, -3.1704, -2.8683, -2.5862, -5.2133, -4.8992, -5.5507, -3.8935,\n",
       "        -3.2916, -2.6643, -4.0674, -2.0534, -2.8210, -2.3389, -3.4996, -4.6320,\n",
       "        -2.3995, -2.7082, -4.6700, -5.5455, -3.0426, -1.9622, -3.4078, -2.4694,\n",
       "        -5.3477, -3.0086, -2.9761, -4.0923, -3.3451, -4.4325, -2.7970, -2.6501,\n",
       "        -2.6766, -3.8400, -6.2697, -3.2643, -3.0954, -3.1652, -2.7395, -3.2438,\n",
       "        -5.2355, -2.6903, -3.7214, -2.7228, -3.9321, -4.7172, -2.7192, -4.2798,\n",
       "        -1.5795, -4.2122, -4.6255, -2.9440, -2.8680, -1.9321, -3.4863, -4.4886,\n",
       "        -5.8908, -1.6004, -3.9792, -8.4043, -8.4128, -1.7375, -2.4384, -4.3548,\n",
       "        -3.2173, -2.7636, -3.0499, -4.4735, -4.1965, -2.8893, -2.4622, -4.9769,\n",
       "        -4.0985, -3.0553, -3.7325, -3.1254, -3.0143, -5.2817, -2.8885, -2.3847,\n",
       "        -2.6465, -3.2382, -2.6015, -5.1927, -4.2075, -1.7971, -1.8123, -3.5656,\n",
       "        -1.9757, -3.4796, -2.7430, -4.0846, -2.7286, -2.8659, -3.2792, -3.3386,\n",
       "        -2.2668, -3.3608, -4.1458, -2.7656, -4.6167, -2.8567, -2.3813, -2.8111,\n",
       "        -3.5131, -2.7839, -3.0479, -3.5709, -2.2542, -1.9745, -3.8005, -3.1373,\n",
       "        -3.0710, -8.4103, -2.9920, -4.7083, -3.4134, -3.2926, -3.1322, -2.7357,\n",
       "        -4.9164, -3.1628, -3.6825, -4.9015, -3.7985, -3.2088, -3.9142, -2.4528,\n",
       "        -2.7463, -1.9605, -2.9349, -5.7686, -4.5012, -2.8836, -3.8044, -2.7868,\n",
       "        -3.2210, -3.6198, -3.2850, -3.7387, -3.6158, -2.1288, -2.8257, -4.4965,\n",
       "        -3.3895, -2.9380, -3.5855, -2.8108, -2.8322, -5.7004, -4.0783, -4.8602,\n",
       "        -2.9105, -3.8750, -2.4571, -3.5846, -3.1221, -2.2435, -3.4187, -3.1967,\n",
       "        -2.9247, -1.9498, -4.5793, -2.4778, -3.9022, -2.8892, -3.8527, -2.7994,\n",
       "        -4.2415, -3.3075, -3.2298, -3.0687, -2.9148, -2.7878, -6.0138, -3.4938,\n",
       "        -3.3416, -3.1989, -3.5920, -3.0438, -1.9097, -3.6950, -4.0085, -3.5991,\n",
       "        -2.6553, -8.4186, -3.1927, -3.1468, -3.1180, -3.3098, -3.2055, -4.1120,\n",
       "        -2.0861, -2.8087, -2.2427, -3.0474, -2.1019, -3.4171, -2.9751, -3.1964,\n",
       "        -2.0944, -3.1885, -2.2451, -4.4798, -3.4668, -3.7002, -4.3462, -3.0981,\n",
       "        -2.7959, -3.0607, -4.5831, -3.0789, -3.0905, -2.1229, -2.6953, -1.9632,\n",
       "        -4.2296, -2.6783, -3.3077, -2.9258, -2.8902, -3.6151, -4.2527, -2.8802,\n",
       "        -3.3946, -1.7899, -8.4107, -2.9276, -3.1966, -2.6141, -3.0804, -2.9028,\n",
       "        -2.4590, -1.6199, -5.8829, -1.9596, -2.9958, -1.6692, -1.4902, -4.4227,\n",
       "        -2.9300, -2.1012, -3.1280, -4.2877, -2.8106, -2.7442, -2.3334, -4.8622,\n",
       "        -2.8484, -3.2527, -4.2550, -4.9014, -2.8130, -1.8952, -2.7889, -3.4880,\n",
       "        -5.0613, -2.6012, -3.2346, -2.9753, -3.7766, -3.9766, -2.9661, -3.5677,\n",
       "        -4.4325, -3.1669, -2.9602, -2.9509, -2.6836, -2.9442, -3.6180, -2.7548,\n",
       "        -2.7129, -1.6099, -2.8467, -3.5256, -3.0485, -5.4548, -3.6791, -2.7481,\n",
       "        -3.0533, -4.0903, -3.1756, -4.4555, -2.9154, -4.2322, -3.0604, -4.1710,\n",
       "        -2.7656, -2.5472, -3.2720, -3.1674, -4.6663, -2.0631, -3.0838, -2.6315,\n",
       "        -2.8907, -2.6346, -3.6028, -3.2902, -4.4186, -2.9576, -1.9915, -2.9874,\n",
       "        -2.3333, -2.1491, -2.8883, -4.2219, -3.9611, -3.1876, -2.8333, -3.9840,\n",
       "        -3.9953, -3.0764, -3.4898, -2.5981, -3.6592, -3.5019, -1.6718, -2.4363,\n",
       "        -2.9985, -2.2909, -8.4085, -3.6494, -3.0822, -8.4138, -2.7764, -3.5651,\n",
       "        -3.0938, -3.1231, -2.9982, -3.1395, -4.2456, -3.5621, -3.0103, -3.6697,\n",
       "        -2.6489, -4.1945, -3.2142, -3.1321, -4.0215, -2.4962, -3.1613, -3.5313,\n",
       "        -3.5177, -2.9220, -2.6531, -2.5535, -3.0118, -4.4966, -1.6245, -3.3299,\n",
       "        -4.5737, -2.9559, -3.1514, -3.5764, -2.1238, -3.1106, -2.6697, -4.9242,\n",
       "        -3.5417, -2.9841, -2.9415, -4.7538, -2.2028, -1.8863, -2.3772, -3.0889,\n",
       "        -3.1511, -2.9196, -2.7649, -2.9841, -3.2485, -4.5831, -5.3692, -3.2020,\n",
       "        -3.6094, -3.2764, -2.6628, -3.2001, -3.0023, -3.5825, -4.6224, -2.7577,\n",
       "        -5.1771, -2.8239, -3.3654, -2.5613, -4.5678, -4.0282, -3.3444, -3.1654,\n",
       "        -4.0276, -5.8871, -1.9903, -3.1802, -4.7048, -3.2453],\n",
       "       dtype=torch.float64)"
      ]
     },
     "execution_count": 46,
     "metadata": {},
     "output_type": "execute_result"
    }
   ],
   "source": [
    "initialize_intercepts = tensor(initialize_intercepts)\n",
    "initialize_intercepts.double()"
   ]
  },
  {
   "cell_type": "markdown",
   "id": "73803289-6f22-4fbf-b491-e33bf8c67967",
   "metadata": {},
   "source": [
    "# 2nd\n",
    "## We do the same thing in pytorch"
   ]
  },
  {
   "cell_type": "code",
   "execution_count": 47,
   "id": "b83d37fa-af81-4d3b-ab88-189084a4c8bc",
   "metadata": {},
   "outputs": [
    {
     "name": "stdout",
     "output_type": "stream",
     "text": [
      "Number of training samples: 9005\n",
      "Number of test samples: 995\n"
     ]
    }
   ],
   "source": [
    "print(f'Number of training samples: {len(i_train)}')\n",
    "print(f'Number of test samples: {len(i_test)}')"
   ]
  },
  {
   "cell_type": "code",
   "execution_count": 48,
   "id": "05a58ed3-586a-4bb0-9155-f8d6c860723f",
   "metadata": {},
   "outputs": [],
   "source": [
    "# our DataSet supports retrieving entire batches of samples with single calls to __getitem___\n",
    "# we can make loading more efficient by using these samplers (consider the pytorch manual for more information on samplers)\n",
    "\n",
    "batch_size = 2048 # we could probably fit much more, but this is just an example...\n",
    "\n",
    "\n",
    "train_sampler = torch.utils.data.sampler.BatchSampler(\n",
    "                torch.utils.data.sampler.SubsetRandomSampler(i_train),\n",
    "                batch_size=batch_size,\n",
    "                drop_last=False)\n",
    "\n",
    "test_sampler = torch.utils.data.sampler.BatchSampler(\n",
    "                torch.utils.data.sampler.SubsetRandomSampler(i_test),\n",
    "                batch_size=batch_size,\n",
    "                drop_last=False) \n",
    "\n",
    "train_dataloader = DataLoader(dataset, sampler=train_sampler)\n",
    "test_dataloader = DataLoader(dataset, sampler=test_sampler)"
   ]
  },
  {
   "cell_type": "code",
   "execution_count": 49,
   "id": "8ded48d8-ab26-4462-a31b-eb1a4eee0c28",
   "metadata": {},
   "outputs": [
    {
     "data": {
      "text/plain": [
       "5"
      ]
     },
     "execution_count": 49,
     "metadata": {},
     "output_type": "execute_result"
    }
   ],
   "source": [
    "len(train_dataloader) # number of batches"
   ]
  },
  {
   "cell_type": "code",
   "execution_count": 50,
   "id": "6025b991-e817-47b4-84c3-4cc131f59397",
   "metadata": {},
   "outputs": [
    {
     "data": {
      "text/plain": [
       "1"
      ]
     },
     "execution_count": 50,
     "metadata": {},
     "output_type": "execute_result"
    }
   ],
   "source": [
    "len(test_dataloader)"
   ]
  },
  {
   "cell_type": "markdown",
   "id": "7f64ca18-5ea5-41d9-8b2f-d9628c4184fa",
   "metadata": {},
   "source": [
    "The remainder of the tutorial is very similar to the pytorch beginners tutorial "
   ]
  },
  {
   "cell_type": "code",
   "execution_count": 51,
   "id": "8c6c7550-a527-4293-9b10-e028e7b6a103",
   "metadata": {},
   "outputs": [
    {
     "name": "stdout",
     "output_type": "stream",
     "text": [
      "Using cpu device\n"
     ]
    }
   ],
   "source": [
    "device = \"cuda\" if torch.cuda.is_available() else \"cpu\"\n",
    "print(f\"Using {device} device\")"
   ]
  },
  {
   "cell_type": "code",
   "execution_count": 52,
   "id": "ebca8eb3-4b85-4783-b456-f65892637066",
   "metadata": {},
   "outputs": [],
   "source": [
    "class DinucleotideBaseline(nn.Module):\n",
    "    \n",
    "    '''\n",
    "    This is a baseline model that makes predictions from the average di-nucleotide content of a region\n",
    "    '''\n",
    "    \n",
    "    def __init__(self, input_size=128, n_classes=758, init_bias=None):\n",
    "        super(DinucleotideBaseline, self).__init__()\n",
    "        self.avgpool = nn.AvgPool1d(kernel_size=input_size, stride=1, padding=0)\n",
    "        self.linear = nn.Linear(in_features=4**(seq_order), out_features=n_classes)\n",
    "        self.sigmoid = nn.Sigmoid()\n",
    "        if init_bias is not None:\n",
    "            self.linear.bias.data = init_bias\n",
    "\n",
    "    def forward(self, x):\n",
    "        \n",
    "        x = torch.flatten(self.avgpool(x), 1,2)\n",
    "        x = self.linear(x)\n",
    "        out = self.sigmoid(x)\n",
    "\n",
    "        return out\n"
   ]
  },
  {
   "cell_type": "code",
   "execution_count": 53,
   "id": "71006716-13bf-4776-b36a-6466e7d93d7f",
   "metadata": {},
   "outputs": [
    {
     "data": {
      "text/plain": [
       "DinucleotideBaseline(\n",
       "  (avgpool): AvgPool1d(kernel_size=(128,), stride=(1,), padding=(0,))\n",
       "  (linear): Linear(in_features=16, out_features=758, bias=True)\n",
       "  (sigmoid): Sigmoid()\n",
       ")"
      ]
     },
     "execution_count": 53,
     "metadata": {},
     "output_type": "execute_result"
    }
   ],
   "source": [
    "model = DinucleotideBaseline(init_bias=initialize_intercepts)\n",
    "model.double() # convert parameters to double, this seems to prevent an error...\n",
    "model.to(device)"
   ]
  },
  {
   "cell_type": "code",
   "execution_count": 54,
   "id": "86471ce6-aa39-437a-86fb-91610b2776f6",
   "metadata": {},
   "outputs": [],
   "source": [
    "X, y = dataset[[0,1,2]] # fetch the first three examples to test the model "
   ]
  },
  {
   "cell_type": "code",
   "execution_count": 55,
   "id": "0af7e4e1-e356-489f-ac12-88114b513b72",
   "metadata": {},
   "outputs": [
    {
     "data": {
      "text/plain": [
       "torch.Size([3, 758])"
      ]
     },
     "execution_count": 55,
     "metadata": {},
     "output_type": "execute_result"
    }
   ],
   "source": [
    "pred = model(X) # seems to work\n",
    "pred.shape"
   ]
  },
  {
   "cell_type": "code",
   "execution_count": 56,
   "id": "571c255b-06ad-4fa3-b5d8-973d8c9349b4",
   "metadata": {},
   "outputs": [
    {
     "name": "stdout",
     "output_type": "stream",
     "text": [
      "Layer: linear.weight | Size: torch.Size([758, 16]) | Values : tensor([[-0.1011, -0.1518,  0.1413, -0.0705,  0.0984, -0.0646, -0.1483, -0.2338,\n",
      "          0.0011, -0.0627,  0.1798,  0.0069,  0.0056, -0.1977,  0.1490, -0.1483],\n",
      "        [-0.0758, -0.1114, -0.2318,  0.0660,  0.2371, -0.0966,  0.1704, -0.2197,\n",
      "          0.0561,  0.0914,  0.1449,  0.1951,  0.0119,  0.0962, -0.1602,  0.0796]],\n",
      "       dtype=torch.float64, grad_fn=<SliceBackward0>) \n",
      "\n",
      "Layer: linear.bias | Size: torch.Size([758]) | Values : tensor([-2.2081, -2.8649], dtype=torch.float64, grad_fn=<SliceBackward0>) \n",
      "\n"
     ]
    }
   ],
   "source": [
    "# the only learnable weights come from the linear layer\n",
    "for name, param in model.named_parameters():\n",
    "    print(f\"Layer: {name} | Size: {param.size()} | Values : {param[:2]} \\n\")"
   ]
  },
  {
   "cell_type": "code",
   "execution_count": 57,
   "id": "73ec7249-11dc-4a5e-b7cd-728c00d4e07f",
   "metadata": {},
   "outputs": [],
   "source": [
    "learning_rate = 1e-2 \n",
    "epochs = 20"
   ]
  },
  {
   "cell_type": "code",
   "execution_count": 58,
   "id": "99c41f5e-63e8-43b9-9793-26059b875c85",
   "metadata": {},
   "outputs": [],
   "source": [
    "loss_fn = nn.BCELoss(reduction='mean')"
   ]
  },
  {
   "cell_type": "code",
   "execution_count": 59,
   "id": "0abf34d4-c838-4547-93eb-73fe6788dbe6",
   "metadata": {},
   "outputs": [],
   "source": [
    "optimizer = torch.optim.Adam(model.parameters(), lr=learning_rate, amsgrad=True)"
   ]
  },
  {
   "cell_type": "code",
   "execution_count": 60,
   "id": "afccfa22-09dd-4f02-8b51-b49092ef331e",
   "metadata": {},
   "outputs": [],
   "source": [
    "# see pytorch toturial for more. There are probably better ways to do this...\n",
    "\n",
    "def train_loop(loader, model, loss_fn, optimizer):\n",
    "    size = len(i_train)\n",
    "    for batch, (X, y) in enumerate(loader):\n",
    "        \n",
    "        X = X[0]\n",
    "        y = y[0]\n",
    "        \n",
    "        # Compute prediction and loss\n",
    "        pred = model(X)\n",
    "        loss = loss_fn(pred, y)\n",
    "\n",
    "        # Backpropagation\n",
    "        optimizer.zero_grad()\n",
    "        loss.backward()\n",
    "        optimizer.step()\n",
    "\n",
    "        if batch % 2 == 0:\n",
    "            loss, current = loss.item(), batch * len(X)\n",
    "            print(f\"loss: {loss:>7f}  [{current:>5d}/{size:>5d}]\")\n",
    "            \n",
    "            \n",
    "def test_loop(loader, model, loss_fn):\n",
    "\n",
    "    size = len(i_test)\n",
    "    num_batches = len(loader)\n",
    "\n",
    "    test_loss = 0\n",
    "    \n",
    "    with torch.no_grad():\n",
    "        for X, y in loader:\n",
    "            \n",
    "            X = X[0]\n",
    "            y = y[0]\n",
    "            \n",
    "            pred = model(X)\n",
    "            test_loss += loss_fn(pred, y).item()\n",
    "\n",
    "    test_loss /= num_batches\n",
    "    print(f\"Test Avg loss: {test_loss:>8f} \\n\")"
   ]
  },
  {
   "cell_type": "code",
   "execution_count": 61,
   "id": "9e070680-fce9-4e0c-8a14-eaf5e97745ac",
   "metadata": {},
   "outputs": [
    {
     "name": "stdout",
     "output_type": "stream",
     "text": [
      "Epoch 1\n",
      "-------------------------------\n",
      "loss: 0.151744  [    0/ 9005]\n",
      "loss: 0.149520  [ 4096/ 9005]\n",
      "loss: 0.156871  [ 3252/ 9005]\n",
      "Test Avg loss: 0.142853 \n",
      "\n",
      "Epoch 2\n",
      "-------------------------------\n",
      "loss: 0.148706  [    0/ 9005]\n",
      "loss: 0.150811  [ 4096/ 9005]\n",
      "loss: 0.147655  [ 3252/ 9005]\n",
      "Test Avg loss: 0.142300 \n",
      "\n",
      "Epoch 3\n",
      "-------------------------------\n",
      "loss: 0.154479  [    0/ 9005]\n",
      "loss: 0.146229  [ 4096/ 9005]\n",
      "loss: 0.151316  [ 3252/ 9005]\n",
      "Test Avg loss: 0.141923 \n",
      "\n",
      "Epoch 4\n",
      "-------------------------------\n",
      "loss: 0.150210  [    0/ 9005]\n",
      "loss: 0.145272  [ 4096/ 9005]\n",
      "loss: 0.145190  [ 3252/ 9005]\n",
      "Test Avg loss: 0.141649 \n",
      "\n",
      "Epoch 5\n",
      "-------------------------------\n",
      "loss: 0.153475  [    0/ 9005]\n",
      "loss: 0.153890  [ 4096/ 9005]\n",
      "loss: 0.142880  [ 3252/ 9005]\n",
      "Test Avg loss: 0.141451 \n",
      "\n",
      "Epoch 6\n",
      "-------------------------------\n",
      "loss: 0.144945  [    0/ 9005]\n",
      "loss: 0.153885  [ 4096/ 9005]\n",
      "loss: 0.145721  [ 3252/ 9005]\n",
      "Test Avg loss: 0.141305 \n",
      "\n",
      "Epoch 7\n",
      "-------------------------------\n",
      "loss: 0.146831  [    0/ 9005]\n",
      "loss: 0.160074  [ 4096/ 9005]\n",
      "loss: 0.148239  [ 3252/ 9005]\n",
      "Test Avg loss: 0.141181 \n",
      "\n",
      "Epoch 8\n",
      "-------------------------------\n",
      "loss: 0.151478  [    0/ 9005]\n",
      "loss: 0.143321  [ 4096/ 9005]\n",
      "loss: 0.145695  [ 3252/ 9005]\n",
      "Test Avg loss: 0.141078 \n",
      "\n",
      "Epoch 9\n",
      "-------------------------------\n",
      "loss: 0.147083  [    0/ 9005]\n",
      "loss: 0.143315  [ 4096/ 9005]\n",
      "loss: 0.159089  [ 3252/ 9005]\n",
      "Test Avg loss: 0.140985 \n",
      "\n",
      "Epoch 10\n",
      "-------------------------------\n",
      "loss: 0.152786  [    0/ 9005]\n",
      "loss: 0.150910  [ 4096/ 9005]\n",
      "loss: 0.141623  [ 3252/ 9005]\n",
      "Test Avg loss: 0.140896 \n",
      "\n",
      "Epoch 11\n",
      "-------------------------------\n",
      "loss: 0.152774  [    0/ 9005]\n",
      "loss: 0.155832  [ 4096/ 9005]\n",
      "loss: 0.145338  [ 3252/ 9005]\n",
      "Test Avg loss: 0.140801 \n",
      "\n",
      "Epoch 12\n",
      "-------------------------------\n",
      "loss: 0.148797  [    0/ 9005]\n",
      "loss: 0.148774  [ 4096/ 9005]\n",
      "loss: 0.152945  [ 3252/ 9005]\n",
      "Test Avg loss: 0.140694 \n",
      "\n",
      "Epoch 13\n",
      "-------------------------------\n",
      "loss: 0.147062  [    0/ 9005]\n",
      "loss: 0.149680  [ 4096/ 9005]\n",
      "loss: 0.142432  [ 3252/ 9005]\n",
      "Test Avg loss: 0.140610 \n",
      "\n",
      "Epoch 14\n",
      "-------------------------------\n",
      "loss: 0.146781  [    0/ 9005]\n",
      "loss: 0.143694  [ 4096/ 9005]\n",
      "loss: 0.148268  [ 3252/ 9005]\n",
      "Test Avg loss: 0.140510 \n",
      "\n",
      "Epoch 15\n",
      "-------------------------------\n",
      "loss: 0.147646  [    0/ 9005]\n",
      "loss: 0.150110  [ 4096/ 9005]\n",
      "loss: 0.151443  [ 3252/ 9005]\n",
      "Test Avg loss: 0.140407 \n",
      "\n",
      "Epoch 16\n",
      "-------------------------------\n",
      "loss: 0.152041  [    0/ 9005]\n",
      "loss: 0.154124  [ 4096/ 9005]\n",
      "loss: 0.152592  [ 3252/ 9005]\n",
      "Test Avg loss: 0.140328 \n",
      "\n",
      "Epoch 17\n",
      "-------------------------------\n",
      "loss: 0.148499  [    0/ 9005]\n",
      "loss: 0.146221  [ 4096/ 9005]\n",
      "loss: 0.148689  [ 3252/ 9005]\n",
      "Test Avg loss: 0.140253 \n",
      "\n",
      "Epoch 18\n",
      "-------------------------------\n",
      "loss: 0.145826  [    0/ 9005]\n",
      "loss: 0.147669  [ 4096/ 9005]\n",
      "loss: 0.148690  [ 3252/ 9005]\n",
      "Test Avg loss: 0.140169 \n",
      "\n",
      "Epoch 19\n",
      "-------------------------------\n",
      "loss: 0.143428  [    0/ 9005]\n",
      "loss: 0.146910  [ 4096/ 9005]\n",
      "loss: 0.156182  [ 3252/ 9005]\n",
      "Test Avg loss: 0.140069 \n",
      "\n",
      "Epoch 20\n",
      "-------------------------------\n",
      "loss: 0.143570  [    0/ 9005]\n",
      "loss: 0.146613  [ 4096/ 9005]\n",
      "loss: 0.166359  [ 3252/ 9005]\n",
      "Test Avg loss: 0.139978 \n",
      "\n",
      "Done!\n"
     ]
    }
   ],
   "source": [
    "# as we loop over the dataset multiple times, the loss should go down...\n",
    "\n",
    "for t in range(epochs):\n",
    "    print(f\"Epoch {t+1}\\n-------------------------------\")\n",
    "    train_loop(train_dataloader, model, loss_fn, optimizer)\n",
    "    test_loop(test_dataloader, model, loss_fn)\n",
    "print(\"Done!\")"
   ]
  },
  {
   "cell_type": "code",
   "execution_count": 62,
   "id": "29a494d5-9903-4418-b109-6769a2bdce83",
   "metadata": {},
   "outputs": [],
   "source": [
    "params_pytorch = model.get_parameter('linear.weight').detach().numpy()"
   ]
  },
  {
   "cell_type": "code",
   "execution_count": 63,
   "id": "de1920f1-607b-447e-82d9-fb013dd03907",
   "metadata": {},
   "outputs": [
    {
     "data": {
      "text/plain": [
       "(758, 16)"
      ]
     },
     "execution_count": 63,
     "metadata": {},
     "output_type": "execute_result"
    }
   ],
   "source": [
    "params_pytorch.shape"
   ]
  },
  {
   "cell_type": "code",
   "execution_count": 64,
   "id": "721f7e21-eb03-4fc3-9c33-87b8b121f539",
   "metadata": {},
   "outputs": [],
   "source": [
    "params_pytorch_mean = params_pytorch.mean(axis=0)"
   ]
  },
  {
   "cell_type": "code",
   "execution_count": 65,
   "id": "f2be8112-e070-4615-9473-d5dc198386eb",
   "metadata": {},
   "outputs": [],
   "source": [
    "from matplotlib import pyplot as plt"
   ]
  },
  {
   "cell_type": "code",
   "execution_count": 66,
   "id": "c13f6147-4a3f-4fb0-bb82-650e551bf7cc",
   "metadata": {},
   "outputs": [
    {
     "data": {
      "text/plain": [
       "<matplotlib.collections.PathCollection at 0x7fc4f9d43100>"
      ]
     },
     "execution_count": 66,
     "metadata": {},
     "output_type": "execute_result"
    },
    {
     "data": {
      "image/png": "[encoded data removed]",
      "text/plain": [
       "<Figure size 432x288 with 1 Axes>"
      ]
     },
     "metadata": {
      "needs_background": "light"
     },
     "output_type": "display_data"
    }
   ],
   "source": [
    "plt.scatter(params_sklearn_mean, params_pytorch_mean) # the two models learn similar average weights..."
   ]
  },
  {
   "cell_type": "code",
   "execution_count": 67,
   "id": "22da9021-10d6-4c5e-859e-340b43fbf0d0",
   "metadata": {},
   "outputs": [],
   "source": [
    "param_min = params_pytorch.min(axis=0)\n",
    "param_max = params_pytorch.max(axis=0)\n",
    "param_std = params_pytorch.std(axis=0)"
   ]
  },
  {
   "cell_type": "code",
   "execution_count": 68,
   "id": "c24e5fb2-0bf4-454d-a5dd-16debb511077",
   "metadata": {},
   "outputs": [
    {
     "name": "stdout",
     "output_type": "stream",
     "text": [
      "AA: mean = -0.3788 (vs -0.6427), std = 0.3161, min = -1.0758, max = 0.8354\n",
      "AC: mean = -0.2312 (vs -0.3373), std = 0.2795, min = -0.8853, max = 0.8735\n",
      "AG: mean = -0.0779 (vs -0.4287), std = 0.2537, min = -0.6264, max = 0.8030\n",
      "AT: mean = -0.5665 (vs -1.8189), std = 0.3746, min = -1.1027, max = 0.9474\n",
      "CA: mean = -0.2956 (vs -1.1070), std = 0.2670, min = -0.8037, max = 0.6854\n",
      "CC: mean = 0.4942 (vs 1.6911), std = 0.4184, min = -0.6875, max = 1.2066\n",
      "CG: mean = 0.7717 (vs 3.0203), std = 0.3911, min = -0.9480, max = 1.2622\n",
      "CT: mean = -0.1348 (vs -0.5176), std = 0.2523, min = -0.7001, max = 0.8375\n",
      "GA: mean = -0.1359 (vs -0.3457), std = 0.2379, min = -0.7921, max = 0.7163\n",
      "GC: mean = 0.6301 (vs 2.2050), std = 0.3731, min = -0.7876, max = 1.2122\n",
      "GG: mean = 0.5334 (vs 1.9564), std = 0.4164, min = -0.8176, max = 1.2018\n",
      "GT: mean = -0.1910 (vs -0.2636), std = 0.2853, min = -0.7828, max = 0.7436\n",
      "TA: mean = -0.5051 (vs -1.1551), std = 0.4249, min = -1.1015, max = 0.9175\n",
      "TC: mean = -0.1925 (vs -0.4494), std = 0.2390, min = -0.6833, max = 0.8568\n",
      "TG: mean = -0.2697 (vs -0.9986), std = 0.2710, min = -0.8399, max = 0.9516\n",
      "TT: mean = -0.3875 (vs -0.8139), std = 0.3387, min = -1.0727, max = 0.8314\n"
     ]
    }
   ],
   "source": [
    "for k, v in mapping.items():\n",
    "    print(f'{k}: mean = {params_pytorch_mean[v]:.4f} (vs {params_sklearn_mean[v]:.4f}), std = {param_std[v]:.4f}, min = {param_min[v]:.4f}, max = {param_max[v]:.4f}')"
   ]
  },
  {
   "cell_type": "code",
   "execution_count": 69,
   "id": "250a7569-cd6b-4ced-9945-ef6dd4c175d4",
   "metadata": {},
   "outputs": [],
   "source": [
    "X_test, y_test = dataset[i_test]"
   ]
  },
  {
   "cell_type": "code",
   "execution_count": 70,
   "id": "2a0ca514-e692-4228-83ce-2e99c89bc140",
   "metadata": {},
   "outputs": [],
   "source": [
    "y_hat = model(X_test)"
   ]
  },
  {
   "cell_type": "code",
   "execution_count": 71,
   "id": "183d9366-2b6c-447a-b09e-c26fefb9f3ef",
   "metadata": {},
   "outputs": [],
   "source": [
    "y_hat = y_hat.detach().numpy()"
   ]
  },
  {
   "cell_type": "code",
   "execution_count": 72,
   "id": "87e84a7b-cc7f-4ca8-a9f9-b71136fb58c7",
   "metadata": {},
   "outputs": [],
   "source": [
    "y_test = y_test.numpy()"
   ]
  },
  {
   "cell_type": "code",
   "execution_count": 73,
   "id": "37b0abc1-c079-48e3-93ae-232ab6b8a929",
   "metadata": {},
   "outputs": [
    {
     "data": {
      "text/plain": [
       "True"
      ]
     },
     "execution_count": 73,
     "metadata": {},
     "output_type": "execute_result"
    }
   ],
   "source": [
    "y_test.shape == y_hat.shape"
   ]
  },
  {
   "cell_type": "code",
   "execution_count": 74,
   "id": "ae34fce5-def1-437c-923e-aa2f92f2c04e",
   "metadata": {},
   "outputs": [],
   "source": [
    "rocs_pytorch = [ roc_auc_score(y_test[:,i], y_hat[:,i]) for i in rocs_i ]"
   ]
  },
  {
   "cell_type": "code",
   "execution_count": 75,
   "id": "abb355bb-a6de-40ff-915f-5c04e83726c8",
   "metadata": {},
   "outputs": [
    {
     "data": {
      "text/plain": [
       "0.6543693765445399"
      ]
     },
     "execution_count": 75,
     "metadata": {},
     "output_type": "execute_result"
    }
   ],
   "source": [
    "np.mean(rocs_pytorch) # the average classifier performance "
   ]
  },
  {
   "cell_type": "code",
   "execution_count": 76,
   "id": "f17ae18a-7d66-4e20-9a02-fb9e93020558",
   "metadata": {},
   "outputs": [],
   "source": [
    "rocs_pytorch_argsort = np.argsort(-np.array(rocs_pytorch))"
   ]
  },
  {
   "cell_type": "code",
   "execution_count": 77,
   "id": "771e0764-23a8-4c53-aaea-18fe6266cd47",
   "metadata": {},
   "outputs": [
    {
     "data": {
      "text/plain": [
       "<matplotlib.collections.PathCollection at 0x7fc4f9c294f0>"
      ]
     },
     "execution_count": 77,
     "metadata": {},
     "output_type": "execute_result"
    },
    {
     "data": {
      "image/png": "[encoded data removed]",
      "text/plain": [
       "<Figure size 432x288 with 1 Axes>"
      ]
     },
     "metadata": {
      "needs_background": "light"
     },
     "output_type": "display_data"
    }
   ],
   "source": [
    "plt.scatter(rocs_sklearn, rocs_pytorch)"
   ]
  },
  {
   "cell_type": "code",
   "execution_count": 78,
   "id": "8b131cf7-b22b-4a5f-a89d-c484f08ffdf8",
   "metadata": {},
   "outputs": [
    {
     "data": {
      "text/plain": [
       "array([[1.        , 0.98260448],\n",
       "       [0.98260448, 1.        ]])"
      ]
     },
     "execution_count": 78,
     "metadata": {},
     "output_type": "execute_result"
    }
   ],
   "source": [
    "np.corrcoef(rocs_pytorch, rocs_sklearn)"
   ]
  },
  {
   "cell_type": "code",
   "execution_count": 79,
   "id": "03f79754-d3d1-421e-b5fe-b165c45d187f",
   "metadata": {},
   "outputs": [
    {
     "data": {
      "text/plain": [
       "array([ 84, 253, 345, 233,  57,  80, 708, 524, 198,  67])"
      ]
     },
     "execution_count": 79,
     "metadata": {},
     "output_type": "execute_result"
    }
   ],
   "source": [
    "rocs_pytorch_argsort[0:10]"
   ]
  },
  {
   "cell_type": "code",
   "execution_count": 80,
   "id": "fdc0a086-413e-4e65-b69b-c7f5a8d26d85",
   "metadata": {},
   "outputs": [
    {
     "data": {
      "text/plain": [
       "array([ 84, 253, 327, 524, 345,  57,  80, 467, 127, 673])"
      ]
     },
     "execution_count": 80,
     "metadata": {},
     "output_type": "execute_result"
    }
   ],
   "source": [
    "rocs_sklearn_argsort[0:10]"
   ]
  },
  {
   "cell_type": "code",
   "execution_count": 81,
   "id": "7247c9b3-fe2d-4c15-8453-cb1c9bee153d",
   "metadata": {},
   "outputs": [],
   "source": [
    "import pandas as pd"
   ]
  },
  {
   "cell_type": "markdown",
   "id": "03d7a157-9cd5-48d7-8227-0e04952002f4",
   "metadata": {},
   "source": [
    "### Loading Metadata\n",
    "For every output class, I have calculated different quality metrics (`*_QC.tsv`) and extracted relevant metadata (`*_metadata_processed.tsv`)."
   ]
  },
  {
   "cell_type": "code",
   "execution_count": 83,
   "id": "d91cad50-38fc-4ec1-8d8c-25ec405f4a36",
   "metadata": {},
   "outputs": [],
   "source": [
    "md_qc = pd.read_csv('../220407_mm10_roi_mincov2_nc10_QC.tsv', sep='\\t')\n",
    "md = pd.read_csv('data/processed/221111_encode_metadata_processed.tsv', sep='\\t')"
   ]
  },
  {
   "cell_type": "code",
   "execution_count": 84,
   "id": "f72a2dd9-4aac-4b70-a2d4-c7608a7535ff",
   "metadata": {},
   "outputs": [
    {
     "data": {
      "text/html": [
       "<div>\n",
       "<style scoped>\n",
       "    .dataframe tbody tr th:only-of-type {\n",
       "        vertical-align: middle;\n",
       "    }\n",
       "\n",
       "    .dataframe tbody tr th {\n",
       "        vertical-align: top;\n",
       "    }\n",
       "\n",
       "    .dataframe thead th {\n",
       "        text-align: right;\n",
       "    }\n",
       "</style>\n",
       "<table border=\"1\" class=\"dataframe\">\n",
       "  <thead>\n",
       "    <tr style=\"text-align: right;\">\n",
       "      <th></th>\n",
       "      <th>File_accession</th>\n",
       "      <th>Biosample_term_name</th>\n",
       "      <th>Biosample_organ_slims</th>\n",
       "      <th>Biosample_system_slims</th>\n",
       "      <th>Biosample_developmental_slims</th>\n",
       "      <th>Biosample_organism</th>\n",
       "      <th>proc_Assay_lvl1</th>\n",
       "      <th>proc_target</th>\n",
       "      <th>Experiment_date_released</th>\n",
       "      <th>Library_lab</th>\n",
       "      <th>spot2_score</th>\n",
       "      <th>five_percent_narrowpeaks_count</th>\n",
       "      <th>frip</th>\n",
       "      <th>reproducible_peaks</th>\n",
       "      <th>proc_age_bin</th>\n",
       "      <th>proc_age_bin_units</th>\n",
       "      <th>proc_Biosample_life_stage</th>\n",
       "    </tr>\n",
       "  </thead>\n",
       "  <tbody>\n",
       "    <tr>\n",
       "      <th>0</th>\n",
       "      <td>ENCFF007FAW</td>\n",
       "      <td>gastroesophageal sphincter</td>\n",
       "      <td>musculature of body,stomach</td>\n",
       "      <td>digestive system,musculature</td>\n",
       "      <td>endoderm</td>\n",
       "      <td>Homo sapiens</td>\n",
       "      <td>ATAC-seq</td>\n",
       "      <td>Accessible DNA</td>\n",
       "      <td>2016-06-15</td>\n",
       "      <td>/labs/michael-snyder/</td>\n",
       "      <td>NaN</td>\n",
       "      <td>NaN</td>\n",
       "      <td>0.220021</td>\n",
       "      <td>148398.0</td>\n",
       "      <td>50</td>\n",
       "      <td>year</td>\n",
       "      <td>adult</td>\n",
       "    </tr>\n",
       "    <tr>\n",
       "      <th>1</th>\n",
       "      <td>ENCFF009YES</td>\n",
       "      <td>left colon</td>\n",
       "      <td>colon,intestine,large intestine</td>\n",
       "      <td>digestive system</td>\n",
       "      <td>endoderm</td>\n",
       "      <td>Homo sapiens</td>\n",
       "      <td>ATAC-seq</td>\n",
       "      <td>Accessible DNA</td>\n",
       "      <td>2020-08-17</td>\n",
       "      <td>/labs/michael-snyder/</td>\n",
       "      <td>NaN</td>\n",
       "      <td>NaN</td>\n",
       "      <td>0.557630</td>\n",
       "      <td>260427.0</td>\n",
       "      <td>45</td>\n",
       "      <td>year</td>\n",
       "      <td>adult</td>\n",
       "    </tr>\n",
       "    <tr>\n",
       "      <th>2</th>\n",
       "      <td>ENCFF010JOP</td>\n",
       "      <td>adrenal gland</td>\n",
       "      <td>adrenal gland,endocrine gland</td>\n",
       "      <td>endocrine system</td>\n",
       "      <td>ectoderm,mesoderm</td>\n",
       "      <td>Homo sapiens</td>\n",
       "      <td>ATAC-seq</td>\n",
       "      <td>Accessible DNA</td>\n",
       "      <td>2016-10-31</td>\n",
       "      <td>/labs/michael-snyder/</td>\n",
       "      <td>NaN</td>\n",
       "      <td>NaN</td>\n",
       "      <td>0.282873</td>\n",
       "      <td>213082.0</td>\n",
       "      <td>50</td>\n",
       "      <td>year</td>\n",
       "      <td>adult</td>\n",
       "    </tr>\n",
       "    <tr>\n",
       "      <th>3</th>\n",
       "      <td>ENCFF012BKZ</td>\n",
       "      <td>heart right ventricle</td>\n",
       "      <td>heart</td>\n",
       "      <td>circulatory system</td>\n",
       "      <td>mesoderm</td>\n",
       "      <td>Homo sapiens</td>\n",
       "      <td>ATAC-seq</td>\n",
       "      <td>Accessible DNA</td>\n",
       "      <td>2020-08-05</td>\n",
       "      <td>/labs/michael-snyder/</td>\n",
       "      <td>NaN</td>\n",
       "      <td>NaN</td>\n",
       "      <td>0.320655</td>\n",
       "      <td>237529.0</td>\n",
       "      <td>60</td>\n",
       "      <td>year</td>\n",
       "      <td>adult</td>\n",
       "    </tr>\n",
       "    <tr>\n",
       "      <th>4</th>\n",
       "      <td>ENCFF018EMP</td>\n",
       "      <td>sigmoid colon</td>\n",
       "      <td>colon,intestine,large intestine</td>\n",
       "      <td>digestive system</td>\n",
       "      <td>endoderm</td>\n",
       "      <td>Homo sapiens</td>\n",
       "      <td>ATAC-seq</td>\n",
       "      <td>Accessible DNA</td>\n",
       "      <td>2016-06-15</td>\n",
       "      <td>/labs/michael-snyder/</td>\n",
       "      <td>NaN</td>\n",
       "      <td>NaN</td>\n",
       "      <td>0.128024</td>\n",
       "      <td>123460.0</td>\n",
       "      <td>35</td>\n",
       "      <td>year</td>\n",
       "      <td>adult</td>\n",
       "    </tr>\n",
       "  </tbody>\n",
       "</table>\n",
       "</div>"
      ],
      "text/plain": [
       "  File_accession         Biosample_term_name            Biosample_organ_slims  \\\n",
       "0    ENCFF007FAW  gastroesophageal sphincter      musculature of body,stomach   \n",
       "1    ENCFF009YES                  left colon  colon,intestine,large intestine   \n",
       "2    ENCFF010JOP               adrenal gland    adrenal gland,endocrine gland   \n",
       "3    ENCFF012BKZ       heart right ventricle                            heart   \n",
       "4    ENCFF018EMP               sigmoid colon  colon,intestine,large intestine   \n",
       "\n",
       "         Biosample_system_slims Biosample_developmental_slims  \\\n",
       "0  digestive system,musculature                      endoderm   \n",
       "1              digestive system                      endoderm   \n",
       "2              endocrine system             ectoderm,mesoderm   \n",
       "3            circulatory system                      mesoderm   \n",
       "4              digestive system                      endoderm   \n",
       "\n",
       "  Biosample_organism proc_Assay_lvl1     proc_target Experiment_date_released  \\\n",
       "0       Homo sapiens        ATAC-seq  Accessible DNA               2016-06-15   \n",
       "1       Homo sapiens        ATAC-seq  Accessible DNA               2020-08-17   \n",
       "2       Homo sapiens        ATAC-seq  Accessible DNA               2016-10-31   \n",
       "3       Homo sapiens        ATAC-seq  Accessible DNA               2020-08-05   \n",
       "4       Homo sapiens        ATAC-seq  Accessible DNA               2016-06-15   \n",
       "\n",
       "             Library_lab  spot2_score  five_percent_narrowpeaks_count  \\\n",
       "0  /labs/michael-snyder/          NaN                             NaN   \n",
       "1  /labs/michael-snyder/          NaN                             NaN   \n",
       "2  /labs/michael-snyder/          NaN                             NaN   \n",
       "3  /labs/michael-snyder/          NaN                             NaN   \n",
       "4  /labs/michael-snyder/          NaN                             NaN   \n",
       "\n",
       "       frip  reproducible_peaks proc_age_bin proc_age_bin_units  \\\n",
       "0  0.220021            148398.0           50               year   \n",
       "1  0.557630            260427.0           45               year   \n",
       "2  0.282873            213082.0           50               year   \n",
       "3  0.320655            237529.0           60               year   \n",
       "4  0.128024            123460.0           35               year   \n",
       "\n",
       "  proc_Biosample_life_stage  \n",
       "0                     adult  \n",
       "1                     adult  \n",
       "2                     adult  \n",
       "3                     adult  \n",
       "4                     adult  "
      ]
     },
     "execution_count": 84,
     "metadata": {},
     "output_type": "execute_result"
    }
   ],
   "source": [
    "md.rename(columns={c: c.replace('.','_') for c in md.columns}, inplace=True)\n",
    "md_qc.rename(columns={c: c.replace('.','_') for c in md.columns}, inplace=True)\n",
    "md_qc.rename(columns={'Unnamed: 0': 'File_accession'}, inplace=True)\n",
    "# 221111_encode_metadata_processed.tsv contains information about the different classes\n",
    "# later I would like to incorporate this metadata into the learning process\n",
    "md.head()"
   ]
  },
  {
   "cell_type": "code",
   "execution_count": 85,
   "id": "dd75a8e4-5ccf-4575-a9ca-a9c68bbd711c",
   "metadata": {},
   "outputs": [
    {
     "data": {
      "text/html": [
       "<div>\n",
       "<style scoped>\n",
       "    .dataframe tbody tr th:only-of-type {\n",
       "        vertical-align: middle;\n",
       "    }\n",
       "\n",
       "    .dataframe tbody tr th {\n",
       "        vertical-align: top;\n",
       "    }\n",
       "\n",
       "    .dataframe thead th {\n",
       "        text-align: right;\n",
       "    }\n",
       "</style>\n",
       "<table border=\"1\" class=\"dataframe\">\n",
       "  <thead>\n",
       "    <tr style=\"text-align: right;\">\n",
       "      <th></th>\n",
       "      <th>File_accession</th>\n",
       "      <th>N_peaks</th>\n",
       "      <th>bp_covered</th>\n",
       "      <th>non_zero</th>\n",
       "      <th>score_max</th>\n",
       "      <th>score_mean</th>\n",
       "      <th>score_median</th>\n",
       "      <th>score_min</th>\n",
       "      <th>score_q25</th>\n",
       "      <th>score_q75</th>\n",
       "      <th>...</th>\n",
       "      <th>TSS_rRNA_norm</th>\n",
       "      <th>TSS_protein_coding_norm</th>\n",
       "      <th>TSS_protein_coding_enrich</th>\n",
       "      <th>TSS_rRNA_enrich</th>\n",
       "      <th>promoter_protein_coding_enrich</th>\n",
       "      <th>promoter_rRNA_enrich</th>\n",
       "      <th>CDS_enrich</th>\n",
       "      <th>five_prime_UTR_enrich</th>\n",
       "      <th>three_prime_UTR_enrich</th>\n",
       "      <th>intron_enrich</th>\n",
       "    </tr>\n",
       "  </thead>\n",
       "  <tbody>\n",
       "    <tr>\n",
       "      <th>0</th>\n",
       "      <td>ENCFF002XJG</td>\n",
       "      <td>82229.0</td>\n",
       "      <td>81740382.0</td>\n",
       "      <td>0.076776</td>\n",
       "      <td>51.37603</td>\n",
       "      <td>5.808675</td>\n",
       "      <td>3.49267</td>\n",
       "      <td>1.52413</td>\n",
       "      <td>2.92934</td>\n",
       "      <td>5.18267</td>\n",
       "      <td>...</td>\n",
       "      <td>0.000013</td>\n",
       "      <td>0.046774</td>\n",
       "      <td>6.282752</td>\n",
       "      <td>0.609353</td>\n",
       "      <td>3.230623</td>\n",
       "      <td>0.944315</td>\n",
       "      <td>1.618092</td>\n",
       "      <td>7.558782</td>\n",
       "      <td>0.812239</td>\n",
       "      <td>1.004789</td>\n",
       "    </tr>\n",
       "    <tr>\n",
       "      <th>1</th>\n",
       "      <td>ENCFF003ZHW</td>\n",
       "      <td>114650.0</td>\n",
       "      <td>55550458.0</td>\n",
       "      <td>0.052965</td>\n",
       "      <td>33.72993</td>\n",
       "      <td>5.182979</td>\n",
       "      <td>4.52612</td>\n",
       "      <td>1.64214</td>\n",
       "      <td>3.67524</td>\n",
       "      <td>5.82361</td>\n",
       "      <td>...</td>\n",
       "      <td>0.000037</td>\n",
       "      <td>0.008470</td>\n",
       "      <td>1.137740</td>\n",
       "      <td>1.766581</td>\n",
       "      <td>2.029519</td>\n",
       "      <td>1.143098</td>\n",
       "      <td>0.735961</td>\n",
       "      <td>1.406543</td>\n",
       "      <td>0.739062</td>\n",
       "      <td>1.175240</td>\n",
       "    </tr>\n",
       "    <tr>\n",
       "      <th>2</th>\n",
       "      <td>ENCFF005KEI</td>\n",
       "      <td>26259.0</td>\n",
       "      <td>39152987.0</td>\n",
       "      <td>0.037240</td>\n",
       "      <td>88.89063</td>\n",
       "      <td>29.157293</td>\n",
       "      <td>21.50641</td>\n",
       "      <td>1.79028</td>\n",
       "      <td>6.13003</td>\n",
       "      <td>51.03913</td>\n",
       "      <td>...</td>\n",
       "      <td>0.000007</td>\n",
       "      <td>0.097153</td>\n",
       "      <td>13.049627</td>\n",
       "      <td>0.314073</td>\n",
       "      <td>6.673177</td>\n",
       "      <td>0.915372</td>\n",
       "      <td>2.884329</td>\n",
       "      <td>16.072423</td>\n",
       "      <td>0.877384</td>\n",
       "      <td>1.062593</td>\n",
       "    </tr>\n",
       "    <tr>\n",
       "      <th>3</th>\n",
       "      <td>ENCFF007CPI</td>\n",
       "      <td>23744.0</td>\n",
       "      <td>15436497.0</td>\n",
       "      <td>0.014667</td>\n",
       "      <td>8.81765</td>\n",
       "      <td>3.084503</td>\n",
       "      <td>3.03107</td>\n",
       "      <td>1.47350</td>\n",
       "      <td>2.69612</td>\n",
       "      <td>3.39847</td>\n",
       "      <td>...</td>\n",
       "      <td>0.000017</td>\n",
       "      <td>0.003311</td>\n",
       "      <td>0.444699</td>\n",
       "      <td>0.797453</td>\n",
       "      <td>0.485076</td>\n",
       "      <td>0.555033</td>\n",
       "      <td>0.892906</td>\n",
       "      <td>0.549952</td>\n",
       "      <td>0.750346</td>\n",
       "      <td>0.461093</td>\n",
       "    </tr>\n",
       "    <tr>\n",
       "      <th>4</th>\n",
       "      <td>ENCFF007IBG</td>\n",
       "      <td>33737.0</td>\n",
       "      <td>23385330.0</td>\n",
       "      <td>0.021951</td>\n",
       "      <td>13.35389</td>\n",
       "      <td>3.383962</td>\n",
       "      <td>3.28374</td>\n",
       "      <td>1.56708</td>\n",
       "      <td>2.89331</td>\n",
       "      <td>3.72158</td>\n",
       "      <td>...</td>\n",
       "      <td>0.000011</td>\n",
       "      <td>0.002713</td>\n",
       "      <td>0.364476</td>\n",
       "      <td>0.532807</td>\n",
       "      <td>0.445620</td>\n",
       "      <td>0.869149</td>\n",
       "      <td>0.715297</td>\n",
       "      <td>0.448980</td>\n",
       "      <td>0.633166</td>\n",
       "      <td>0.477933</td>\n",
       "    </tr>\n",
       "  </tbody>\n",
       "</table>\n",
       "<p>5 rows × 264 columns</p>\n",
       "</div>"
      ],
      "text/plain": [
       "  File_accession   N_peaks  bp_covered  non_zero  score_max  score_mean  \\\n",
       "0    ENCFF002XJG   82229.0  81740382.0  0.076776   51.37603    5.808675   \n",
       "1    ENCFF003ZHW  114650.0  55550458.0  0.052965   33.72993    5.182979   \n",
       "2    ENCFF005KEI   26259.0  39152987.0  0.037240   88.89063   29.157293   \n",
       "3    ENCFF007CPI   23744.0  15436497.0  0.014667    8.81765    3.084503   \n",
       "4    ENCFF007IBG   33737.0  23385330.0  0.021951   13.35389    3.383962   \n",
       "\n",
       "   score_median  score_min  score_q25  score_q75  ...  TSS_rRNA_norm  \\\n",
       "0       3.49267    1.52413    2.92934    5.18267  ...       0.000013   \n",
       "1       4.52612    1.64214    3.67524    5.82361  ...       0.000037   \n",
       "2      21.50641    1.79028    6.13003   51.03913  ...       0.000007   \n",
       "3       3.03107    1.47350    2.69612    3.39847  ...       0.000017   \n",
       "4       3.28374    1.56708    2.89331    3.72158  ...       0.000011   \n",
       "\n",
       "   TSS_protein_coding_norm  TSS_protein_coding_enrich  TSS_rRNA_enrich  \\\n",
       "0                 0.046774                   6.282752         0.609353   \n",
       "1                 0.008470                   1.137740         1.766581   \n",
       "2                 0.097153                  13.049627         0.314073   \n",
       "3                 0.003311                   0.444699         0.797453   \n",
       "4                 0.002713                   0.364476         0.532807   \n",
       "\n",
       "   promoter_protein_coding_enrich  promoter_rRNA_enrich  CDS_enrich  \\\n",
       "0                        3.230623              0.944315    1.618092   \n",
       "1                        2.029519              1.143098    0.735961   \n",
       "2                        6.673177              0.915372    2.884329   \n",
       "3                        0.485076              0.555033    0.892906   \n",
       "4                        0.445620              0.869149    0.715297   \n",
       "\n",
       "   five_prime_UTR_enrich  three_prime_UTR_enrich  intron_enrich  \n",
       "0               7.558782                0.812239       1.004789  \n",
       "1               1.406543                0.739062       1.175240  \n",
       "2              16.072423                0.877384       1.062593  \n",
       "3               0.549952                0.750346       0.461093  \n",
       "4               0.448980                0.633166       0.477933  \n",
       "\n",
       "[5 rows x 264 columns]"
      ]
     },
     "execution_count": 85,
     "metadata": {},
     "output_type": "execute_result"
    }
   ],
   "source": [
    "# 220407_mm10_roi_mincov2_nc10_QC.tsv contains quality metrics....\n",
    "md_qc.head()"
   ]
  },
  {
   "cell_type": "code",
   "execution_count": 86,
   "id": "8272eb5f-26b0-44f9-8765-2a6049fbe4b3",
   "metadata": {},
   "outputs": [],
   "source": [
    "md = md.merge(md_qc, on=['File_accession']).sort_values(['File_accession']).reset_index(drop=True)\n",
    "del(md_qc)"
   ]
  },
  {
   "cell_type": "code",
   "execution_count": 87,
   "id": "675591c9-30c2-4092-96e0-8667b25a6cb5",
   "metadata": {},
   "outputs": [
    {
     "data": {
      "text/plain": [
       "(758, 280)"
      ]
     },
     "execution_count": 87,
     "metadata": {},
     "output_type": "execute_result"
    }
   ],
   "source": [
    "md.shape"
   ]
  },
  {
   "cell_type": "code",
   "execution_count": 88,
   "id": "a7a8f3e9-2879-4815-a2bb-e0a296d287fe",
   "metadata": {},
   "outputs": [],
   "source": [
    "md_filter = md.loc[rocs_i]"
   ]
  },
  {
   "cell_type": "code",
   "execution_count": 89,
   "id": "20870ae2-47e3-4d1a-914e-5f398889feb1",
   "metadata": {},
   "outputs": [
    {
     "data": {
      "text/html": [
       "<div>\n",
       "<style scoped>\n",
       "    .dataframe tbody tr th:only-of-type {\n",
       "        vertical-align: middle;\n",
       "    }\n",
       "\n",
       "    .dataframe tbody tr th {\n",
       "        vertical-align: top;\n",
       "    }\n",
       "\n",
       "    .dataframe thead th {\n",
       "        text-align: right;\n",
       "    }\n",
       "</style>\n",
       "<table border=\"1\" class=\"dataframe\">\n",
       "  <thead>\n",
       "    <tr style=\"text-align: right;\">\n",
       "      <th></th>\n",
       "      <th>File_accession</th>\n",
       "      <th>Biosample_term_name</th>\n",
       "      <th>Biosample_organ_slims</th>\n",
       "      <th>Biosample_system_slims</th>\n",
       "      <th>Biosample_developmental_slims</th>\n",
       "      <th>Biosample_organism</th>\n",
       "      <th>proc_Assay_lvl1</th>\n",
       "      <th>proc_target</th>\n",
       "      <th>Experiment_date_released</th>\n",
       "      <th>Library_lab</th>\n",
       "      <th>...</th>\n",
       "      <th>TSS_rRNA_norm</th>\n",
       "      <th>TSS_protein_coding_norm</th>\n",
       "      <th>TSS_protein_coding_enrich</th>\n",
       "      <th>TSS_rRNA_enrich</th>\n",
       "      <th>promoter_protein_coding_enrich</th>\n",
       "      <th>promoter_rRNA_enrich</th>\n",
       "      <th>CDS_enrich</th>\n",
       "      <th>five_prime_UTR_enrich</th>\n",
       "      <th>three_prime_UTR_enrich</th>\n",
       "      <th>intron_enrich</th>\n",
       "    </tr>\n",
       "  </thead>\n",
       "  <tbody>\n",
       "    <tr>\n",
       "      <th>0</th>\n",
       "      <td>ENCFF002XJG</td>\n",
       "      <td>hindbrain</td>\n",
       "      <td>brain</td>\n",
       "      <td>central nervous system</td>\n",
       "      <td>ectoderm</td>\n",
       "      <td>Mus musculus</td>\n",
       "      <td>ChIP-seq</td>\n",
       "      <td>H3K27ac</td>\n",
       "      <td>2016-07-19</td>\n",
       "      <td>/labs/bing-ren/</td>\n",
       "      <td>...</td>\n",
       "      <td>0.000013</td>\n",
       "      <td>0.046774</td>\n",
       "      <td>6.282752</td>\n",
       "      <td>0.609353</td>\n",
       "      <td>3.230623</td>\n",
       "      <td>0.944315</td>\n",
       "      <td>1.618092</td>\n",
       "      <td>7.558782</td>\n",
       "      <td>0.812239</td>\n",
       "      <td>1.004789</td>\n",
       "    </tr>\n",
       "    <tr>\n",
       "      <th>1</th>\n",
       "      <td>ENCFF003ZHW</td>\n",
       "      <td>liver</td>\n",
       "      <td>endocrine gland,exocrine gland,liver</td>\n",
       "      <td>digestive system,endocrine system,exocrine system</td>\n",
       "      <td>endoderm</td>\n",
       "      <td>Mus musculus</td>\n",
       "      <td>ChIP-seq</td>\n",
       "      <td>H3K4me1</td>\n",
       "      <td>2012-03-28</td>\n",
       "      <td>/labs/bing-ren/</td>\n",
       "      <td>...</td>\n",
       "      <td>0.000037</td>\n",
       "      <td>0.008470</td>\n",
       "      <td>1.137740</td>\n",
       "      <td>1.766581</td>\n",
       "      <td>2.029519</td>\n",
       "      <td>1.143098</td>\n",
       "      <td>0.735961</td>\n",
       "      <td>1.406543</td>\n",
       "      <td>0.739062</td>\n",
       "      <td>1.175240</td>\n",
       "    </tr>\n",
       "    <tr>\n",
       "      <th>2</th>\n",
       "      <td>ENCFF005KEI</td>\n",
       "      <td>kidney</td>\n",
       "      <td>kidney</td>\n",
       "      <td>excretory system</td>\n",
       "      <td>mesoderm</td>\n",
       "      <td>Mus musculus</td>\n",
       "      <td>ChIP-seq</td>\n",
       "      <td>H3K4me3</td>\n",
       "      <td>2014-12-17</td>\n",
       "      <td>/labs/bing-ren/</td>\n",
       "      <td>...</td>\n",
       "      <td>0.000007</td>\n",
       "      <td>0.097153</td>\n",
       "      <td>13.049627</td>\n",
       "      <td>0.314073</td>\n",
       "      <td>6.673177</td>\n",
       "      <td>0.915372</td>\n",
       "      <td>2.884329</td>\n",
       "      <td>16.072423</td>\n",
       "      <td>0.877384</td>\n",
       "      <td>1.062593</td>\n",
       "    </tr>\n",
       "    <tr>\n",
       "      <th>3</th>\n",
       "      <td>ENCFF007CPI</td>\n",
       "      <td>neural tube</td>\n",
       "      <td>embryo,epithelium</td>\n",
       "      <td>NaN</td>\n",
       "      <td>ectoderm</td>\n",
       "      <td>Mus musculus</td>\n",
       "      <td>ChIP-seq</td>\n",
       "      <td>H3K9me3</td>\n",
       "      <td>2016-03-30</td>\n",
       "      <td>/labs/bing-ren/</td>\n",
       "      <td>...</td>\n",
       "      <td>0.000017</td>\n",
       "      <td>0.003311</td>\n",
       "      <td>0.444699</td>\n",
       "      <td>0.797453</td>\n",
       "      <td>0.485076</td>\n",
       "      <td>0.555033</td>\n",
       "      <td>0.892906</td>\n",
       "      <td>0.549952</td>\n",
       "      <td>0.750346</td>\n",
       "      <td>0.461093</td>\n",
       "    </tr>\n",
       "    <tr>\n",
       "      <th>4</th>\n",
       "      <td>ENCFF007IBG</td>\n",
       "      <td>limb</td>\n",
       "      <td>limb</td>\n",
       "      <td>musculature,skeletal system</td>\n",
       "      <td>ectoderm,mesoderm</td>\n",
       "      <td>Mus musculus</td>\n",
       "      <td>ChIP-seq</td>\n",
       "      <td>H3K9me3</td>\n",
       "      <td>2016-03-30</td>\n",
       "      <td>/labs/bing-ren/</td>\n",
       "      <td>...</td>\n",
       "      <td>0.000011</td>\n",
       "      <td>0.002713</td>\n",
       "      <td>0.364476</td>\n",
       "      <td>0.532807</td>\n",
       "      <td>0.445620</td>\n",
       "      <td>0.869149</td>\n",
       "      <td>0.715297</td>\n",
       "      <td>0.448980</td>\n",
       "      <td>0.633166</td>\n",
       "      <td>0.477933</td>\n",
       "    </tr>\n",
       "    <tr>\n",
       "      <th>...</th>\n",
       "      <td>...</td>\n",
       "      <td>...</td>\n",
       "      <td>...</td>\n",
       "      <td>...</td>\n",
       "      <td>...</td>\n",
       "      <td>...</td>\n",
       "      <td>...</td>\n",
       "      <td>...</td>\n",
       "      <td>...</td>\n",
       "      <td>...</td>\n",
       "      <td>...</td>\n",
       "      <td>...</td>\n",
       "      <td>...</td>\n",
       "      <td>...</td>\n",
       "      <td>...</td>\n",
       "      <td>...</td>\n",
       "      <td>...</td>\n",
       "      <td>...</td>\n",
       "      <td>...</td>\n",
       "      <td>...</td>\n",
       "      <td>...</td>\n",
       "    </tr>\n",
       "    <tr>\n",
       "      <th>752</th>\n",
       "      <td>ENCFF995MFB</td>\n",
       "      <td>midbrain</td>\n",
       "      <td>brain</td>\n",
       "      <td>central nervous system</td>\n",
       "      <td>ectoderm</td>\n",
       "      <td>Mus musculus</td>\n",
       "      <td>ChIP-seq</td>\n",
       "      <td>H3K9me3</td>\n",
       "      <td>2016-02-18</td>\n",
       "      <td>/labs/bing-ren/</td>\n",
       "      <td>...</td>\n",
       "      <td>0.000018</td>\n",
       "      <td>0.003179</td>\n",
       "      <td>0.427005</td>\n",
       "      <td>0.861169</td>\n",
       "      <td>0.479317</td>\n",
       "      <td>1.086374</td>\n",
       "      <td>0.870553</td>\n",
       "      <td>0.551652</td>\n",
       "      <td>0.737199</td>\n",
       "      <td>0.463842</td>\n",
       "    </tr>\n",
       "    <tr>\n",
       "      <th>754</th>\n",
       "      <td>ENCFF996VVJ</td>\n",
       "      <td>liver</td>\n",
       "      <td>endocrine gland,exocrine gland,liver</td>\n",
       "      <td>digestive system,endocrine system,exocrine system</td>\n",
       "      <td>endoderm</td>\n",
       "      <td>Mus musculus</td>\n",
       "      <td>ChIP-seq</td>\n",
       "      <td>H3K4me1</td>\n",
       "      <td>2015-06-23</td>\n",
       "      <td>/labs/bing-ren/</td>\n",
       "      <td>...</td>\n",
       "      <td>0.000020</td>\n",
       "      <td>0.015256</td>\n",
       "      <td>2.049187</td>\n",
       "      <td>0.945261</td>\n",
       "      <td>2.363455</td>\n",
       "      <td>0.756137</td>\n",
       "      <td>1.229606</td>\n",
       "      <td>2.546442</td>\n",
       "      <td>1.008857</td>\n",
       "      <td>1.256985</td>\n",
       "    </tr>\n",
       "    <tr>\n",
       "      <th>755</th>\n",
       "      <td>ENCFF997GZP</td>\n",
       "      <td>limb</td>\n",
       "      <td>limb</td>\n",
       "      <td>musculature,skeletal system</td>\n",
       "      <td>ectoderm,mesoderm</td>\n",
       "      <td>Mus musculus</td>\n",
       "      <td>DNase-seq</td>\n",
       "      <td>Accessible DNA</td>\n",
       "      <td>2017-09-26</td>\n",
       "      <td>/labs/john-stamatoyannopoulos/</td>\n",
       "      <td>...</td>\n",
       "      <td>0.000014</td>\n",
       "      <td>0.072257</td>\n",
       "      <td>9.705593</td>\n",
       "      <td>0.666981</td>\n",
       "      <td>3.087158</td>\n",
       "      <td>0.710841</td>\n",
       "      <td>1.921067</td>\n",
       "      <td>10.051036</td>\n",
       "      <td>0.854385</td>\n",
       "      <td>0.817624</td>\n",
       "    </tr>\n",
       "    <tr>\n",
       "      <th>756</th>\n",
       "      <td>ENCFF998LYH</td>\n",
       "      <td>gonadal fat pad</td>\n",
       "      <td>adipose tissue,connective tissue,gonad</td>\n",
       "      <td>reproductive system</td>\n",
       "      <td>mesoderm</td>\n",
       "      <td>Mus musculus</td>\n",
       "      <td>DNase-seq</td>\n",
       "      <td>Accessible DNA</td>\n",
       "      <td>2012-03-29</td>\n",
       "      <td>/labs/john-stamatoyannopoulos/</td>\n",
       "      <td>...</td>\n",
       "      <td>0.000000</td>\n",
       "      <td>0.073308</td>\n",
       "      <td>9.846700</td>\n",
       "      <td>0.000000</td>\n",
       "      <td>2.337001</td>\n",
       "      <td>0.596070</td>\n",
       "      <td>0.808156</td>\n",
       "      <td>8.168337</td>\n",
       "      <td>0.533292</td>\n",
       "      <td>0.857499</td>\n",
       "    </tr>\n",
       "    <tr>\n",
       "      <th>757</th>\n",
       "      <td>ENCFF998YVJ</td>\n",
       "      <td>forebrain</td>\n",
       "      <td>brain</td>\n",
       "      <td>central nervous system</td>\n",
       "      <td>ectoderm</td>\n",
       "      <td>Mus musculus</td>\n",
       "      <td>ChIP-seq</td>\n",
       "      <td>H3K9ac</td>\n",
       "      <td>2014-06-30</td>\n",
       "      <td>/labs/bing-ren/</td>\n",
       "      <td>...</td>\n",
       "      <td>0.000009</td>\n",
       "      <td>0.109090</td>\n",
       "      <td>14.652971</td>\n",
       "      <td>0.420905</td>\n",
       "      <td>6.740713</td>\n",
       "      <td>0.787310</td>\n",
       "      <td>2.982558</td>\n",
       "      <td>18.306473</td>\n",
       "      <td>0.802931</td>\n",
       "      <td>1.042132</td>\n",
       "    </tr>\n",
       "  </tbody>\n",
       "</table>\n",
       "<p>716 rows × 280 columns</p>\n",
       "</div>"
      ],
      "text/plain": [
       "    File_accession Biosample_term_name  \\\n",
       "0      ENCFF002XJG           hindbrain   \n",
       "1      ENCFF003ZHW               liver   \n",
       "2      ENCFF005KEI              kidney   \n",
       "3      ENCFF007CPI         neural tube   \n",
       "4      ENCFF007IBG                limb   \n",
       "..             ...                 ...   \n",
       "752    ENCFF995MFB            midbrain   \n",
       "754    ENCFF996VVJ               liver   \n",
       "755    ENCFF997GZP                limb   \n",
       "756    ENCFF998LYH     gonadal fat pad   \n",
       "757    ENCFF998YVJ           forebrain   \n",
       "\n",
       "                      Biosample_organ_slims  \\\n",
       "0                                     brain   \n",
       "1      endocrine gland,exocrine gland,liver   \n",
       "2                                    kidney   \n",
       "3                         embryo,epithelium   \n",
       "4                                      limb   \n",
       "..                                      ...   \n",
       "752                                   brain   \n",
       "754    endocrine gland,exocrine gland,liver   \n",
       "755                                    limb   \n",
       "756  adipose tissue,connective tissue,gonad   \n",
       "757                                   brain   \n",
       "\n",
       "                                Biosample_system_slims  \\\n",
       "0                               central nervous system   \n",
       "1    digestive system,endocrine system,exocrine system   \n",
       "2                                     excretory system   \n",
       "3                                                  NaN   \n",
       "4                          musculature,skeletal system   \n",
       "..                                                 ...   \n",
       "752                             central nervous system   \n",
       "754  digestive system,endocrine system,exocrine system   \n",
       "755                        musculature,skeletal system   \n",
       "756                                reproductive system   \n",
       "757                             central nervous system   \n",
       "\n",
       "    Biosample_developmental_slims Biosample_organism proc_Assay_lvl1  \\\n",
       "0                        ectoderm       Mus musculus        ChIP-seq   \n",
       "1                        endoderm       Mus musculus        ChIP-seq   \n",
       "2                        mesoderm       Mus musculus        ChIP-seq   \n",
       "3                        ectoderm       Mus musculus        ChIP-seq   \n",
       "4               ectoderm,mesoderm       Mus musculus        ChIP-seq   \n",
       "..                            ...                ...             ...   \n",
       "752                      ectoderm       Mus musculus        ChIP-seq   \n",
       "754                      endoderm       Mus musculus        ChIP-seq   \n",
       "755             ectoderm,mesoderm       Mus musculus       DNase-seq   \n",
       "756                      mesoderm       Mus musculus       DNase-seq   \n",
       "757                      ectoderm       Mus musculus        ChIP-seq   \n",
       "\n",
       "        proc_target Experiment_date_released                     Library_lab  \\\n",
       "0           H3K27ac               2016-07-19                 /labs/bing-ren/   \n",
       "1           H3K4me1               2012-03-28                 /labs/bing-ren/   \n",
       "2           H3K4me3               2014-12-17                 /labs/bing-ren/   \n",
       "3           H3K9me3               2016-03-30                 /labs/bing-ren/   \n",
       "4           H3K9me3               2016-03-30                 /labs/bing-ren/   \n",
       "..              ...                      ...                             ...   \n",
       "752         H3K9me3               2016-02-18                 /labs/bing-ren/   \n",
       "754         H3K4me1               2015-06-23                 /labs/bing-ren/   \n",
       "755  Accessible DNA               2017-09-26  /labs/john-stamatoyannopoulos/   \n",
       "756  Accessible DNA               2012-03-29  /labs/john-stamatoyannopoulos/   \n",
       "757          H3K9ac               2014-06-30                 /labs/bing-ren/   \n",
       "\n",
       "     ...  TSS_rRNA_norm  TSS_protein_coding_norm  TSS_protein_coding_enrich  \\\n",
       "0    ...       0.000013                 0.046774                   6.282752   \n",
       "1    ...       0.000037                 0.008470                   1.137740   \n",
       "2    ...       0.000007                 0.097153                  13.049627   \n",
       "3    ...       0.000017                 0.003311                   0.444699   \n",
       "4    ...       0.000011                 0.002713                   0.364476   \n",
       "..   ...            ...                      ...                        ...   \n",
       "752  ...       0.000018                 0.003179                   0.427005   \n",
       "754  ...       0.000020                 0.015256                   2.049187   \n",
       "755  ...       0.000014                 0.072257                   9.705593   \n",
       "756  ...       0.000000                 0.073308                   9.846700   \n",
       "757  ...       0.000009                 0.109090                  14.652971   \n",
       "\n",
       "     TSS_rRNA_enrich promoter_protein_coding_enrich promoter_rRNA_enrich  \\\n",
       "0           0.609353                       3.230623             0.944315   \n",
       "1           1.766581                       2.029519             1.143098   \n",
       "2           0.314073                       6.673177             0.915372   \n",
       "3           0.797453                       0.485076             0.555033   \n",
       "4           0.532807                       0.445620             0.869149   \n",
       "..               ...                            ...                  ...   \n",
       "752         0.861169                       0.479317             1.086374   \n",
       "754         0.945261                       2.363455             0.756137   \n",
       "755         0.666981                       3.087158             0.710841   \n",
       "756         0.000000                       2.337001             0.596070   \n",
       "757         0.420905                       6.740713             0.787310   \n",
       "\n",
       "    CDS_enrich  five_prime_UTR_enrich  three_prime_UTR_enrich  intron_enrich  \n",
       "0     1.618092               7.558782                0.812239       1.004789  \n",
       "1     0.735961               1.406543                0.739062       1.175240  \n",
       "2     2.884329              16.072423                0.877384       1.062593  \n",
       "3     0.892906               0.549952                0.750346       0.461093  \n",
       "4     0.715297               0.448980                0.633166       0.477933  \n",
       "..         ...                    ...                     ...            ...  \n",
       "752   0.870553               0.551652                0.737199       0.463842  \n",
       "754   1.229606               2.546442                1.008857       1.256985  \n",
       "755   1.921067              10.051036                0.854385       0.817624  \n",
       "756   0.808156               8.168337                0.533292       0.857499  \n",
       "757   2.982558              18.306473                0.802931       1.042132  \n",
       "\n",
       "[716 rows x 280 columns]"
      ]
     },
     "execution_count": 89,
     "metadata": {},
     "output_type": "execute_result"
    }
   ],
   "source": [
    "md_filter"
   ]
  },
  {
   "cell_type": "code",
   "execution_count": 90,
   "id": "e35c9eee-658d-49c8-bd6e-0078c604e085",
   "metadata": {},
   "outputs": [
    {
     "data": {
      "text/plain": [
       "<matplotlib.collections.PathCollection at 0x7fc4f9204b80>"
      ]
     },
     "execution_count": 90,
     "metadata": {},
     "output_type": "execute_result"
    },
    {
     "data": {
      "image/png": "[encoded data removed]",
      "text/plain": [
       "<Figure size 432x288 with 1 Axes>"
      ]
     },
     "metadata": {
      "needs_background": "light"
     },
     "output_type": "display_data"
    }
   ],
   "source": [
    "# GC_ROC is the performance of a classifier that only looks at the GC-content accross the full dataset\n",
    "\n",
    "plt.scatter(md_filter.GC_ROC.values, rocs_pytorch, s=2.5)"
   ]
  }
 ],
 "metadata": {
  "kernelspec": {
   "display_name": "Python (nucleotran)",
   "language": "python",
   "name": "nucleotran"
  },
  "language_info": {
   "codemirror_mode": {
    "name": "ipython",
    "version": 3
   },
   "file_extension": ".py",
   "mimetype": "text/x-python",
   "name": "python",
   "nbconvert_exporter": "python",
   "pygments_lexer": "ipython3",
   "version": "3.9.5"
  },
  "vscode": {
   "interpreter": {
    "hash": "6bbfdcb430d190a3cf65f835cc93b76d20f9a628bc9fcb234b265151c5f7823d"
   }
  }
 },
 "nbformat": 4,
 "nbformat_minor": 5
}
