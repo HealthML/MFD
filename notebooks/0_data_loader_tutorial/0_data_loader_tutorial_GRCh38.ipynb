{
 "cells": [
  {
   "cell_type": "code",
   "execution_count": 1,
   "id": "732fa6b0-d60d-43d4-9aa0-41cec3c627af",
   "metadata": {
    "tags": []
   },
   "outputs": [],
   "source": [
    "# you have to make the module discoverable to load the classes below:\n",
    "\n",
    "import sys\n",
    "import os\n",
    "\n",
    "os.chdir('../../../nucleotran/')\n",
    "sys.path.append('./src')"
   ]
  },
  {
   "cell_type": "code",
   "execution_count": 2,
   "id": "4dd40ab4-76b2-4eac-891b-88b65fc52879",
   "metadata": {
    "tags": []
   },
   "outputs": [],
   "source": [
    "from data.dataloaders import CoverageDatasetHDF5\n",
    "\n",
    "from features.nucleotide import DNATokenizer\n",
    "from torch import tensor\n",
    "\n",
    "import numpy as np\n",
    "import pandas as pd\n",
    "\n",
    "import torch\n",
    "from torch.utils.data import DataLoader\n",
    "from torch.nn import Embedding\n",
    "from torch import nn\n",
    "from torch import permute"
   ]
  },
  {
   "cell_type": "markdown",
   "id": "24b3b675-1014-43cd-92ef-07c227f3e996",
   "metadata": {},
   "source": [
    "#### Thursday June 9, 2022\n",
    "## Pytorch for DNA-sequence-classification \n",
    "\n",
    "\n",
    "In this tutorial I will give you an introduction to the data you will be working with, and how to access it with pytorch `Dataset` and `DataLoader` classes. We will then train a simple baseline-model using a toy-dataset.\n",
    "\n",
    "## Requirements\n",
    "\n",
    "The classes I've written require `pytorch`, `pysam`, `pandas`, `numpy`, and `h5py`. The tutorial requires `sklearn`.\n",
    "\n",
    "A conda environment definition that contains these dependencies *and much more* is located at `nucleotrain/environment.yml`.\n",
    "\n",
    "I recommend using that environment, and installing a jupyter-kernel with that environment.\n",
    "\n",
    "## The Data\n",
    "\n",
    "This tutorial works on the human data\n",
    "\n",
    "We want to train a classifier to predict 0 to x labels for each DNA-sequence in the dataset. Each label is an activity read-out from an experiment. DNA-sequences are strings of 4 letters (nucleotides): A, C, G and T. Given the DNA-sequence, we want to predict a vector of length x. Each position in this vector corresponds to an activitiy-readout, and can either be 0 or 1.\n",
    "\n",
    "Instead of looking at single nucleotides, we can look at *oligo-nucleotides*, i.e., short sequences of consecutive nucleotides that occur together (e.g., `AA` or `CG`). This is similar to creating tokens in text datasets.\n",
    "\n",
    "In this tutorial, we will look at di-nucleotides:"
   ]
  },
  {
   "cell_type": "code",
   "execution_count": 3,
   "id": "582439c2-cc32-421a-bb5a-ecaf1249c157",
   "metadata": {
    "tags": []
   },
   "outputs": [],
   "source": [
    "# set the \"sequence order\" or \"token/word length\"\n",
    "seq_order = 2"
   ]
  },
  {
   "cell_type": "markdown",
   "id": "c571a8b9-1f2a-4c9e-81f8-dedb6f1df173",
   "metadata": {},
   "source": [
    "I've written a class `DNATokenizer` that converts DNA-strings to arrays of tokens. For any token-length (i.e., the \"sequence order\") greater than 1, we can also define a stride. \n",
    "\n",
    "E.g., the sequence `ACGTAC` could be ecoded as `[AC, CG, GT, TA, AC]` (token length 2, stride = 1), or `[AC, GT, AC]` (token length 2, stride = 2)."
   ]
  },
  {
   "cell_type": "code",
   "execution_count": 4,
   "id": "0f0dc458-1ba0-4173-aae9-a32616ccc352",
   "metadata": {
    "tags": []
   },
   "outputs": [],
   "source": [
    "# the tokenizer defines the token length, and the stride\n",
    "dnatokenizer = DNATokenizer(seq_order=seq_order, stride=1, allow_N=True)\n",
    "\n",
    "# dna_embed will help us convert the token-representation to one-hot representation\n",
    "W, mapping = dnatokenizer.get_one_hot_weights_matrix()\n",
    "dna_embed = Embedding.from_pretrained(tensor(W),freeze=True)"
   ]
  },
  {
   "cell_type": "markdown",
   "id": "f9dfef3d-7e14-4f2f-9508-1b01cb0c4ee1",
   "metadata": {},
   "source": [
    "We will be using the class `CoverageDatasetHDF5` to iterate over our dataset:\n",
    "\n",
    "- The first argument is a UCDC BED-file that defines the genetic regions. Each region has an underlying DNA-sequence. You can think of the regions as coordinates. Similar to a book with different chapters and line-numbers, we can look up DNA-sequences at specific locations in the genome, based on the chromosome (\"chapter\"), and genetic coordinates (\"line numbers\"). Line numbers are not shared between Chromosomes (we start counting from 0 for each \"chapter\").\n",
    "\n",
    "- The second argument is the file containing the genome reference sequence in FASTA format. It defines the text we want to parse from (i.e., the file contains the text of the \"book\"). The file is indexed for fast access.\n",
    "\n",
    "- The third argument is a path to a custom HDF5-formatted file, which contains the activity read-outs for every region defined in the UCSC BED-file (first argument).\n",
    "\n",
    "- `dna_tokenizer` is the `DNATokenizer`-object that defines how the DNA-sequences will be processed before being served up for training.\n",
    "\n",
    "- `random_shift` adding random shifts to the input DNA-sequences is a way of performing data-augmentation. We don't add this for now.\n",
    "\n",
    "- `random_reverse_complement` randomly serves up the reverse complement of a DNA-sequence (this is another way of data augmentation).\n",
    "\n",
    "- `transform` other transformations to perform to the input (X). By applying `dna_embed` we specify that we want to convert DNA-sequence tokens (e.g., `[2]`) to their one-hot representations (e.g., `[0,0,1,0,...]`)\n",
    "\n",
    "- `target_transform` other transformations to perform to the target (Y)."
   ]
  },
  {
   "cell_type": "code",
   "execution_count": 5,
   "id": "b6e97462-5622-4852-b8dc-63c484bce649",
   "metadata": {
    "tags": []
   },
   "outputs": [
    {
     "name": "stdout",
     "output_type": "stream",
     "text": [
      "BED-file contains 10000 regions.\n",
      "93.250% of regions have at least 1 label.\n"
     ]
    }
   ],
   "source": [
    "dataset = CoverageDatasetHDF5('data/processed/GRCh38/toydata/regions.bed',\n",
    "                              '/dhc/dsets/reference_genomes/ensembl/Homo_sapiens.GRCh38.dna.primary_assembly_renamed.fa',\n",
    "                              'data/processed/GRCh38/toydata/overlaps.h5',\n",
    "                              dna_tokenizer=dnatokenizer,\n",
    "                              random_shift=0,\n",
    "                              random_reverse_complement=True,\n",
    "                              transform=lambda x: permute(dna_embed(tensor(x)), [0,2,1]), # the loader serves up the data in \"channels-last\" format, but pytorch wants \"channels-first\", so we permute\n",
    "                              target_transform=tensor)"
   ]
  },
  {
   "cell_type": "markdown",
   "id": "b5f904b7-c0d3-44dc-b2c2-81730608effb",
   "metadata": {},
   "source": [
    "The regions defined in the BED-file all have length 128 base-pairs (bp), i.e., the DNA strings have length 128. We could expand all the regions to add a larger context window. This would lead to some overlap between genetic ranges / sequences. It does not affect the labels, which are derived from the center 128bp regardless. To keep the length at 128 when we use di-nucleotide encoding, we add an extra base-pair to the sequence lenght:"
   ]
  },
  {
   "cell_type": "code",
   "execution_count": 6,
   "id": "4f68525b-11dd-4d19-84c2-812a74137cb8",
   "metadata": {
    "tags": []
   },
   "outputs": [],
   "source": [
    "dataset.bedseqloader.resize(128+(seq_order-1)) # add one to keep the input sequence length the same when using bi-nucleotide encoding"
   ]
  },
  {
   "cell_type": "markdown",
   "id": "0a466da0-3e5f-41c6-8fec-280e27c3f7aa",
   "metadata": {},
   "source": [
    "### Loading the training data\n",
    "`CoverageDatasetHDF5`, like any valid `DataLoader`, implements `__getitem__` for serving data:"
   ]
  },
  {
   "cell_type": "code",
   "execution_count": 7,
   "id": "cb49d9f6-4447-49b6-ba31-6a7de2e5508a",
   "metadata": {
    "tags": []
   },
   "outputs": [],
   "source": [
    "x_example, y_example = dataset[[0,1,2]] # load the first 3 x-y pairs"
   ]
  },
  {
   "cell_type": "code",
   "execution_count": 8,
   "id": "a5993914-222f-4911-abd7-c07c326413e7",
   "metadata": {
    "tags": []
   },
   "outputs": [
    {
     "data": {
      "text/plain": [
       "torch.Size([3, 16, 128])"
      ]
     },
     "execution_count": 8,
     "metadata": {},
     "output_type": "execute_result"
    }
   ],
   "source": [
    "x_example.shape # the first dimension is the batch dimension, the second is the \"channel\" dimension, the last is the spatial dimension"
   ]
  },
  {
   "cell_type": "code",
   "execution_count": 9,
   "id": "151e8de8-2bb5-44a1-b47f-5d33c0a4c337",
   "metadata": {
    "tags": []
   },
   "outputs": [
    {
     "data": {
      "text/plain": [
       "torch.Size([3, 2106])"
      ]
     },
     "execution_count": 9,
     "metadata": {},
     "output_type": "execute_result"
    }
   ],
   "source": [
    "y_example.shape # the first dimension is the batch dimension, the second dimension contains the one-hot encoded labels (either 0. or 1.) for 2106 datasets"
   ]
  },
  {
   "cell_type": "markdown",
   "id": "c4669b22-f23a-4e2b-8cd7-b749a71e5316",
   "metadata": {},
   "source": [
    "`dataset.bedseqloader` is a `BEDSeqLoader` object (see `nucleotran/src/features/nucleotide.py`) which loads the DNA-sequences"
   ]
  },
  {
   "cell_type": "code",
   "execution_count": 10,
   "id": "4ce4eaed-fc74-48cb-839f-63adf22e3a3f",
   "metadata": {
    "tags": []
   },
   "outputs": [
    {
     "data": {
      "text/plain": [
       "array(['GATGGCTGCCCGTGACCCCCGTCACGGCCGCTACCTAACGGCGGCTGCCATTTTCCAGGGTCGCATGCCCATGAGGGAGGTGGATGAACAAATGTTCAACATTCAAAATAAGAACAGCAGCTACTTTGC',\n",
       "       'CTCCTCACACCTGGCCACTGTGGAGAAGTATGAGCCCCAGGTGCATAGTGCACCCCTCCTGGCCACCCCCTCCCGTGCGCCGCGGGGCCCTCCTCCCTCTGTTTACCCACATCCCCCCCATTCCTGACA',\n",
       "       'TGTCAGACCTGTAGGGCAGGGCCAGAGTCCGGTCAGGGGGCTCCGCTCTATTGTCCTCCCTTCTCCCTGTTCAGCAAGGGGTGGGGCTGGACAGAGGCTGGAAGTGGACAGGAGCTTGCAGGGAAGGCT'],\n",
       "      dtype='<U129')"
      ]
     },
     "execution_count": 10,
     "metadata": {},
     "output_type": "execute_result"
    }
   ],
   "source": [
    "dataset.bedseqloader[[0,1,2]]# first three DNA-sequences sequences, raw."
   ]
  },
  {
   "cell_type": "markdown",
   "id": "4fa63b29-1c52-44fe-85ae-9a8e428cd202",
   "metadata": {},
   "source": [
    "The tokenizer can convert these sequencs to tokens:"
   ]
  },
  {
   "cell_type": "code",
   "execution_count": 11,
   "id": "cb272fde-2d52-405c-a0f7-3832ed8041ec",
   "metadata": {
    "tags": []
   },
   "outputs": [
    {
     "data": {
      "text/plain": [
       "array([[10,  4, 22, 12, 11,  9, 22, 11,  6,  6,  7, 14, 22, 10,  1,  6,\n",
       "         6,  6,  6,  7, 14, 21,  5,  1,  7, 12, 11,  6,  7, 11,  9, 20,\n",
       "         1,  6,  9, 20,  0,  1,  7, 12, 11,  7, 12, 11,  9, 22, 11,  6,\n",
       "         5,  4, 24, 24, 24, 21,  6,  5,  2, 12, 12, 14, 21,  7, 11,  5,\n",
       "         4, 22, 11,  6,  6,  5,  4, 22, 10,  2, 12, 12, 10,  2, 12, 14,\n",
       "        22, 12, 10,  4, 22, 10,  0,  1,  5,  0,  0,  4, 22, 14, 24, 21,\n",
       "         5,  0,  1,  5,  4, 24, 21,  5,  0,  0,  0,  4, 20,  0,  2, 10,\n",
       "         0,  1,  5,  2, 11,  5,  2, 11,  9, 20,  1,  9, 24, 24, 22, 11],\n",
       "       [ 9, 21,  6,  9, 21,  5,  1,  5,  1,  6,  9, 22, 12, 11,  6,  5,\n",
       "         1,  9, 22, 14, 22, 12, 10,  2, 10,  0,  2, 14, 20,  4, 22, 10,\n",
       "         2, 11,  6,  6,  6,  5,  2, 12, 14, 22, 11,  5,  4, 20,  2, 14,\n",
       "        22, 11,  5,  1,  6,  6,  6,  9, 21,  6,  9, 22, 12, 11,  6,  5,\n",
       "         1,  6,  6,  6,  6,  9, 21,  6,  6,  7, 14, 22, 11,  7, 11,  6,\n",
       "         7, 11,  7, 12, 12, 12, 11,  6,  6,  9, 21,  6,  9, 21,  6,  6,\n",
       "         9, 21,  9, 22, 14, 24, 24, 20,  1,  6,  6,  5,  1,  5,  4, 21,\n",
       "         6,  6,  6,  6,  6,  6,  5,  4, 24, 21,  6,  9, 22, 10,  1,  5],\n",
       "       [22, 14, 21,  5,  2, 10,  1,  6,  9, 22, 14, 20,  2, 12, 12, 11,\n",
       "         5,  2, 12, 12, 11,  6,  5,  2, 10,  2, 14, 21,  6,  7, 12, 14,\n",
       "        21,  5,  2, 12, 12, 12, 12, 11,  9, 21,  6,  7, 11,  9, 21,  9,\n",
       "        20,  4, 24, 22, 14, 21,  6,  9, 21,  6,  6,  9, 24, 21,  9, 21,\n",
       "         6,  6,  9, 22, 14, 24, 21,  5,  2, 11,  5,  0,  2, 12, 12, 12,\n",
       "        14, 22, 12, 12, 12, 11,  9, 22, 12, 10,  1,  5,  2, 10,  2, 12,\n",
       "        11,  9, 22, 12, 10,  0,  2, 14, 22, 12, 10,  1,  5,  2, 12, 10,\n",
       "         2, 11,  9, 24, 22, 11,  5,  2, 12, 12, 10,  0,  2, 12, 11,  9]])"
      ]
     },
     "execution_count": 11,
     "metadata": {},
     "output_type": "execute_result"
    }
   ],
   "source": [
    "dnatokenizer.tokenize(dataset.bedseqloader[[0,1,2]], random=False) # first three sequences, converted to di-nucleotide tokens with stride 1"
   ]
  },
  {
   "cell_type": "markdown",
   "id": "da4c91c4-e7ff-468d-9527-6537ef88a76d",
   "metadata": {},
   "source": [
    "`dna_embed` converts tokens to one-hot representation"
   ]
  },
  {
   "cell_type": "code",
   "execution_count": 12,
   "id": "fd6890a6-98da-45a6-9235-78374fffa08d",
   "metadata": {
    "tags": []
   },
   "outputs": [],
   "source": [
    "embedded = dna_embed(tensor(dnatokenizer.tokenize(dataset.bedseqloader[[0,1,2]]))) # first three sequences, converted to one-hot encoding of oligo-nucleotide tokens"
   ]
  },
  {
   "cell_type": "code",
   "execution_count": 13,
   "id": "892d4757-5c51-40d6-9025-3a85e43fbdd2",
   "metadata": {
    "tags": []
   },
   "outputs": [
    {
     "data": {
      "text/plain": [
       "torch.Size([3, 128, 16])"
      ]
     },
     "execution_count": 13,
     "metadata": {},
     "output_type": "execute_result"
    }
   ],
   "source": [
    "embedded.shape"
   ]
  },
  {
   "cell_type": "code",
   "execution_count": 14,
   "id": "424acfac-ff1c-4d9a-8571-b12a17299e74",
   "metadata": {
    "tags": []
   },
   "outputs": [
    {
     "data": {
      "text/plain": [
       "tensor([[0., 0., 0., 0., 0., 0., 0., 0., 1., 0., 0., 0., 0., 0., 0., 0.],\n",
       "        [0., 0., 0., 1., 0., 0., 0., 0., 0., 0., 0., 0., 0., 0., 0., 0.],\n",
       "        [0., 0., 0., 0., 0., 0., 0., 0., 0., 0., 0., 0., 0., 0., 1., 0.]],\n",
       "       dtype=torch.float64)"
      ]
     },
     "execution_count": 14,
     "metadata": {},
     "output_type": "execute_result"
    }
   ],
   "source": [
    "embedded[0, 0:3, :] # first three oligo-nucleotides in the first DNA-string. Do you see what this corresponds to above? -> [8, 3, 14, ....]"
   ]
  },
  {
   "cell_type": "markdown",
   "id": "29e2921c-5f0d-4af6-82da-783d1b008abf",
   "metadata": {},
   "source": [
    "The mapping returned in cell 3 above contains the mapping of di-nucleotides to tokens, in case you get lost..."
   ]
  },
  {
   "cell_type": "code",
   "execution_count": 15,
   "id": "363bac54-100a-4e2b-9496-4bbd62c83448",
   "metadata": {
    "tags": []
   },
   "outputs": [
    {
     "data": {
      "text/plain": [
       "{'AA': 0,\n",
       " 'AC': 1,\n",
       " 'AG': 2,\n",
       " 'AT': 3,\n",
       " 'CA': 4,\n",
       " 'CC': 5,\n",
       " 'CG': 6,\n",
       " 'CT': 7,\n",
       " 'GA': 8,\n",
       " 'GC': 9,\n",
       " 'GG': 10,\n",
       " 'GT': 11,\n",
       " 'TA': 12,\n",
       " 'TC': 13,\n",
       " 'TG': 14,\n",
       " 'TT': 15}"
      ]
     },
     "execution_count": 15,
     "metadata": {},
     "output_type": "execute_result"
    }
   ],
   "source": [
    "mapping"
   ]
  },
  {
   "cell_type": "code",
   "execution_count": 16,
   "id": "db789613-9ef4-4f5b-808a-03a1144e4fb6",
   "metadata": {
    "tags": []
   },
   "outputs": [],
   "source": [
    "reverse_mapping = {v:k for k, v in mapping.items()}"
   ]
  },
  {
   "cell_type": "code",
   "execution_count": 17,
   "id": "2d73faac-6e02-420a-922e-10f7b13174de",
   "metadata": {
    "tags": []
   },
   "outputs": [
    {
     "data": {
      "text/plain": [
       "'GATGGCTGCCCGTGACCCCCGTCACGGCCGCTACCTAACGGCGGCTGCCATTTTCCAGGGTCGCATGCCCATGAGGGAGGTGGATGAACAAATGTTCAACATTCAAAATAAGAACAGCAGCTACTTTG'"
      ]
     },
     "execution_count": 17,
     "metadata": {},
     "output_type": "execute_result"
    }
   ],
   "source": [
    "''.join([reverse_mapping[x] for x in np.where(embedded[0,:])[1]][0:128:seq_order]) # this should be the same sequence as below, do you understand why?"
   ]
  },
  {
   "cell_type": "code",
   "execution_count": 18,
   "id": "be4858f1-3e72-493a-b45c-efee5fb3e7e2",
   "metadata": {
    "tags": []
   },
   "outputs": [
    {
     "data": {
      "text/plain": [
       "'GATGGCTGCCCGTGACCCCCGTCACGGCCGCTACCTAACGGCGGCTGCCATTTTCCAGGGTCGCATGCCCATGAGGGAGGTGGATGAACAAATGTTCAACATTCAAAATAAGAACAGCAGCTACTTTG'"
      ]
     },
     "execution_count": 18,
     "metadata": {},
     "output_type": "execute_result"
    }
   ],
   "source": [
    "dataset.bedseqloader[0][0][:-1] # dataset.bedseqloader returns raw DNA sequences"
   ]
  },
  {
   "cell_type": "markdown",
   "id": "77544da1-84a5-4292-a6a5-bf8e86435d12",
   "metadata": {},
   "source": [
    "`CoverageDatasetHDF5` comes with a method to easily split the data by chromosome:"
   ]
  },
  {
   "cell_type": "code",
   "execution_count": 19,
   "id": "9dbad45f-1708-4903-835d-d6ca88f953ac",
   "metadata": {
    "tags": []
   },
   "outputs": [],
   "source": [
    "# we decide we want ot use chromosomes 9 and 10 as the test set\n",
    "\n",
    "i_train, i_test = dataset.train_test_split_chromosomes(['9','10'])"
   ]
  },
  {
   "cell_type": "markdown",
   "id": "786ab3df-32be-45dc-b57f-d0ba1a49038b",
   "metadata": {},
   "source": [
    "## Reverse complement *after* one-hot encoding\n",
    "\n",
    "To get the reverse complement of a sequence *after* one-hot encoding, we can use the function returned by `DNATokenizer.onehot_reverse_complement_func()`"
   ]
  },
  {
   "cell_type": "code",
   "execution_count": 21,
   "id": "0b8efaa7-0440-4c6f-9675-f1ef26cbb749",
   "metadata": {
    "tags": []
   },
   "outputs": [],
   "source": [
    "rc_fun = dnatokenizer.onehot_reverse_complement_func()"
   ]
  },
  {
   "cell_type": "code",
   "execution_count": 22,
   "id": "d14d6310-92f4-4ceb-a319-20b4dfcd303d",
   "metadata": {
    "tags": []
   },
   "outputs": [],
   "source": [
    "embedded = permute(dna_embed(tensor(dnatokenizer.tokenize(dataset.bedseqloader[[0,1,2]]))), [0,2,1]) # first three sequences, converted to one-hot encoding of oligo-nucleotide tokens"
   ]
  },
  {
   "cell_type": "code",
   "execution_count": 23,
   "id": "c275a56c-332a-4bed-8162-c8cbc3232e35",
   "metadata": {
    "tags": []
   },
   "outputs": [
    {
     "data": {
      "text/plain": [
       "torch.Size([3, 16, 128])"
      ]
     },
     "execution_count": 23,
     "metadata": {},
     "output_type": "execute_result"
    }
   ],
   "source": [
    "embedded.shape"
   ]
  },
  {
   "cell_type": "code",
   "execution_count": 24,
   "id": "a56b7247-b7a4-40c6-b202-1607489f69fe",
   "metadata": {
    "tags": []
   },
   "outputs": [],
   "source": [
    "embedded_rc = rc_fun(embedded).numpy()"
   ]
  },
  {
   "cell_type": "code",
   "execution_count": 25,
   "id": "0e7daac4-a4ea-4908-880d-3755c65d51d8",
   "metadata": {
    "tags": []
   },
   "outputs": [
    {
     "data": {
      "text/plain": [
       "(3, 16, 128)"
      ]
     },
     "execution_count": 25,
     "metadata": {},
     "output_type": "execute_result"
    }
   ],
   "source": [
    "embedded_rc.shape"
   ]
  },
  {
   "cell_type": "code",
   "execution_count": 26,
   "id": "cb5eaf90-6ae4-49c7-bb27-e87f48ee4ad5",
   "metadata": {
    "tags": []
   },
   "outputs": [
    {
     "data": {
      "text/plain": [
       "'GCAAAGTAGCTGCTGTTCTTATTTTGAATGTTGAACATTTGTTCATCCACCTCCCTCATGGGCATGCGACCCTGGAAAATGGCAGCCGCCGTTAGGTAGCGGCCGTGACGGGGGTCACGGGCAGCCAT'"
      ]
     },
     "execution_count": 26,
     "metadata": {},
     "output_type": "execute_result"
    }
   ],
   "source": [
    "r = ''.join([reverse_mapping[x] for x in np.where(embedded_rc[0,:].T)[1]][0:128:seq_order]) # this should be reverse complement of the sequence below:\n",
    "r"
   ]
  },
  {
   "cell_type": "code",
   "execution_count": 27,
   "id": "b925a637-ed9e-4b6e-9825-0928cfb89adc",
   "metadata": {
    "tags": []
   },
   "outputs": [
    {
     "data": {
      "text/plain": [
       "'ATGGCTGCCCGTGACCCCCGTCACGGCCGCTACCTAACGGCGGCTGCCATTTTCCAGGGTCGCATGCCCATGAGGGAGGTGGATGAACAAATGTTCAACATTCAAAATAAGAACAGCAGCTACTTTGC'"
      ]
     },
     "execution_count": 27,
     "metadata": {},
     "output_type": "execute_result"
    }
   ],
   "source": [
    "f = dataset.bedseqloader[0][0][1:] # forward\n",
    "f"
   ]
  },
  {
   "cell_type": "code",
   "execution_count": 28,
   "id": "b82411ba-8105-4132-853c-94aa6aea01bd",
   "metadata": {
    "tags": []
   },
   "outputs": [],
   "source": [
    "def rc(x):\n",
    "    mapping = str.maketrans(\"ACGT\", \"TGCA\")\n",
    "    return x.translate(mapping)[::-1]"
   ]
  },
  {
   "cell_type": "code",
   "execution_count": 29,
   "id": "733ba03e-7637-4f01-8a2d-11440ca07930",
   "metadata": {
    "tags": []
   },
   "outputs": [
    {
     "data": {
      "text/plain": [
       "True"
      ]
     },
     "execution_count": 29,
     "metadata": {},
     "output_type": "execute_result"
    }
   ],
   "source": [
    "rc(f) == r"
   ]
  },
  {
   "cell_type": "code",
   "execution_count": 29,
   "id": "c9651a25-f603-4af9-82ce-7f3b1551b881",
   "metadata": {
    "tags": []
   },
   "outputs": [],
   "source": [
    "del r, f, rc"
   ]
  },
  {
   "cell_type": "markdown",
   "id": "08e705b0-2ab2-49e7-8335-30502a93b635",
   "metadata": {},
   "source": [
    "# 1st\n",
    "## Fit the baseline classifier with scikit learn"
   ]
  },
  {
   "cell_type": "markdown",
   "id": "534ee180-9d41-4b66-9684-bc0ef2c35418",
   "metadata": {},
   "source": [
    "Now that we have an idea of the input data, we will fit a simple multi-output-logistic-regression classifier. Before we use pytorch, I will show you how to fit an equivalent baseline-model with scikit learn."
   ]
  },
  {
   "cell_type": "code",
   "execution_count": 30,
   "id": "0e1e3abc-2df2-41d6-83a8-460dcacbe4ca",
   "metadata": {},
   "outputs": [],
   "source": [
    "from sklearn.multioutput import MultiOutputClassifier\n",
    "from sklearn.linear_model import LogisticRegression"
   ]
  },
  {
   "cell_type": "code",
   "execution_count": 31,
   "id": "baec2780-3f6e-4a63-a835-622d1f66f543",
   "metadata": {},
   "outputs": [],
   "source": [
    "from sklearn.metrics import log_loss, roc_auc_score"
   ]
  },
  {
   "cell_type": "code",
   "execution_count": 32,
   "id": "5de991fe-a88a-4537-83ea-538995264e40",
   "metadata": {},
   "outputs": [],
   "source": [
    "X_train, y_train = dataset[i_train] # fetch the training data"
   ]
  },
  {
   "cell_type": "code",
   "execution_count": 33,
   "id": "f4fd4b1d-02e2-4cfe-b0fd-a61addaf9784",
   "metadata": {},
   "outputs": [
    {
     "data": {
      "text/plain": [
       "torch.Size([9096, 16, 128])"
      ]
     },
     "execution_count": 33,
     "metadata": {},
     "output_type": "execute_result"
    }
   ],
   "source": [
    "X_train.shape"
   ]
  },
  {
   "cell_type": "code",
   "execution_count": 34,
   "id": "a0f5014f-ac0f-42b4-8c25-34ce32cf2f8c",
   "metadata": {},
   "outputs": [
    {
     "data": {
      "text/plain": [
       "torch.Size([9096, 2106])"
      ]
     },
     "execution_count": 34,
     "metadata": {},
     "output_type": "execute_result"
    }
   ],
   "source": [
    "y_train.shape"
   ]
  },
  {
   "cell_type": "code",
   "execution_count": 35,
   "id": "a87928b6-b8ac-4477-b49f-2625c56de874",
   "metadata": {},
   "outputs": [],
   "source": [
    "X_train = X_train.numpy() # convert to numpy arrays\n",
    "y_train = y_train.numpy()"
   ]
  },
  {
   "cell_type": "markdown",
   "id": "1f69a0b0-90e9-4a86-98bb-46f449f6bc97",
   "metadata": {},
   "source": [
    "Our simple baseline model will make predictions only from the di-nucleotide frequencies, and disregard any positional information."
   ]
  },
  {
   "cell_type": "code",
   "execution_count": 36,
   "id": "95d176c6-d78b-467b-938b-48dd2f8abf25",
   "metadata": {},
   "outputs": [],
   "source": [
    "X = X_train.mean(axis=-1) # taking the average along the positional axis"
   ]
  },
  {
   "cell_type": "code",
   "execution_count": 37,
   "id": "80dc57fb-e670-476a-ab3a-dda96f3beae3",
   "metadata": {},
   "outputs": [],
   "source": [
    "X_test, y_test = dataset[i_test]\n",
    "X_test, y_test = X_test.numpy(), y_test.numpy()"
   ]
  },
  {
   "cell_type": "code",
   "execution_count": 38,
   "id": "deae1fcf-fa76-4e4c-901c-d15a7284abd5",
   "metadata": {},
   "outputs": [],
   "source": [
    "keep_train = ~(y_test == 0).all(axis=0) # drop those with 0 observations in our toy dataset\n",
    "keep_train_idx = np.argwhere(keep_train)[:,0]"
   ]
  },
  {
   "cell_type": "code",
   "execution_count": 39,
   "id": "f3073444-d8c2-4512-9b0f-31dbae099252",
   "metadata": {},
   "outputs": [],
   "source": [
    "# fit multiple logistic regression classifiers separately\n",
    "\n",
    "logreg = MultiOutputClassifier(LogisticRegression()).fit(X, y_train[:,keep_train])"
   ]
  },
  {
   "cell_type": "code",
   "execution_count": 40,
   "id": "3d060b98-6119-40a2-9948-3f9e0952819b",
   "metadata": {},
   "outputs": [
    {
     "name": "stdout",
     "output_type": "stream",
     "text": [
      "(904, 16)\n"
     ]
    }
   ],
   "source": [
    "# evaluate the models on the test set\n",
    "\n",
    "X_test = X_test.mean(axis=-1)\n",
    "print(X_test.shape)"
   ]
  },
  {
   "cell_type": "code",
   "execution_count": 41,
   "id": "4be5587f-966d-44c0-9d19-83b845b93457",
   "metadata": {},
   "outputs": [],
   "source": [
    "# predict output probabilities\n",
    "\n",
    "y_hat_sklearn = logreg.predict_proba(X_test)"
   ]
  },
  {
   "cell_type": "code",
   "execution_count": 42,
   "id": "f2331ee9-0aa5-461d-885f-836cee3b8932",
   "metadata": {},
   "outputs": [],
   "source": [
    "y_hat_sklearn = np.concatenate([x[:,1][:,np.newaxis] for x in y_hat_sklearn],axis=1)"
   ]
  },
  {
   "cell_type": "code",
   "execution_count": 43,
   "id": "151ecf51-427b-4be4-b705-051b688f3b30",
   "metadata": {},
   "outputs": [
    {
     "data": {
      "text/plain": [
       "True"
      ]
     },
     "execution_count": 43,
     "metadata": {},
     "output_type": "execute_result"
    }
   ],
   "source": [
    "y_hat_sklearn.shape == y_test[:,keep_train].shape"
   ]
  },
  {
   "cell_type": "code",
   "execution_count": 44,
   "id": "03b509a4-9e00-45eb-8ddd-3c205ca1c195",
   "metadata": {},
   "outputs": [],
   "source": [
    "y_test = y_test[:,keep_train]"
   ]
  },
  {
   "cell_type": "code",
   "execution_count": 45,
   "id": "6e7ee64c-90bd-454f-b7af-77b0137aa715",
   "metadata": {},
   "outputs": [],
   "source": [
    "# calculate the area under the receiver operator curve on the test set, for those classes with at least 5 observations in the test set\n",
    "\n",
    "rocs = {idx: roc_auc_score(y_test[:,i], y_hat_sklearn[:,i]) for i, idx in enumerate(keep_train_idx) if y_test[:,i].sum() >= 5}"
   ]
  },
  {
   "cell_type": "code",
   "execution_count": 46,
   "id": "003ef210-a156-4095-af2e-e34c7f9ab731",
   "metadata": {},
   "outputs": [],
   "source": [
    "rocs_i = list(rocs.keys())\n",
    "rocs = np.array(list(rocs.values()))"
   ]
  },
  {
   "cell_type": "code",
   "execution_count": 47,
   "id": "e64045fd-23c1-4042-849c-10fd5dc794f2",
   "metadata": {},
   "outputs": [
    {
     "data": {
      "text/plain": [
       "0.6900047609044883"
      ]
     },
     "execution_count": 47,
     "metadata": {},
     "output_type": "execute_result"
    }
   ],
   "source": [
    "np.mean(rocs) # the average classifier performance based on di-nucleotide content, you'll notice this is actually pretty good..."
   ]
  },
  {
   "cell_type": "code",
   "execution_count": 48,
   "id": "1f1fc079-1b51-4757-b68d-c91f40829b00",
   "metadata": {},
   "outputs": [],
   "source": [
    "rocs_sklearn = np.array(rocs)\n",
    "rocs_sklearn_argsort = np.argsort(-rocs_sklearn)"
   ]
  },
  {
   "cell_type": "code",
   "execution_count": 49,
   "id": "0ff2983f-e8fc-47d4-9d97-449a0fca8465",
   "metadata": {},
   "outputs": [
    {
     "data": {
      "text/plain": [
       "array([0.96974416, 0.9697404 , 0.94060067, 0.93214683, 0.91568409,\n",
       "       0.91308594, 0.91293908, 0.90858417, 0.90674947, 0.90078475,\n",
       "       0.90070527, 0.89966368, 0.89829799, 0.89733085, 0.8958819 ,\n",
       "       0.89555306, 0.89395973, 0.89183445, 0.89142539, 0.8893736 ,\n",
       "       0.88910688, 0.88759854, 0.88509022, 0.88344469, 0.88233111,\n",
       "       0.87722692, 0.87675195, 0.87564959, 0.87555804, 0.87541853])"
      ]
     },
     "execution_count": 49,
     "metadata": {},
     "output_type": "execute_result"
    }
   ],
   "source": [
    "rocs_sklearn[rocs_sklearn_argsort[0:30]] # some classes have really high performance, but this could be noisy because they might be very rare"
   ]
  },
  {
   "cell_type": "code",
   "execution_count": 50,
   "id": "b3c3d4aa-f1a0-4cc7-a145-5dc5857f50a4",
   "metadata": {},
   "outputs": [],
   "source": [
    "# look at the *average* parameters for the di-nucleotides accross all classes \n",
    "\n",
    "params_sklearn = np.concatenate([x.coef_ for x in logreg.estimators_ ], axis=0)"
   ]
  },
  {
   "cell_type": "code",
   "execution_count": 51,
   "id": "62846ed1-68b4-4a79-84ae-cb2386b8af2f",
   "metadata": {},
   "outputs": [
    {
     "name": "stdout",
     "output_type": "stream",
     "text": [
      "AA -1.3428157304060278\n",
      "AC -0.19026219337171904\n",
      "AG -0.19166209443414423\n",
      "AT -1.7205960526972355\n",
      "CA -0.7055965170133268\n",
      "CC 1.736987426165612\n",
      "CG 2.2947675387587014\n",
      "CT -0.057852674647240386\n",
      "GA 0.052665623081623376\n",
      "GC 1.747809626213544\n",
      "GG 1.888842718310146\n",
      "GT -0.22200084169696763\n",
      "TA -1.4210710093367485\n",
      "TC -0.03974672230922314\n",
      "TG -0.5604469254129936\n",
      "TT -1.2722252659827018\n"
     ]
    }
   ],
   "source": [
    "# the model gives high weight to GC-rich di-nucleotides. This is a known bias. But CG-dinucleotides also have a biological function.\n",
    "\n",
    "# https://en.wikipedia.org/wiki/CpG_site\n",
    "\n",
    "params_sklearn_mean = params_sklearn.mean(axis=0)\n",
    "for k, v in mapping.items():\n",
    "    print(f'{k} {params_sklearn_mean[v]}')"
   ]
  },
  {
   "cell_type": "code",
   "execution_count": 52,
   "id": "da2b2c92-df99-4afb-8f05-bc2ea3025c81",
   "metadata": {},
   "outputs": [],
   "source": [
    "intercepts = np.concatenate([x.intercept_ for x in logreg.estimators_ ], axis=0)"
   ]
  },
  {
   "cell_type": "code",
   "execution_count": 53,
   "id": "48a36045-cb21-46a0-b340-3a6e047b7d7c",
   "metadata": {},
   "outputs": [
    {
     "data": {
      "text/plain": [
       "array([-5.10332739, -3.35650443, -2.77475111, -2.6066617 , -4.62864921,\n",
       "       -3.97036084, -4.05791965, -2.5462975 , -2.38081283, -3.67890197])"
      ]
     },
     "execution_count": 53,
     "metadata": {},
     "output_type": "execute_result"
    }
   ],
   "source": [
    "# the intercepts will mainly capture the frequency of the class\n",
    "\n",
    "intercepts[0:10]"
   ]
  },
  {
   "cell_type": "code",
   "execution_count": 54,
   "id": "d13eba6b-954e-48fc-adc6-345a0475f279",
   "metadata": {},
   "outputs": [],
   "source": [
    "# we can save these intercepts and use them to initialize our pytorch model later \n",
    "\n",
    "initialize_intercepts = np.empty(dtype=float, shape=y_train.shape[1])\n",
    "initialize_intercepts[keep_train] = intercepts\n",
    "initialize_intercepts[~keep_train] = np.min(intercepts)+(np.random.randn(np.sum(~keep_train))*0.01) # we save the intercepts to initialize the pytorch model"
   ]
  },
  {
   "cell_type": "code",
   "execution_count": 55,
   "id": "2b9af1ae-fac8-44b0-a1f0-dd337155d16f",
   "metadata": {},
   "outputs": [
    {
     "data": {
      "text/plain": [
       "tensor([-5.1033, -3.3565, -9.1055,  ..., -5.2459, -4.8651, -8.0119],\n",
       "       dtype=torch.float64)"
      ]
     },
     "execution_count": 55,
     "metadata": {},
     "output_type": "execute_result"
    }
   ],
   "source": [
    "initialize_intercepts = tensor(initialize_intercepts)\n",
    "initialize_intercepts.double()"
   ]
  },
  {
   "cell_type": "markdown",
   "id": "73803289-6f22-4fbf-b491-e33bf8c67967",
   "metadata": {},
   "source": [
    "# 2nd\n",
    "## We do the same thing in pytorch"
   ]
  },
  {
   "cell_type": "code",
   "execution_count": 56,
   "id": "b83d37fa-af81-4d3b-ab88-189084a4c8bc",
   "metadata": {},
   "outputs": [
    {
     "name": "stdout",
     "output_type": "stream",
     "text": [
      "Number of training samples: 9096\n",
      "Number of test samples: 904\n"
     ]
    }
   ],
   "source": [
    "print(f'Number of training samples: {len(i_train)}')\n",
    "print(f'Number of test samples: {len(i_test)}')"
   ]
  },
  {
   "cell_type": "code",
   "execution_count": 57,
   "id": "05a58ed3-586a-4bb0-9155-f8d6c860723f",
   "metadata": {},
   "outputs": [],
   "source": [
    "# our DataSet supports retrieving entire batches of samples with single calls to __getitem___\n",
    "# we can make loading more efficient by using these samplers (consider the pytorch manual for more information on samplers)\n",
    "\n",
    "batch_size = 2048 # we could probably fit much more, but this is just an example...\n",
    "\n",
    "\n",
    "train_sampler = torch.utils.data.sampler.BatchSampler(\n",
    "                torch.utils.data.sampler.SubsetRandomSampler(i_train),\n",
    "                batch_size=batch_size,\n",
    "                drop_last=False)\n",
    "\n",
    "test_sampler = torch.utils.data.sampler.BatchSampler(\n",
    "                torch.utils.data.sampler.SubsetRandomSampler(i_test),\n",
    "                batch_size=batch_size,\n",
    "                drop_last=False) \n",
    "\n",
    "train_dataloader = DataLoader(dataset, sampler=train_sampler)\n",
    "test_dataloader = DataLoader(dataset, sampler=test_sampler)"
   ]
  },
  {
   "cell_type": "code",
   "execution_count": 58,
   "id": "8ded48d8-ab26-4462-a31b-eb1a4eee0c28",
   "metadata": {},
   "outputs": [
    {
     "data": {
      "text/plain": [
       "5"
      ]
     },
     "execution_count": 58,
     "metadata": {},
     "output_type": "execute_result"
    }
   ],
   "source": [
    "len(train_dataloader) # number of batches"
   ]
  },
  {
   "cell_type": "code",
   "execution_count": 59,
   "id": "6025b991-e817-47b4-84c3-4cc131f59397",
   "metadata": {},
   "outputs": [
    {
     "data": {
      "text/plain": [
       "1"
      ]
     },
     "execution_count": 59,
     "metadata": {},
     "output_type": "execute_result"
    }
   ],
   "source": [
    "len(test_dataloader)"
   ]
  },
  {
   "cell_type": "markdown",
   "id": "7f64ca18-5ea5-41d9-8b2f-d9628c4184fa",
   "metadata": {},
   "source": [
    "The remainder of the tutorial is very similar to the pytorch beginners tutorial "
   ]
  },
  {
   "cell_type": "code",
   "execution_count": 60,
   "id": "8c6c7550-a527-4293-9b10-e028e7b6a103",
   "metadata": {},
   "outputs": [
    {
     "name": "stdout",
     "output_type": "stream",
     "text": [
      "Using cpu device\n"
     ]
    }
   ],
   "source": [
    "device = \"cuda\" if torch.cuda.is_available() else \"cpu\"\n",
    "print(f\"Using {device} device\")"
   ]
  },
  {
   "cell_type": "code",
   "execution_count": 61,
   "id": "ebca8eb3-4b85-4783-b456-f65892637066",
   "metadata": {},
   "outputs": [],
   "source": [
    "class DinucleotideBaseline(nn.Module):\n",
    "    \n",
    "    '''\n",
    "    This is a baseline model that makes predictions from the average di-nucleotide content of a region\n",
    "    '''\n",
    "    \n",
    "    def __init__(self, input_size=128, n_classes=dataset.labelloader.n_labels, init_bias=None):\n",
    "        super(DinucleotideBaseline, self).__init__()\n",
    "        self.avgpool = nn.AvgPool1d(kernel_size=input_size, stride=1, padding=0)\n",
    "        self.linear = nn.Linear(in_features=4**(seq_order), out_features=n_classes)\n",
    "        self.sigmoid = nn.Sigmoid()\n",
    "        if init_bias is not None:\n",
    "            self.linear.bias.data = init_bias\n",
    "\n",
    "    def forward(self, x):\n",
    "        \n",
    "        x = torch.flatten(self.avgpool(x), 1,2)\n",
    "        x = self.linear(x)\n",
    "        out = self.sigmoid(x)\n",
    "\n",
    "        return out\n"
   ]
  },
  {
   "cell_type": "code",
   "execution_count": 62,
   "id": "71006716-13bf-4776-b36a-6466e7d93d7f",
   "metadata": {},
   "outputs": [
    {
     "data": {
      "text/plain": [
       "DinucleotideBaseline(\n",
       "  (avgpool): AvgPool1d(kernel_size=(128,), stride=(1,), padding=(0,))\n",
       "  (linear): Linear(in_features=16, out_features=2106, bias=True)\n",
       "  (sigmoid): Sigmoid()\n",
       ")"
      ]
     },
     "execution_count": 62,
     "metadata": {},
     "output_type": "execute_result"
    }
   ],
   "source": [
    "model = DinucleotideBaseline(init_bias=initialize_intercepts)\n",
    "model.double() # convert parameters to double, this seems to prevent an error...\n",
    "model.to(device)"
   ]
  },
  {
   "cell_type": "code",
   "execution_count": 63,
   "id": "86471ce6-aa39-437a-86fb-91610b2776f6",
   "metadata": {},
   "outputs": [],
   "source": [
    "X, y = dataset[[0,1,2]] # fetch the first three examples to test the model "
   ]
  },
  {
   "cell_type": "code",
   "execution_count": 67,
   "id": "0af7e4e1-e356-489f-ac12-88114b513b72",
   "metadata": {},
   "outputs": [
    {
     "data": {
      "text/plain": [
       "torch.Size([3, 2106])"
      ]
     },
     "execution_count": 67,
     "metadata": {},
     "output_type": "execute_result"
    }
   ],
   "source": [
    "pred = model(X.double()) # seems to work\n",
    "pred.shape"
   ]
  },
  {
   "cell_type": "code",
   "execution_count": 68,
   "id": "571c255b-06ad-4fa3-b5d8-973d8c9349b4",
   "metadata": {},
   "outputs": [
    {
     "name": "stdout",
     "output_type": "stream",
     "text": [
      "Layer: linear.weight | Size: torch.Size([2106, 16]) | Values : tensor([[-0.0050, -0.0068,  0.2181,  0.0415,  0.1210,  0.0182, -0.1265,  0.0138,\n",
      "         -0.1169, -0.0180, -0.1157, -0.1607,  0.1682,  0.2024,  0.1640, -0.0982],\n",
      "        [-0.0933,  0.2458, -0.0442,  0.0944, -0.1060,  0.0050,  0.2446,  0.1398,\n",
      "          0.0818, -0.2416, -0.2350,  0.0458,  0.0160, -0.0037,  0.1500,  0.1371]],\n",
      "       dtype=torch.float64, grad_fn=<SliceBackward0>) \n",
      "\n",
      "Layer: linear.bias | Size: torch.Size([2106]) | Values : tensor([-5.1033, -3.3565], dtype=torch.float64, grad_fn=<SliceBackward0>) \n",
      "\n"
     ]
    }
   ],
   "source": [
    "# the only learnable weights come from the linear layer\n",
    "for name, param in model.named_parameters():\n",
    "    print(f\"Layer: {name} | Size: {param.size()} | Values : {param[:2]} \\n\")"
   ]
  },
  {
   "cell_type": "code",
   "execution_count": 69,
   "id": "73ec7249-11dc-4a5e-b7cd-728c00d4e07f",
   "metadata": {},
   "outputs": [],
   "source": [
    "learning_rate = 1e-2 \n",
    "epochs = 20"
   ]
  },
  {
   "cell_type": "code",
   "execution_count": 70,
   "id": "99c41f5e-63e8-43b9-9793-26059b875c85",
   "metadata": {},
   "outputs": [],
   "source": [
    "loss_fn = nn.BCELoss(reduction='mean')"
   ]
  },
  {
   "cell_type": "code",
   "execution_count": 71,
   "id": "0abf34d4-c838-4547-93eb-73fe6788dbe6",
   "metadata": {},
   "outputs": [],
   "source": [
    "optimizer = torch.optim.Adam(model.parameters(), lr=learning_rate, amsgrad=True)"
   ]
  },
  {
   "cell_type": "code",
   "execution_count": 72,
   "id": "afccfa22-09dd-4f02-8b51-b49092ef331e",
   "metadata": {},
   "outputs": [],
   "source": [
    "# see pytorch toturial for more. There are probably better ways to do this...\n",
    "\n",
    "def train_loop(loader, model, loss_fn, optimizer):\n",
    "    size = len(i_train)\n",
    "    for batch, (X, y) in enumerate(loader):\n",
    "        \n",
    "        X = X[0].double()\n",
    "        y = y[0].double()\n",
    "        \n",
    "        # Compute prediction and loss\n",
    "        pred = model(X)\n",
    "        loss = loss_fn(pred, y)\n",
    "\n",
    "        # Backpropagation\n",
    "        optimizer.zero_grad()\n",
    "        loss.backward()\n",
    "        optimizer.step()\n",
    "\n",
    "        if batch % 2 == 0:\n",
    "            loss, current = loss.item(), batch * len(X)\n",
    "            print(f\"loss: {loss:>7f}  [{current:>5d}/{size:>5d}]\")\n",
    "            \n",
    "            \n",
    "def test_loop(loader, model, loss_fn):\n",
    "\n",
    "    size = len(i_test)\n",
    "    num_batches = len(loader)\n",
    "\n",
    "    test_loss = 0\n",
    "    \n",
    "    with torch.no_grad():\n",
    "        for X, y in loader:\n",
    "            \n",
    "            X = X[0].double()\n",
    "            y = y[0].double()\n",
    "            \n",
    "            pred = model(X)\n",
    "            test_loss += loss_fn(pred, y).item()\n",
    "\n",
    "    test_loss /= num_batches\n",
    "    print(f\"Test Avg loss: {test_loss:>8f} \\n\")"
   ]
  },
  {
   "cell_type": "code",
   "execution_count": 73,
   "id": "9e070680-fce9-4e0c-8a14-eaf5e97745ac",
   "metadata": {},
   "outputs": [
    {
     "name": "stdout",
     "output_type": "stream",
     "text": [
      "Epoch 1\n",
      "-------------------------------\n",
      "loss: 0.091291  [    0/ 9096]\n",
      "loss: 0.097521  [ 4096/ 9096]\n",
      "loss: 0.087215  [ 3616/ 9096]\n",
      "Test Avg loss: 0.099035 \n",
      "\n",
      "Epoch 2\n",
      "-------------------------------\n",
      "loss: 0.094959  [    0/ 9096]\n",
      "loss: 0.100017  [ 4096/ 9096]\n",
      "loss: 0.095369  [ 3616/ 9096]\n",
      "Test Avg loss: 0.098851 \n",
      "\n",
      "Epoch 3\n",
      "-------------------------------\n",
      "loss: 0.097366  [    0/ 9096]\n",
      "loss: 0.101808  [ 4096/ 9096]\n",
      "loss: 0.090323  [ 3616/ 9096]\n",
      "Test Avg loss: 0.098724 \n",
      "\n",
      "Epoch 4\n",
      "-------------------------------\n",
      "loss: 0.094205  [    0/ 9096]\n",
      "loss: 0.096581  [ 4096/ 9096]\n",
      "loss: 0.090039  [ 3616/ 9096]\n",
      "Test Avg loss: 0.098630 \n",
      "\n",
      "Epoch 5\n",
      "-------------------------------\n",
      "loss: 0.089630  [    0/ 9096]\n",
      "loss: 0.098979  [ 4096/ 9096]\n",
      "loss: 0.091749  [ 3616/ 9096]\n",
      "Test Avg loss: 0.098551 \n",
      "\n",
      "Epoch 6\n",
      "-------------------------------\n",
      "loss: 0.098459  [    0/ 9096]\n",
      "loss: 0.087571  [ 4096/ 9096]\n",
      "loss: 0.101975  [ 3616/ 9096]\n",
      "Test Avg loss: 0.098458 \n",
      "\n",
      "Epoch 7\n",
      "-------------------------------\n",
      "loss: 0.095859  [    0/ 9096]\n",
      "loss: 0.091841  [ 4096/ 9096]\n",
      "loss: 0.093446  [ 3616/ 9096]\n",
      "Test Avg loss: 0.098359 \n",
      "\n",
      "Epoch 8\n",
      "-------------------------------\n",
      "loss: 0.097406  [    0/ 9096]\n",
      "loss: 0.088661  [ 4096/ 9096]\n",
      "loss: 0.097469  [ 3616/ 9096]\n",
      "Test Avg loss: 0.098252 \n",
      "\n",
      "Epoch 9\n",
      "-------------------------------\n",
      "loss: 0.091636  [    0/ 9096]\n",
      "loss: 0.091842  [ 4096/ 9096]\n",
      "loss: 0.096758  [ 3616/ 9096]\n",
      "Test Avg loss: 0.098145 \n",
      "\n",
      "Epoch 10\n",
      "-------------------------------\n",
      "loss: 0.093508  [    0/ 9096]\n",
      "loss: 0.097525  [ 4096/ 9096]\n",
      "loss: 0.095376  [ 3616/ 9096]\n",
      "Test Avg loss: 0.098036 \n",
      "\n",
      "Epoch 11\n",
      "-------------------------------\n",
      "loss: 0.091725  [    0/ 9096]\n",
      "loss: 0.094120  [ 4096/ 9096]\n",
      "loss: 0.102958  [ 3616/ 9096]\n",
      "Test Avg loss: 0.097935 \n",
      "\n",
      "Epoch 12\n",
      "-------------------------------\n",
      "loss: 0.097795  [    0/ 9096]\n",
      "loss: 0.094343  [ 4096/ 9096]\n",
      "loss: 0.096036  [ 3616/ 9096]\n",
      "Test Avg loss: 0.097836 \n",
      "\n",
      "Epoch 13\n",
      "-------------------------------\n",
      "loss: 0.094602  [    0/ 9096]\n",
      "loss: 0.097899  [ 4096/ 9096]\n",
      "loss: 0.085046  [ 3616/ 9096]\n",
      "Test Avg loss: 0.097741 \n",
      "\n",
      "Epoch 14\n",
      "-------------------------------\n",
      "loss: 0.092227  [    0/ 9096]\n",
      "loss: 0.095638  [ 4096/ 9096]\n",
      "loss: 0.089898  [ 3616/ 9096]\n",
      "Test Avg loss: 0.097654 \n",
      "\n",
      "Epoch 15\n",
      "-------------------------------\n",
      "loss: 0.088438  [    0/ 9096]\n",
      "loss: 0.101580  [ 4096/ 9096]\n",
      "loss: 0.088028  [ 3616/ 9096]\n",
      "Test Avg loss: 0.097583 \n",
      "\n",
      "Epoch 16\n",
      "-------------------------------\n",
      "loss: 0.096890  [    0/ 9096]\n",
      "loss: 0.098614  [ 4096/ 9096]\n",
      "loss: 0.087305  [ 3616/ 9096]\n",
      "Test Avg loss: 0.097513 \n",
      "\n",
      "Epoch 17\n",
      "-------------------------------\n",
      "loss: 0.091407  [    0/ 9096]\n",
      "loss: 0.093852  [ 4096/ 9096]\n",
      "loss: 0.092938  [ 3616/ 9096]\n",
      "Test Avg loss: 0.097437 \n",
      "\n",
      "Epoch 18\n",
      "-------------------------------\n",
      "loss: 0.096041  [    0/ 9096]\n",
      "loss: 0.092576  [ 4096/ 9096]\n",
      "loss: 0.096099  [ 3616/ 9096]\n",
      "Test Avg loss: 0.097357 \n",
      "\n",
      "Epoch 19\n",
      "-------------------------------\n",
      "loss: 0.095557  [    0/ 9096]\n",
      "loss: 0.090930  [ 4096/ 9096]\n",
      "loss: 0.091415  [ 3616/ 9096]\n",
      "Test Avg loss: 0.097286 \n",
      "\n",
      "Epoch 20\n",
      "-------------------------------\n",
      "loss: 0.093141  [    0/ 9096]\n",
      "loss: 0.093231  [ 4096/ 9096]\n",
      "loss: 0.092020  [ 3616/ 9096]\n",
      "Test Avg loss: 0.097200 \n",
      "\n",
      "Done!\n"
     ]
    }
   ],
   "source": [
    "# as we loop over the dataset multiple times, the loss should go down...\n",
    "\n",
    "for t in range(epochs):\n",
    "    print(f\"Epoch {t+1}\\n-------------------------------\")\n",
    "    train_loop(train_dataloader, model, loss_fn, optimizer)\n",
    "    test_loop(test_dataloader, model, loss_fn)\n",
    "print(\"Done!\")"
   ]
  },
  {
   "cell_type": "code",
   "execution_count": 74,
   "id": "29a494d5-9903-4418-b109-6769a2bdce83",
   "metadata": {},
   "outputs": [],
   "source": [
    "params_pytorch = model.get_parameter('linear.weight').detach().numpy()"
   ]
  },
  {
   "cell_type": "code",
   "execution_count": 75,
   "id": "de1920f1-607b-447e-82d9-fb013dd03907",
   "metadata": {},
   "outputs": [
    {
     "data": {
      "text/plain": [
       "(2106, 16)"
      ]
     },
     "execution_count": 75,
     "metadata": {},
     "output_type": "execute_result"
    }
   ],
   "source": [
    "params_pytorch.shape"
   ]
  },
  {
   "cell_type": "code",
   "execution_count": 76,
   "id": "721f7e21-eb03-4fc3-9c33-87b8b121f539",
   "metadata": {},
   "outputs": [],
   "source": [
    "params_pytorch_mean = params_pytorch.mean(axis=0)"
   ]
  },
  {
   "cell_type": "code",
   "execution_count": 77,
   "id": "f2be8112-e070-4615-9473-d5dc198386eb",
   "metadata": {},
   "outputs": [],
   "source": [
    "from matplotlib import pyplot as plt"
   ]
  },
  {
   "cell_type": "code",
   "execution_count": 78,
   "id": "c13f6147-4a3f-4fb0-bb82-650e551bf7cc",
   "metadata": {},
   "outputs": [
    {
     "data": {
      "text/plain": [
       "<matplotlib.collections.PathCollection at 0x7fa487a7bc10>"
      ]
     },
     "execution_count": 78,
     "metadata": {},
     "output_type": "execute_result"
    },
    {
     "data": {
      "image/png": "[encoded data removed]",
      "text/plain": [
       "<Figure size 640x480 with 1 Axes>"
      ]
     },
     "metadata": {},
     "output_type": "display_data"
    }
   ],
   "source": [
    "plt.scatter(params_sklearn_mean, params_pytorch_mean) # the two models learn similar average weights..."
   ]
  },
  {
   "cell_type": "code",
   "execution_count": 79,
   "id": "22da9021-10d6-4c5e-859e-340b43fbf0d0",
   "metadata": {},
   "outputs": [],
   "source": [
    "param_min = params_pytorch.min(axis=0)\n",
    "param_max = params_pytorch.max(axis=0)\n",
    "param_std = params_pytorch.std(axis=0)"
   ]
  },
  {
   "cell_type": "code",
   "execution_count": 80,
   "id": "c24e5fb2-0bf4-454d-a5dd-16debb511077",
   "metadata": {},
   "outputs": [
    {
     "name": "stdout",
     "output_type": "stream",
     "text": [
      "AA: mean = -0.5245 (vs -1.3428), std = 0.3390, min = -1.0977, max = 0.9291\n",
      "AC: mean = -0.1782 (vs -0.1903), std = 0.2246, min = -0.6544, max = 0.9667\n",
      "AG: mean = 0.0024 (vs -0.1917), std = 0.2262, min = -0.5552, max = 1.0530\n",
      "AT: mean = -0.6035 (vs -1.7206), std = 0.3521, min = -1.1228, max = 1.2198\n",
      "CA: mean = -0.1895 (vs -0.7056), std = 0.2681, min = -0.7831, max = 1.0800\n",
      "CC: mean = 0.5909 (vs 1.7370), std = 0.3453, min = -0.8637, max = 1.1958\n",
      "CG: mean = 0.6897 (vs 2.2948), std = 0.3826, min = -0.9997, max = 1.2154\n",
      "CT: mean = -0.0034 (vs -0.0579), std = 0.2285, min = -0.5465, max = 1.0137\n",
      "GA: mean = -0.0357 (vs 0.0527), std = 0.1931, min = -0.4874, max = 1.1184\n",
      "GC: mean = 0.6112 (vs 1.7478), std = 0.3494, min = -0.9084, max = 1.1643\n",
      "GG: mean = 0.5959 (vs 1.8888), std = 0.3490, min = -1.0484, max = 1.1813\n",
      "GT: mean = -0.1609 (vs -0.2220), std = 0.2360, min = -0.6359, max = 1.0428\n",
      "TA: mean = -0.6078 (vs -1.4211), std = 0.3335, min = -1.1591, max = 0.9130\n",
      "TC: mean = -0.0431 (vs -0.0397), std = 0.1917, min = -0.5164, max = 1.0033\n",
      "TG: mean = -0.1770 (vs -0.5604), std = 0.2807, min = -0.8314, max = 0.9113\n",
      "TT: mean = -0.5164 (vs -1.2722), std = 0.3443, min = -1.1466, max = 0.9945\n"
     ]
    }
   ],
   "source": [
    "for k, v in mapping.items():\n",
    "    print(f'{k}: mean = {params_pytorch_mean[v]:.4f} (vs {params_sklearn_mean[v]:.4f}), std = {param_std[v]:.4f}, min = {param_min[v]:.4f}, max = {param_max[v]:.4f}')"
   ]
  },
  {
   "cell_type": "code",
   "execution_count": 81,
   "id": "250a7569-cd6b-4ced-9945-ef6dd4c175d4",
   "metadata": {},
   "outputs": [],
   "source": [
    "X_test, y_test = dataset[i_test]"
   ]
  },
  {
   "cell_type": "code",
   "execution_count": 84,
   "id": "2a0ca514-e692-4228-83ce-2e99c89bc140",
   "metadata": {},
   "outputs": [],
   "source": [
    "y_hat = model(X_test.double())"
   ]
  },
  {
   "cell_type": "code",
   "execution_count": 85,
   "id": "183d9366-2b6c-447a-b09e-c26fefb9f3ef",
   "metadata": {},
   "outputs": [],
   "source": [
    "y_hat = y_hat.detach().numpy()"
   ]
  },
  {
   "cell_type": "code",
   "execution_count": 86,
   "id": "87e84a7b-cc7f-4ca8-a9f9-b71136fb58c7",
   "metadata": {},
   "outputs": [],
   "source": [
    "y_test = y_test.numpy()"
   ]
  },
  {
   "cell_type": "code",
   "execution_count": 87,
   "id": "37b0abc1-c079-48e3-93ae-232ab6b8a929",
   "metadata": {},
   "outputs": [
    {
     "data": {
      "text/plain": [
       "True"
      ]
     },
     "execution_count": 87,
     "metadata": {},
     "output_type": "execute_result"
    }
   ],
   "source": [
    "y_test.shape == y_hat.shape"
   ]
  },
  {
   "cell_type": "code",
   "execution_count": 88,
   "id": "ae34fce5-def1-437c-923e-aa2f92f2c04e",
   "metadata": {},
   "outputs": [],
   "source": [
    "rocs_pytorch = [ roc_auc_score(y_test[:,i], y_hat[:,i]) for i in rocs_i ]"
   ]
  },
  {
   "cell_type": "code",
   "execution_count": 89,
   "id": "abb355bb-a6de-40ff-915f-5c04e83726c8",
   "metadata": {},
   "outputs": [
    {
     "data": {
      "text/plain": [
       "0.6874342214542081"
      ]
     },
     "execution_count": 89,
     "metadata": {},
     "output_type": "execute_result"
    }
   ],
   "source": [
    "np.mean(rocs_pytorch) # the average classifier performance "
   ]
  },
  {
   "cell_type": "code",
   "execution_count": 90,
   "id": "f17ae18a-7d66-4e20-9a02-fb9e93020558",
   "metadata": {},
   "outputs": [],
   "source": [
    "rocs_pytorch_argsort = np.argsort(-np.array(rocs_pytorch))"
   ]
  },
  {
   "cell_type": "code",
   "execution_count": 91,
   "id": "771e0764-23a8-4c53-aaea-18fe6266cd47",
   "metadata": {},
   "outputs": [
    {
     "data": {
      "text/plain": [
       "<matplotlib.collections.PathCollection at 0x7fa4878622f0>"
      ]
     },
     "execution_count": 91,
     "metadata": {},
     "output_type": "execute_result"
    },
    {
     "data": {
      "image/png": "[encoded data removed]",
      "text/plain": [
       "<Figure size 640x480 with 1 Axes>"
      ]
     },
     "metadata": {},
     "output_type": "display_data"
    }
   ],
   "source": [
    "plt.scatter(rocs_sklearn, rocs_pytorch)"
   ]
  },
  {
   "cell_type": "code",
   "execution_count": 92,
   "id": "8b131cf7-b22b-4a5f-a89d-c484f08ffdf8",
   "metadata": {},
   "outputs": [
    {
     "data": {
      "text/plain": [
       "array([[1.        , 0.96732436],\n",
       "       [0.96732436, 1.        ]])"
      ]
     },
     "execution_count": 92,
     "metadata": {},
     "output_type": "execute_result"
    }
   ],
   "source": [
    "np.corrcoef(rocs_pytorch, rocs_sklearn)"
   ]
  },
  {
   "cell_type": "code",
   "execution_count": 93,
   "id": "03f79754-d3d1-421e-b5fe-b165c45d187f",
   "metadata": {},
   "outputs": [
    {
     "data": {
      "text/plain": [
       "array([ 385,  257, 1413,  846,  351,   31,  658,  670,  109,  542])"
      ]
     },
     "execution_count": 93,
     "metadata": {},
     "output_type": "execute_result"
    }
   ],
   "source": [
    "rocs_pytorch_argsort[0:10]"
   ]
  },
  {
   "cell_type": "code",
   "execution_count": 94,
   "id": "fdc0a086-413e-4e65-b69b-c7f5a8d26d85",
   "metadata": {},
   "outputs": [
    {
     "data": {
      "text/plain": [
       "array([ 385,  257,  846, 1413, 1417,   31,  658,  351,  109,  656])"
      ]
     },
     "execution_count": 94,
     "metadata": {},
     "output_type": "execute_result"
    }
   ],
   "source": [
    "rocs_sklearn_argsort[0:10]"
   ]
  },
  {
   "cell_type": "code",
   "execution_count": 95,
   "id": "7247c9b3-fe2d-4c15-8453-cb1c9bee153d",
   "metadata": {},
   "outputs": [],
   "source": [
    "import pandas as pd"
   ]
  },
  {
   "cell_type": "markdown",
   "id": "03d7a157-9cd5-48d7-8227-0e04952002f4",
   "metadata": {},
   "source": [
    "### Loading Metadata\n",
    "For every output class, I have calculated different quality metrics (`*_QC.tsv`) and extracted relevant metadata (`*_metadata_processed.tsv`)."
   ]
  },
  {
   "cell_type": "code",
   "execution_count": 96,
   "id": "d91cad50-38fc-4ec1-8d8c-25ec405f4a36",
   "metadata": {},
   "outputs": [],
   "source": [
    "md_qc = pd.read_csv('../220407_hg38_roi_mincov2_nc10_QC.tsv', sep='\\t')\n",
    "md = pd.read_csv('data/processed/221111_encode_metadata_processed.tsv', sep='\\t')"
   ]
  },
  {
   "cell_type": "code",
   "execution_count": 97,
   "id": "f72a2dd9-4aac-4b70-a2d4-c7608a7535ff",
   "metadata": {},
   "outputs": [
    {
     "data": {
      "text/html": [
       "<div>\n",
       "<style scoped>\n",
       "    .dataframe tbody tr th:only-of-type {\n",
       "        vertical-align: middle;\n",
       "    }\n",
       "\n",
       "    .dataframe tbody tr th {\n",
       "        vertical-align: top;\n",
       "    }\n",
       "\n",
       "    .dataframe thead th {\n",
       "        text-align: right;\n",
       "    }\n",
       "</style>\n",
       "<table border=\"1\" class=\"dataframe\">\n",
       "  <thead>\n",
       "    <tr style=\"text-align: right;\">\n",
       "      <th></th>\n",
       "      <th>File_accession</th>\n",
       "      <th>Biosample_term_name</th>\n",
       "      <th>Biosample_organ_slims</th>\n",
       "      <th>Biosample_system_slims</th>\n",
       "      <th>Biosample_developmental_slims</th>\n",
       "      <th>Biosample_organism</th>\n",
       "      <th>proc_Assay_lvl1</th>\n",
       "      <th>proc_target</th>\n",
       "      <th>Experiment_date_released</th>\n",
       "      <th>Library_lab</th>\n",
       "      <th>spot2_score</th>\n",
       "      <th>five_percent_narrowpeaks_count</th>\n",
       "      <th>frip</th>\n",
       "      <th>reproducible_peaks</th>\n",
       "      <th>proc_age_bin</th>\n",
       "      <th>proc_age_bin_units</th>\n",
       "      <th>proc_Biosample_life_stage</th>\n",
       "    </tr>\n",
       "  </thead>\n",
       "  <tbody>\n",
       "    <tr>\n",
       "      <th>0</th>\n",
       "      <td>ENCFF007FAW</td>\n",
       "      <td>gastroesophageal sphincter</td>\n",
       "      <td>musculature of body,stomach</td>\n",
       "      <td>digestive system,musculature</td>\n",
       "      <td>endoderm</td>\n",
       "      <td>Homo sapiens</td>\n",
       "      <td>ATAC-seq</td>\n",
       "      <td>Accessible DNA</td>\n",
       "      <td>2016-06-15</td>\n",
       "      <td>/labs/michael-snyder/</td>\n",
       "      <td>NaN</td>\n",
       "      <td>NaN</td>\n",
       "      <td>0.220021</td>\n",
       "      <td>148398.0</td>\n",
       "      <td>50</td>\n",
       "      <td>year</td>\n",
       "      <td>adult</td>\n",
       "    </tr>\n",
       "    <tr>\n",
       "      <th>1</th>\n",
       "      <td>ENCFF009YES</td>\n",
       "      <td>left colon</td>\n",
       "      <td>colon,intestine,large intestine</td>\n",
       "      <td>digestive system</td>\n",
       "      <td>endoderm</td>\n",
       "      <td>Homo sapiens</td>\n",
       "      <td>ATAC-seq</td>\n",
       "      <td>Accessible DNA</td>\n",
       "      <td>2020-08-17</td>\n",
       "      <td>/labs/michael-snyder/</td>\n",
       "      <td>NaN</td>\n",
       "      <td>NaN</td>\n",
       "      <td>0.557630</td>\n",
       "      <td>260427.0</td>\n",
       "      <td>45</td>\n",
       "      <td>year</td>\n",
       "      <td>adult</td>\n",
       "    </tr>\n",
       "    <tr>\n",
       "      <th>2</th>\n",
       "      <td>ENCFF010JOP</td>\n",
       "      <td>adrenal gland</td>\n",
       "      <td>adrenal gland,endocrine gland</td>\n",
       "      <td>endocrine system</td>\n",
       "      <td>ectoderm,mesoderm</td>\n",
       "      <td>Homo sapiens</td>\n",
       "      <td>ATAC-seq</td>\n",
       "      <td>Accessible DNA</td>\n",
       "      <td>2016-10-31</td>\n",
       "      <td>/labs/michael-snyder/</td>\n",
       "      <td>NaN</td>\n",
       "      <td>NaN</td>\n",
       "      <td>0.282873</td>\n",
       "      <td>213082.0</td>\n",
       "      <td>50</td>\n",
       "      <td>year</td>\n",
       "      <td>adult</td>\n",
       "    </tr>\n",
       "    <tr>\n",
       "      <th>3</th>\n",
       "      <td>ENCFF012BKZ</td>\n",
       "      <td>heart right ventricle</td>\n",
       "      <td>heart</td>\n",
       "      <td>circulatory system</td>\n",
       "      <td>mesoderm</td>\n",
       "      <td>Homo sapiens</td>\n",
       "      <td>ATAC-seq</td>\n",
       "      <td>Accessible DNA</td>\n",
       "      <td>2020-08-05</td>\n",
       "      <td>/labs/michael-snyder/</td>\n",
       "      <td>NaN</td>\n",
       "      <td>NaN</td>\n",
       "      <td>0.320655</td>\n",
       "      <td>237529.0</td>\n",
       "      <td>60</td>\n",
       "      <td>year</td>\n",
       "      <td>adult</td>\n",
       "    </tr>\n",
       "    <tr>\n",
       "      <th>4</th>\n",
       "      <td>ENCFF018EMP</td>\n",
       "      <td>sigmoid colon</td>\n",
       "      <td>colon,intestine,large intestine</td>\n",
       "      <td>digestive system</td>\n",
       "      <td>endoderm</td>\n",
       "      <td>Homo sapiens</td>\n",
       "      <td>ATAC-seq</td>\n",
       "      <td>Accessible DNA</td>\n",
       "      <td>2016-06-15</td>\n",
       "      <td>/labs/michael-snyder/</td>\n",
       "      <td>NaN</td>\n",
       "      <td>NaN</td>\n",
       "      <td>0.128024</td>\n",
       "      <td>123460.0</td>\n",
       "      <td>35</td>\n",
       "      <td>year</td>\n",
       "      <td>adult</td>\n",
       "    </tr>\n",
       "  </tbody>\n",
       "</table>\n",
       "</div>"
      ],
      "text/plain": [
       "  File_accession         Biosample_term_name            Biosample_organ_slims   \n",
       "0    ENCFF007FAW  gastroesophageal sphincter      musculature of body,stomach  \\\n",
       "1    ENCFF009YES                  left colon  colon,intestine,large intestine   \n",
       "2    ENCFF010JOP               adrenal gland    adrenal gland,endocrine gland   \n",
       "3    ENCFF012BKZ       heart right ventricle                            heart   \n",
       "4    ENCFF018EMP               sigmoid colon  colon,intestine,large intestine   \n",
       "\n",
       "         Biosample_system_slims Biosample_developmental_slims   \n",
       "0  digestive system,musculature                      endoderm  \\\n",
       "1              digestive system                      endoderm   \n",
       "2              endocrine system             ectoderm,mesoderm   \n",
       "3            circulatory system                      mesoderm   \n",
       "4              digestive system                      endoderm   \n",
       "\n",
       "  Biosample_organism proc_Assay_lvl1     proc_target Experiment_date_released   \n",
       "0       Homo sapiens        ATAC-seq  Accessible DNA               2016-06-15  \\\n",
       "1       Homo sapiens        ATAC-seq  Accessible DNA               2020-08-17   \n",
       "2       Homo sapiens        ATAC-seq  Accessible DNA               2016-10-31   \n",
       "3       Homo sapiens        ATAC-seq  Accessible DNA               2020-08-05   \n",
       "4       Homo sapiens        ATAC-seq  Accessible DNA               2016-06-15   \n",
       "\n",
       "             Library_lab  spot2_score  five_percent_narrowpeaks_count   \n",
       "0  /labs/michael-snyder/          NaN                             NaN  \\\n",
       "1  /labs/michael-snyder/          NaN                             NaN   \n",
       "2  /labs/michael-snyder/          NaN                             NaN   \n",
       "3  /labs/michael-snyder/          NaN                             NaN   \n",
       "4  /labs/michael-snyder/          NaN                             NaN   \n",
       "\n",
       "       frip  reproducible_peaks proc_age_bin proc_age_bin_units   \n",
       "0  0.220021            148398.0           50               year  \\\n",
       "1  0.557630            260427.0           45               year   \n",
       "2  0.282873            213082.0           50               year   \n",
       "3  0.320655            237529.0           60               year   \n",
       "4  0.128024            123460.0           35               year   \n",
       "\n",
       "  proc_Biosample_life_stage  \n",
       "0                     adult  \n",
       "1                     adult  \n",
       "2                     adult  \n",
       "3                     adult  \n",
       "4                     adult  "
      ]
     },
     "execution_count": 97,
     "metadata": {},
     "output_type": "execute_result"
    }
   ],
   "source": [
    "md.rename(columns={c: c.replace('.','_') for c in md.columns}, inplace=True)\n",
    "md_qc.rename(columns={c: c.replace('.','_') for c in md.columns}, inplace=True)\n",
    "md_qc.rename(columns={'Unnamed: 0': 'File_accession'}, inplace=True)\n",
    "# 221111_encode_metadata_processed.tsv contains information about the different classes\n",
    "# later I would like to incorporate this metadata into the learning process\n",
    "md.head()"
   ]
  },
  {
   "cell_type": "code",
   "execution_count": 98,
   "id": "dd75a8e4-5ccf-4575-a9ca-a9c68bbd711c",
   "metadata": {},
   "outputs": [
    {
     "data": {
      "text/html": [
       "<div>\n",
       "<style scoped>\n",
       "    .dataframe tbody tr th:only-of-type {\n",
       "        vertical-align: middle;\n",
       "    }\n",
       "\n",
       "    .dataframe tbody tr th {\n",
       "        vertical-align: top;\n",
       "    }\n",
       "\n",
       "    .dataframe thead th {\n",
       "        text-align: right;\n",
       "    }\n",
       "</style>\n",
       "<table border=\"1\" class=\"dataframe\">\n",
       "  <thead>\n",
       "    <tr style=\"text-align: right;\">\n",
       "      <th></th>\n",
       "      <th>File_accession</th>\n",
       "      <th>N_peaks</th>\n",
       "      <th>bp_covered</th>\n",
       "      <th>non_zero</th>\n",
       "      <th>score_max</th>\n",
       "      <th>score_mean</th>\n",
       "      <th>score_median</th>\n",
       "      <th>score_min</th>\n",
       "      <th>score_q25</th>\n",
       "      <th>score_q75</th>\n",
       "      <th>...</th>\n",
       "      <th>TSS_lncRNA_enrich</th>\n",
       "      <th>TSS_protein_coding_enrich</th>\n",
       "      <th>TSS_rRNA_enrich</th>\n",
       "      <th>promoter_lncRNA_enrich</th>\n",
       "      <th>promoter_protein_coding_enrich</th>\n",
       "      <th>promoter_rRNA_enrich</th>\n",
       "      <th>CDS_enrich</th>\n",
       "      <th>five_prime_UTR_enrich</th>\n",
       "      <th>three_prime_UTR_enrich</th>\n",
       "      <th>intron_enrich</th>\n",
       "    </tr>\n",
       "  </thead>\n",
       "  <tbody>\n",
       "    <tr>\n",
       "      <th>0</th>\n",
       "      <td>ENCFF003IMJ</td>\n",
       "      <td>28868.0</td>\n",
       "      <td>12878538.0</td>\n",
       "      <td>0.006282</td>\n",
       "      <td>18.11870</td>\n",
       "      <td>5.255017</td>\n",
       "      <td>5.015800</td>\n",
       "      <td>2.041190</td>\n",
       "      <td>4.266300</td>\n",
       "      <td>5.927760</td>\n",
       "      <td>...</td>\n",
       "      <td>1.075011</td>\n",
       "      <td>0.511839</td>\n",
       "      <td>0.000000</td>\n",
       "      <td>0.933792</td>\n",
       "      <td>0.624095</td>\n",
       "      <td>0.000000</td>\n",
       "      <td>2.047153</td>\n",
       "      <td>0.992063</td>\n",
       "      <td>2.064651</td>\n",
       "      <td>0.711246</td>\n",
       "    </tr>\n",
       "    <tr>\n",
       "      <th>1</th>\n",
       "      <td>ENCFF003KOQ</td>\n",
       "      <td>270663.0</td>\n",
       "      <td>59051563.0</td>\n",
       "      <td>0.028561</td>\n",
       "      <td>19.67660</td>\n",
       "      <td>0.743396</td>\n",
       "      <td>0.394735</td>\n",
       "      <td>0.007519</td>\n",
       "      <td>0.236841</td>\n",
       "      <td>0.785710</td>\n",
       "      <td>...</td>\n",
       "      <td>6.383012</td>\n",
       "      <td>8.532097</td>\n",
       "      <td>2.121995</td>\n",
       "      <td>2.981906</td>\n",
       "      <td>3.052459</td>\n",
       "      <td>0.567541</td>\n",
       "      <td>1.462436</td>\n",
       "      <td>7.948689</td>\n",
       "      <td>1.058709</td>\n",
       "      <td>1.100186</td>\n",
       "    </tr>\n",
       "    <tr>\n",
       "      <th>2</th>\n",
       "      <td>ENCFF003KVZ</td>\n",
       "      <td>3151.0</td>\n",
       "      <td>794841.0</td>\n",
       "      <td>0.000371</td>\n",
       "      <td>14.47028</td>\n",
       "      <td>3.343118</td>\n",
       "      <td>3.331290</td>\n",
       "      <td>1.865750</td>\n",
       "      <td>3.001530</td>\n",
       "      <td>3.681715</td>\n",
       "      <td>...</td>\n",
       "      <td>2.763362</td>\n",
       "      <td>3.730073</td>\n",
       "      <td>0.000000</td>\n",
       "      <td>2.363636</td>\n",
       "      <td>2.952908</td>\n",
       "      <td>0.000000</td>\n",
       "      <td>1.277884</td>\n",
       "      <td>4.135471</td>\n",
       "      <td>1.589795</td>\n",
       "      <td>1.242434</td>\n",
       "    </tr>\n",
       "    <tr>\n",
       "      <th>3</th>\n",
       "      <td>ENCFF003TGC</td>\n",
       "      <td>74706.0</td>\n",
       "      <td>96037308.0</td>\n",
       "      <td>0.046598</td>\n",
       "      <td>78.86799</td>\n",
       "      <td>7.510577</td>\n",
       "      <td>4.893270</td>\n",
       "      <td>1.742160</td>\n",
       "      <td>3.920620</td>\n",
       "      <td>7.609360</td>\n",
       "      <td>...</td>\n",
       "      <td>5.411217</td>\n",
       "      <td>8.217849</td>\n",
       "      <td>1.300609</td>\n",
       "      <td>3.748547</td>\n",
       "      <td>4.321479</td>\n",
       "      <td>0.722470</td>\n",
       "      <td>2.202078</td>\n",
       "      <td>9.579459</td>\n",
       "      <td>1.321944</td>\n",
       "      <td>1.191383</td>\n",
       "    </tr>\n",
       "    <tr>\n",
       "      <th>4</th>\n",
       "      <td>ENCFF004ANL</td>\n",
       "      <td>69167.0</td>\n",
       "      <td>111641447.0</td>\n",
       "      <td>0.054231</td>\n",
       "      <td>95.88441</td>\n",
       "      <td>11.268159</td>\n",
       "      <td>6.088260</td>\n",
       "      <td>1.921710</td>\n",
       "      <td>4.456770</td>\n",
       "      <td>11.942465</td>\n",
       "      <td>...</td>\n",
       "      <td>4.715368</td>\n",
       "      <td>7.121110</td>\n",
       "      <td>0.558776</td>\n",
       "      <td>3.403606</td>\n",
       "      <td>3.997887</td>\n",
       "      <td>0.344880</td>\n",
       "      <td>2.081526</td>\n",
       "      <td>8.259164</td>\n",
       "      <td>1.479355</td>\n",
       "      <td>1.346014</td>\n",
       "    </tr>\n",
       "  </tbody>\n",
       "</table>\n",
       "<p>5 rows × 270 columns</p>\n",
       "</div>"
      ],
      "text/plain": [
       "  File_accession   N_peaks   bp_covered  non_zero  score_max  score_mean   \n",
       "0    ENCFF003IMJ   28868.0   12878538.0  0.006282   18.11870    5.255017  \\\n",
       "1    ENCFF003KOQ  270663.0   59051563.0  0.028561   19.67660    0.743396   \n",
       "2    ENCFF003KVZ    3151.0     794841.0  0.000371   14.47028    3.343118   \n",
       "3    ENCFF003TGC   74706.0   96037308.0  0.046598   78.86799    7.510577   \n",
       "4    ENCFF004ANL   69167.0  111641447.0  0.054231   95.88441   11.268159   \n",
       "\n",
       "   score_median  score_min  score_q25  score_q75  ...  TSS_lncRNA_enrich   \n",
       "0      5.015800   2.041190   4.266300   5.927760  ...           1.075011  \\\n",
       "1      0.394735   0.007519   0.236841   0.785710  ...           6.383012   \n",
       "2      3.331290   1.865750   3.001530   3.681715  ...           2.763362   \n",
       "3      4.893270   1.742160   3.920620   7.609360  ...           5.411217   \n",
       "4      6.088260   1.921710   4.456770  11.942465  ...           4.715368   \n",
       "\n",
       "   TSS_protein_coding_enrich  TSS_rRNA_enrich  promoter_lncRNA_enrich   \n",
       "0                   0.511839         0.000000                0.933792  \\\n",
       "1                   8.532097         2.121995                2.981906   \n",
       "2                   3.730073         0.000000                2.363636   \n",
       "3                   8.217849         1.300609                3.748547   \n",
       "4                   7.121110         0.558776                3.403606   \n",
       "\n",
       "   promoter_protein_coding_enrich  promoter_rRNA_enrich  CDS_enrich   \n",
       "0                        0.624095              0.000000    2.047153  \\\n",
       "1                        3.052459              0.567541    1.462436   \n",
       "2                        2.952908              0.000000    1.277884   \n",
       "3                        4.321479              0.722470    2.202078   \n",
       "4                        3.997887              0.344880    2.081526   \n",
       "\n",
       "   five_prime_UTR_enrich  three_prime_UTR_enrich  intron_enrich  \n",
       "0               0.992063                2.064651       0.711246  \n",
       "1               7.948689                1.058709       1.100186  \n",
       "2               4.135471                1.589795       1.242434  \n",
       "3               9.579459                1.321944       1.191383  \n",
       "4               8.259164                1.479355       1.346014  \n",
       "\n",
       "[5 rows x 270 columns]"
      ]
     },
     "execution_count": 98,
     "metadata": {},
     "output_type": "execute_result"
    }
   ],
   "source": [
    "# 220407_hg38_roi_mincov2_nc10_QC.tsv contains quality metrics....\n",
    "md_qc.head()"
   ]
  },
  {
   "cell_type": "code",
   "execution_count": 99,
   "id": "8272eb5f-26b0-44f9-8765-2a6049fbe4b3",
   "metadata": {},
   "outputs": [],
   "source": [
    "md = md.merge(md_qc, on=['File_accession']).sort_values(['File_accession']).reset_index(drop=True)\n",
    "del(md_qc)"
   ]
  },
  {
   "cell_type": "code",
   "execution_count": 100,
   "id": "675591c9-30c2-4092-96e0-8667b25a6cb5",
   "metadata": {},
   "outputs": [
    {
     "data": {
      "text/plain": [
       "(2106, 286)"
      ]
     },
     "execution_count": 100,
     "metadata": {},
     "output_type": "execute_result"
    }
   ],
   "source": [
    "md.shape"
   ]
  },
  {
   "cell_type": "code",
   "execution_count": 101,
   "id": "a7a8f3e9-2879-4815-a2bb-e0a296d287fe",
   "metadata": {},
   "outputs": [],
   "source": [
    "md_filter = md.loc[rocs_i]"
   ]
  },
  {
   "cell_type": "code",
   "execution_count": 102,
   "id": "20870ae2-47e3-4d1a-914e-5f398889feb1",
   "metadata": {},
   "outputs": [
    {
     "data": {
      "text/html": [
       "<div>\n",
       "<style scoped>\n",
       "    .dataframe tbody tr th:only-of-type {\n",
       "        vertical-align: middle;\n",
       "    }\n",
       "\n",
       "    .dataframe tbody tr th {\n",
       "        vertical-align: top;\n",
       "    }\n",
       "\n",
       "    .dataframe thead th {\n",
       "        text-align: right;\n",
       "    }\n",
       "</style>\n",
       "<table border=\"1\" class=\"dataframe\">\n",
       "  <thead>\n",
       "    <tr style=\"text-align: right;\">\n",
       "      <th></th>\n",
       "      <th>File_accession</th>\n",
       "      <th>Biosample_term_name</th>\n",
       "      <th>Biosample_organ_slims</th>\n",
       "      <th>Biosample_system_slims</th>\n",
       "      <th>Biosample_developmental_slims</th>\n",
       "      <th>Biosample_organism</th>\n",
       "      <th>proc_Assay_lvl1</th>\n",
       "      <th>proc_target</th>\n",
       "      <th>Experiment_date_released</th>\n",
       "      <th>Library_lab</th>\n",
       "      <th>...</th>\n",
       "      <th>TSS_lncRNA_enrich</th>\n",
       "      <th>TSS_protein_coding_enrich</th>\n",
       "      <th>TSS_rRNA_enrich</th>\n",
       "      <th>promoter_lncRNA_enrich</th>\n",
       "      <th>promoter_protein_coding_enrich</th>\n",
       "      <th>promoter_rRNA_enrich</th>\n",
       "      <th>CDS_enrich</th>\n",
       "      <th>five_prime_UTR_enrich</th>\n",
       "      <th>three_prime_UTR_enrich</th>\n",
       "      <th>intron_enrich</th>\n",
       "    </tr>\n",
       "  </thead>\n",
       "  <tbody>\n",
       "    <tr>\n",
       "      <th>1</th>\n",
       "      <td>ENCFF003KOQ</td>\n",
       "      <td>heart</td>\n",
       "      <td>heart</td>\n",
       "      <td>circulatory system</td>\n",
       "      <td>mesoderm</td>\n",
       "      <td>Homo sapiens</td>\n",
       "      <td>DNase-seq</td>\n",
       "      <td>Accessible DNA</td>\n",
       "      <td>2016-09-22</td>\n",
       "      <td>/labs/john-stamatoyannopoulos/</td>\n",
       "      <td>...</td>\n",
       "      <td>6.383012</td>\n",
       "      <td>8.532097</td>\n",
       "      <td>2.121995</td>\n",
       "      <td>2.981906</td>\n",
       "      <td>3.052459</td>\n",
       "      <td>0.567541</td>\n",
       "      <td>1.462436</td>\n",
       "      <td>7.948689</td>\n",
       "      <td>1.058709</td>\n",
       "      <td>1.100186</td>\n",
       "    </tr>\n",
       "    <tr>\n",
       "      <th>3</th>\n",
       "      <td>ENCFF003TGC</td>\n",
       "      <td>skin epidermis</td>\n",
       "      <td>epithelium,skin of body</td>\n",
       "      <td>integumental system</td>\n",
       "      <td>ectoderm</td>\n",
       "      <td>Homo sapiens</td>\n",
       "      <td>ChIP-seq</td>\n",
       "      <td>H3K27ac</td>\n",
       "      <td>2020-09-10</td>\n",
       "      <td>/labs/bradley-bernstein/</td>\n",
       "      <td>...</td>\n",
       "      <td>5.411217</td>\n",
       "      <td>8.217849</td>\n",
       "      <td>1.300609</td>\n",
       "      <td>3.748547</td>\n",
       "      <td>4.321479</td>\n",
       "      <td>0.722470</td>\n",
       "      <td>2.202078</td>\n",
       "      <td>9.579459</td>\n",
       "      <td>1.321944</td>\n",
       "      <td>1.191383</td>\n",
       "    </tr>\n",
       "    <tr>\n",
       "      <th>4</th>\n",
       "      <td>ENCFF004ANL</td>\n",
       "      <td>esophagus muscularis mucosa</td>\n",
       "      <td>esophagus,musculature of body</td>\n",
       "      <td>digestive system,musculature</td>\n",
       "      <td>mesoderm</td>\n",
       "      <td>Homo sapiens</td>\n",
       "      <td>ChIP-seq</td>\n",
       "      <td>H3K27ac</td>\n",
       "      <td>2016-11-03</td>\n",
       "      <td>/labs/bradley-bernstein/</td>\n",
       "      <td>...</td>\n",
       "      <td>4.715368</td>\n",
       "      <td>7.121110</td>\n",
       "      <td>0.558776</td>\n",
       "      <td>3.403606</td>\n",
       "      <td>3.997887</td>\n",
       "      <td>0.344880</td>\n",
       "      <td>2.081526</td>\n",
       "      <td>8.259164</td>\n",
       "      <td>1.479355</td>\n",
       "      <td>1.346014</td>\n",
       "    </tr>\n",
       "    <tr>\n",
       "      <th>5</th>\n",
       "      <td>ENCFF004EUA</td>\n",
       "      <td>middle frontal area 46</td>\n",
       "      <td>brain</td>\n",
       "      <td>central nervous system</td>\n",
       "      <td>ectoderm</td>\n",
       "      <td>Homo sapiens</td>\n",
       "      <td>DNase-seq</td>\n",
       "      <td>Accessible DNA</td>\n",
       "      <td>2021-01-12</td>\n",
       "      <td>/labs/john-stamatoyannopoulos/</td>\n",
       "      <td>...</td>\n",
       "      <td>11.058176</td>\n",
       "      <td>18.460334</td>\n",
       "      <td>6.308666</td>\n",
       "      <td>3.739065</td>\n",
       "      <td>4.052092</td>\n",
       "      <td>2.336251</td>\n",
       "      <td>2.711870</td>\n",
       "      <td>15.484800</td>\n",
       "      <td>1.227702</td>\n",
       "      <td>0.934454</td>\n",
       "    </tr>\n",
       "    <tr>\n",
       "      <th>6</th>\n",
       "      <td>ENCFF004MFA</td>\n",
       "      <td>head of caudate nucleus</td>\n",
       "      <td>brain</td>\n",
       "      <td>central nervous system</td>\n",
       "      <td>ectoderm</td>\n",
       "      <td>Homo sapiens</td>\n",
       "      <td>DNase-seq</td>\n",
       "      <td>Accessible DNA</td>\n",
       "      <td>2021-01-11</td>\n",
       "      <td>/labs/john-stamatoyannopoulos/</td>\n",
       "      <td>...</td>\n",
       "      <td>10.152384</td>\n",
       "      <td>14.724037</td>\n",
       "      <td>1.926967</td>\n",
       "      <td>3.918120</td>\n",
       "      <td>4.220762</td>\n",
       "      <td>1.506494</td>\n",
       "      <td>2.677112</td>\n",
       "      <td>13.078340</td>\n",
       "      <td>1.364239</td>\n",
       "      <td>1.076020</td>\n",
       "    </tr>\n",
       "    <tr>\n",
       "      <th>...</th>\n",
       "      <td>...</td>\n",
       "      <td>...</td>\n",
       "      <td>...</td>\n",
       "      <td>...</td>\n",
       "      <td>...</td>\n",
       "      <td>...</td>\n",
       "      <td>...</td>\n",
       "      <td>...</td>\n",
       "      <td>...</td>\n",
       "      <td>...</td>\n",
       "      <td>...</td>\n",
       "      <td>...</td>\n",
       "      <td>...</td>\n",
       "      <td>...</td>\n",
       "      <td>...</td>\n",
       "      <td>...</td>\n",
       "      <td>...</td>\n",
       "      <td>...</td>\n",
       "      <td>...</td>\n",
       "      <td>...</td>\n",
       "      <td>...</td>\n",
       "    </tr>\n",
       "    <tr>\n",
       "      <th>2099</th>\n",
       "      <td>ENCFF994UIF</td>\n",
       "      <td>adrenal gland</td>\n",
       "      <td>adrenal gland,endocrine gland</td>\n",
       "      <td>endocrine system</td>\n",
       "      <td>ectoderm,mesoderm</td>\n",
       "      <td>Homo sapiens</td>\n",
       "      <td>ATAC-seq</td>\n",
       "      <td>Accessible DNA</td>\n",
       "      <td>2020-08-05</td>\n",
       "      <td>/labs/michael-snyder/</td>\n",
       "      <td>...</td>\n",
       "      <td>5.485765</td>\n",
       "      <td>7.918637</td>\n",
       "      <td>0.000000</td>\n",
       "      <td>2.932820</td>\n",
       "      <td>3.323337</td>\n",
       "      <td>0.395157</td>\n",
       "      <td>2.166409</td>\n",
       "      <td>8.617711</td>\n",
       "      <td>1.341014</td>\n",
       "      <td>1.162616</td>\n",
       "    </tr>\n",
       "    <tr>\n",
       "      <th>2100</th>\n",
       "      <td>ENCFF995QIB</td>\n",
       "      <td>psoas muscle</td>\n",
       "      <td>musculature of body</td>\n",
       "      <td>musculature</td>\n",
       "      <td>mesoderm</td>\n",
       "      <td>Homo sapiens</td>\n",
       "      <td>DNase-seq</td>\n",
       "      <td>Accessible DNA</td>\n",
       "      <td>2020-09-28</td>\n",
       "      <td>/labs/john-stamatoyannopoulos/</td>\n",
       "      <td>...</td>\n",
       "      <td>10.407628</td>\n",
       "      <td>16.313753</td>\n",
       "      <td>4.504222</td>\n",
       "      <td>4.028323</td>\n",
       "      <td>4.593273</td>\n",
       "      <td>1.946026</td>\n",
       "      <td>3.302582</td>\n",
       "      <td>14.482964</td>\n",
       "      <td>1.406328</td>\n",
       "      <td>1.051833</td>\n",
       "    </tr>\n",
       "    <tr>\n",
       "      <th>2101</th>\n",
       "      <td>ENCFF997GTD</td>\n",
       "      <td>spleen</td>\n",
       "      <td>immune organ,spleen</td>\n",
       "      <td>digestive system,immune system</td>\n",
       "      <td>mesoderm</td>\n",
       "      <td>Homo sapiens</td>\n",
       "      <td>ChIP-seq</td>\n",
       "      <td>H3K4me1</td>\n",
       "      <td>2013-07-31</td>\n",
       "      <td>/labs/bing-ren/</td>\n",
       "      <td>...</td>\n",
       "      <td>1.514176</td>\n",
       "      <td>1.464227</td>\n",
       "      <td>0.000000</td>\n",
       "      <td>2.126884</td>\n",
       "      <td>2.377406</td>\n",
       "      <td>0.476571</td>\n",
       "      <td>0.898317</td>\n",
       "      <td>2.176440</td>\n",
       "      <td>1.000872</td>\n",
       "      <td>1.454770</td>\n",
       "    </tr>\n",
       "    <tr>\n",
       "      <th>2102</th>\n",
       "      <td>ENCFF997KKX</td>\n",
       "      <td>spleen</td>\n",
       "      <td>immune organ,spleen</td>\n",
       "      <td>digestive system,immune system</td>\n",
       "      <td>mesoderm</td>\n",
       "      <td>Homo sapiens</td>\n",
       "      <td>ChIP-seq</td>\n",
       "      <td>H3K4me1</td>\n",
       "      <td>2020-09-10</td>\n",
       "      <td>/labs/bradley-bernstein/</td>\n",
       "      <td>...</td>\n",
       "      <td>2.332470</td>\n",
       "      <td>2.981969</td>\n",
       "      <td>0.000000</td>\n",
       "      <td>2.945918</td>\n",
       "      <td>3.660246</td>\n",
       "      <td>0.670598</td>\n",
       "      <td>1.830973</td>\n",
       "      <td>4.180513</td>\n",
       "      <td>1.539286</td>\n",
       "      <td>1.503115</td>\n",
       "    </tr>\n",
       "    <tr>\n",
       "      <th>2104</th>\n",
       "      <td>ENCFF998YYO</td>\n",
       "      <td>Peyer's patch</td>\n",
       "      <td>intestine,lymphoid tissue</td>\n",
       "      <td>digestive system,immune system</td>\n",
       "      <td>endoderm,mesoderm</td>\n",
       "      <td>Homo sapiens</td>\n",
       "      <td>DNase-seq</td>\n",
       "      <td>Accessible DNA</td>\n",
       "      <td>2019-11-08</td>\n",
       "      <td>/labs/john-stamatoyannopoulos/</td>\n",
       "      <td>...</td>\n",
       "      <td>14.060876</td>\n",
       "      <td>23.755142</td>\n",
       "      <td>0.000000</td>\n",
       "      <td>4.335590</td>\n",
       "      <td>4.990820</td>\n",
       "      <td>0.394450</td>\n",
       "      <td>2.336715</td>\n",
       "      <td>19.268692</td>\n",
       "      <td>1.144551</td>\n",
       "      <td>0.999126</td>\n",
       "    </tr>\n",
       "  </tbody>\n",
       "</table>\n",
       "<p>1826 rows × 286 columns</p>\n",
       "</div>"
      ],
      "text/plain": [
       "     File_accession          Biosample_term_name   \n",
       "1       ENCFF003KOQ                        heart  \\\n",
       "3       ENCFF003TGC               skin epidermis   \n",
       "4       ENCFF004ANL  esophagus muscularis mucosa   \n",
       "5       ENCFF004EUA       middle frontal area 46   \n",
       "6       ENCFF004MFA      head of caudate nucleus   \n",
       "...             ...                          ...   \n",
       "2099    ENCFF994UIF                adrenal gland   \n",
       "2100    ENCFF995QIB                 psoas muscle   \n",
       "2101    ENCFF997GTD                       spleen   \n",
       "2102    ENCFF997KKX                       spleen   \n",
       "2104    ENCFF998YYO                Peyer's patch   \n",
       "\n",
       "              Biosample_organ_slims          Biosample_system_slims   \n",
       "1                             heart              circulatory system  \\\n",
       "3           epithelium,skin of body             integumental system   \n",
       "4     esophagus,musculature of body    digestive system,musculature   \n",
       "5                             brain          central nervous system   \n",
       "6                             brain          central nervous system   \n",
       "...                             ...                             ...   \n",
       "2099  adrenal gland,endocrine gland                endocrine system   \n",
       "2100            musculature of body                     musculature   \n",
       "2101            immune organ,spleen  digestive system,immune system   \n",
       "2102            immune organ,spleen  digestive system,immune system   \n",
       "2104      intestine,lymphoid tissue  digestive system,immune system   \n",
       "\n",
       "     Biosample_developmental_slims Biosample_organism proc_Assay_lvl1   \n",
       "1                         mesoderm       Homo sapiens       DNase-seq  \\\n",
       "3                         ectoderm       Homo sapiens        ChIP-seq   \n",
       "4                         mesoderm       Homo sapiens        ChIP-seq   \n",
       "5                         ectoderm       Homo sapiens       DNase-seq   \n",
       "6                         ectoderm       Homo sapiens       DNase-seq   \n",
       "...                            ...                ...             ...   \n",
       "2099             ectoderm,mesoderm       Homo sapiens        ATAC-seq   \n",
       "2100                      mesoderm       Homo sapiens       DNase-seq   \n",
       "2101                      mesoderm       Homo sapiens        ChIP-seq   \n",
       "2102                      mesoderm       Homo sapiens        ChIP-seq   \n",
       "2104             endoderm,mesoderm       Homo sapiens       DNase-seq   \n",
       "\n",
       "         proc_target Experiment_date_released                     Library_lab   \n",
       "1     Accessible DNA               2016-09-22  /labs/john-stamatoyannopoulos/  \\\n",
       "3            H3K27ac               2020-09-10        /labs/bradley-bernstein/   \n",
       "4            H3K27ac               2016-11-03        /labs/bradley-bernstein/   \n",
       "5     Accessible DNA               2021-01-12  /labs/john-stamatoyannopoulos/   \n",
       "6     Accessible DNA               2021-01-11  /labs/john-stamatoyannopoulos/   \n",
       "...              ...                      ...                             ...   \n",
       "2099  Accessible DNA               2020-08-05           /labs/michael-snyder/   \n",
       "2100  Accessible DNA               2020-09-28  /labs/john-stamatoyannopoulos/   \n",
       "2101         H3K4me1               2013-07-31                 /labs/bing-ren/   \n",
       "2102         H3K4me1               2020-09-10        /labs/bradley-bernstein/   \n",
       "2104  Accessible DNA               2019-11-08  /labs/john-stamatoyannopoulos/   \n",
       "\n",
       "      ...  TSS_lncRNA_enrich  TSS_protein_coding_enrich  TSS_rRNA_enrich   \n",
       "1     ...           6.383012                   8.532097         2.121995  \\\n",
       "3     ...           5.411217                   8.217849         1.300609   \n",
       "4     ...           4.715368                   7.121110         0.558776   \n",
       "5     ...          11.058176                  18.460334         6.308666   \n",
       "6     ...          10.152384                  14.724037         1.926967   \n",
       "...   ...                ...                        ...              ...   \n",
       "2099  ...           5.485765                   7.918637         0.000000   \n",
       "2100  ...          10.407628                  16.313753         4.504222   \n",
       "2101  ...           1.514176                   1.464227         0.000000   \n",
       "2102  ...           2.332470                   2.981969         0.000000   \n",
       "2104  ...          14.060876                  23.755142         0.000000   \n",
       "\n",
       "      promoter_lncRNA_enrich promoter_protein_coding_enrich   \n",
       "1                   2.981906                       3.052459  \\\n",
       "3                   3.748547                       4.321479   \n",
       "4                   3.403606                       3.997887   \n",
       "5                   3.739065                       4.052092   \n",
       "6                   3.918120                       4.220762   \n",
       "...                      ...                            ...   \n",
       "2099                2.932820                       3.323337   \n",
       "2100                4.028323                       4.593273   \n",
       "2101                2.126884                       2.377406   \n",
       "2102                2.945918                       3.660246   \n",
       "2104                4.335590                       4.990820   \n",
       "\n",
       "     promoter_rRNA_enrich CDS_enrich  five_prime_UTR_enrich   \n",
       "1                0.567541   1.462436               7.948689  \\\n",
       "3                0.722470   2.202078               9.579459   \n",
       "4                0.344880   2.081526               8.259164   \n",
       "5                2.336251   2.711870              15.484800   \n",
       "6                1.506494   2.677112              13.078340   \n",
       "...                   ...        ...                    ...   \n",
       "2099             0.395157   2.166409               8.617711   \n",
       "2100             1.946026   3.302582              14.482964   \n",
       "2101             0.476571   0.898317               2.176440   \n",
       "2102             0.670598   1.830973               4.180513   \n",
       "2104             0.394450   2.336715              19.268692   \n",
       "\n",
       "      three_prime_UTR_enrich  intron_enrich  \n",
       "1                   1.058709       1.100186  \n",
       "3                   1.321944       1.191383  \n",
       "4                   1.479355       1.346014  \n",
       "5                   1.227702       0.934454  \n",
       "6                   1.364239       1.076020  \n",
       "...                      ...            ...  \n",
       "2099                1.341014       1.162616  \n",
       "2100                1.406328       1.051833  \n",
       "2101                1.000872       1.454770  \n",
       "2102                1.539286       1.503115  \n",
       "2104                1.144551       0.999126  \n",
       "\n",
       "[1826 rows x 286 columns]"
      ]
     },
     "execution_count": 102,
     "metadata": {},
     "output_type": "execute_result"
    }
   ],
   "source": [
    "md_filter"
   ]
  },
  {
   "cell_type": "code",
   "execution_count": 103,
   "id": "e35c9eee-658d-49c8-bd6e-0078c604e085",
   "metadata": {},
   "outputs": [
    {
     "data": {
      "text/plain": [
       "<matplotlib.collections.PathCollection at 0x7fa487767520>"
      ]
     },
     "execution_count": 103,
     "metadata": {},
     "output_type": "execute_result"
    },
    {
     "data": {
      "image/png": "[encoded data removed]",
      "text/plain": [
       "<Figure size 640x480 with 1 Axes>"
      ]
     },
     "metadata": {},
     "output_type": "display_data"
    }
   ],
   "source": [
    "# GC_ROC is the performance of a classifier that only looks at the GC-content accross the full dataset\n",
    "\n",
    "plt.scatter(md_filter.GC_ROC.values, rocs_pytorch, s=2.5)"
   ]
  },
  {
   "cell_type": "code",
   "execution_count": null,
   "id": "df3272ca-2c5c-4eb4-b702-d2eb2bedf63a",
   "metadata": {},
   "outputs": [],
   "source": []
  }
 ],
 "metadata": {
  "kernelspec": {
   "display_name": "Python 3 (ipykernel)",
   "language": "python",
   "name": "python3"
  },
  "language_info": {
   "codemirror_mode": {
    "name": "ipython",
    "version": 3
   },
   "file_extension": ".py",
   "mimetype": "text/x-python",
   "name": "python",
   "nbconvert_exporter": "python",
   "pygments_lexer": "ipython3",
   "version": "3.10.8"
  }
 },
 "nbformat": 4,
 "nbformat_minor": 5
}
