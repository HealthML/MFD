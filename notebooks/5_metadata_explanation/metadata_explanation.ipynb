{
 "cells": [
  {
   "cell_type": "code",
   "execution_count": 1,
   "id": "ef6fdc62-eb60-47c2-ac86-d97153217ad4",
   "metadata": {
    "tags": []
   },
   "outputs": [],
   "source": [
    "import sys\n",
    "sys.path.append('./src')"
   ]
  },
  {
   "cell_type": "code",
   "execution_count": 2,
   "id": "f26e2ae5-2275-456a-8c93-37f7f2068439",
   "metadata": {
    "tags": []
   },
   "outputs": [],
   "source": [
    "import pandas as pd"
   ]
  },
  {
   "cell_type": "code",
   "execution_count": 3,
   "id": "488ce58d-804a-477d-bd48-1c48074895d5",
   "metadata": {
    "tags": []
   },
   "outputs": [],
   "source": [
    "import numpy as np"
   ]
  },
  {
   "cell_type": "code",
   "execution_count": null,
   "id": "789f3811-f9e3-493c-8105-f57797474086",
   "metadata": {
    "tags": []
   },
   "outputs": [],
   "source": [
    "from data.dataloaders import LitCoverageDatasetHDF5\n",
    "from util.load_config import config"
   ]
  },
  {
   "cell_type": "markdown",
   "id": "b467a864-1057-43e0-9bb7-c2dbb6f4d97b",
   "metadata": {},
   "source": [
    "### Loading Metadata\n",
    "For every output class, I have calculated different quality metrics (`*_QC.tsv`) and extracted relevant metadata (`*_metadata_processed.tsv`)."
   ]
  },
  {
   "cell_type": "code",
   "execution_count": 7,
   "id": "bd02fd83-421f-4180-b1bd-d30b05b1ac39",
   "metadata": {
    "tags": []
   },
   "outputs": [],
   "source": [
    "md_qc = pd.read_csv('/fast/AG_Ohler/remo/nucleotran/220407_hg38_roi_mincov2_nc10_QC.tsv', sep='\\t')\n",
    "md = pd.read_csv('../../data/processed/221111_encode_metadata_processed.tsv', sep='\\t')"
   ]
  },
  {
   "cell_type": "code",
   "execution_count": 8,
   "id": "abd2ae4c-df98-49ef-b0b7-0e8a252a82df",
   "metadata": {
    "tags": []
   },
   "outputs": [
    {
     "data": {
      "text/html": [
       "<div>\n",
       "<style scoped>\n",
       "    .dataframe tbody tr th:only-of-type {\n",
       "        vertical-align: middle;\n",
       "    }\n",
       "\n",
       "    .dataframe tbody tr th {\n",
       "        vertical-align: top;\n",
       "    }\n",
       "\n",
       "    .dataframe thead th {\n",
       "        text-align: right;\n",
       "    }\n",
       "</style>\n",
       "<table border=\"1\" class=\"dataframe\">\n",
       "  <thead>\n",
       "    <tr style=\"text-align: right;\">\n",
       "      <th></th>\n",
       "      <th>File_accession</th>\n",
       "      <th>Biosample_term_name</th>\n",
       "      <th>Biosample_organ_slims</th>\n",
       "      <th>Biosample_system_slims</th>\n",
       "      <th>Biosample_developmental_slims</th>\n",
       "      <th>Biosample_organism</th>\n",
       "      <th>proc_Assay_lvl1</th>\n",
       "      <th>proc_target</th>\n",
       "      <th>Experiment_date_released</th>\n",
       "      <th>Library_lab</th>\n",
       "      <th>spot2_score</th>\n",
       "      <th>five_percent_narrowpeaks_count</th>\n",
       "      <th>frip</th>\n",
       "      <th>reproducible_peaks</th>\n",
       "      <th>proc_age_bin</th>\n",
       "      <th>proc_age_bin_units</th>\n",
       "      <th>proc_Biosample_life_stage</th>\n",
       "    </tr>\n",
       "  </thead>\n",
       "  <tbody>\n",
       "    <tr>\n",
       "      <th>0</th>\n",
       "      <td>ENCFF007FAW</td>\n",
       "      <td>gastroesophageal sphincter</td>\n",
       "      <td>musculature of body,stomach</td>\n",
       "      <td>digestive system,musculature</td>\n",
       "      <td>endoderm</td>\n",
       "      <td>Homo sapiens</td>\n",
       "      <td>ATAC-seq</td>\n",
       "      <td>Accessible DNA</td>\n",
       "      <td>2016-06-15</td>\n",
       "      <td>/labs/michael-snyder/</td>\n",
       "      <td>NaN</td>\n",
       "      <td>NaN</td>\n",
       "      <td>0.220021</td>\n",
       "      <td>148398.0</td>\n",
       "      <td>50</td>\n",
       "      <td>year</td>\n",
       "      <td>adult</td>\n",
       "    </tr>\n",
       "    <tr>\n",
       "      <th>1</th>\n",
       "      <td>ENCFF009YES</td>\n",
       "      <td>left colon</td>\n",
       "      <td>colon,intestine,large intestine</td>\n",
       "      <td>digestive system</td>\n",
       "      <td>endoderm</td>\n",
       "      <td>Homo sapiens</td>\n",
       "      <td>ATAC-seq</td>\n",
       "      <td>Accessible DNA</td>\n",
       "      <td>2020-08-17</td>\n",
       "      <td>/labs/michael-snyder/</td>\n",
       "      <td>NaN</td>\n",
       "      <td>NaN</td>\n",
       "      <td>0.557630</td>\n",
       "      <td>260427.0</td>\n",
       "      <td>45</td>\n",
       "      <td>year</td>\n",
       "      <td>adult</td>\n",
       "    </tr>\n",
       "    <tr>\n",
       "      <th>2</th>\n",
       "      <td>ENCFF010JOP</td>\n",
       "      <td>adrenal gland</td>\n",
       "      <td>adrenal gland,endocrine gland</td>\n",
       "      <td>endocrine system</td>\n",
       "      <td>ectoderm,mesoderm</td>\n",
       "      <td>Homo sapiens</td>\n",
       "      <td>ATAC-seq</td>\n",
       "      <td>Accessible DNA</td>\n",
       "      <td>2016-10-31</td>\n",
       "      <td>/labs/michael-snyder/</td>\n",
       "      <td>NaN</td>\n",
       "      <td>NaN</td>\n",
       "      <td>0.282873</td>\n",
       "      <td>213082.0</td>\n",
       "      <td>50</td>\n",
       "      <td>year</td>\n",
       "      <td>adult</td>\n",
       "    </tr>\n",
       "    <tr>\n",
       "      <th>3</th>\n",
       "      <td>ENCFF012BKZ</td>\n",
       "      <td>heart right ventricle</td>\n",
       "      <td>heart</td>\n",
       "      <td>circulatory system</td>\n",
       "      <td>mesoderm</td>\n",
       "      <td>Homo sapiens</td>\n",
       "      <td>ATAC-seq</td>\n",
       "      <td>Accessible DNA</td>\n",
       "      <td>2020-08-05</td>\n",
       "      <td>/labs/michael-snyder/</td>\n",
       "      <td>NaN</td>\n",
       "      <td>NaN</td>\n",
       "      <td>0.320655</td>\n",
       "      <td>237529.0</td>\n",
       "      <td>60</td>\n",
       "      <td>year</td>\n",
       "      <td>adult</td>\n",
       "    </tr>\n",
       "    <tr>\n",
       "      <th>4</th>\n",
       "      <td>ENCFF018EMP</td>\n",
       "      <td>sigmoid colon</td>\n",
       "      <td>colon,intestine,large intestine</td>\n",
       "      <td>digestive system</td>\n",
       "      <td>endoderm</td>\n",
       "      <td>Homo sapiens</td>\n",
       "      <td>ATAC-seq</td>\n",
       "      <td>Accessible DNA</td>\n",
       "      <td>2016-06-15</td>\n",
       "      <td>/labs/michael-snyder/</td>\n",
       "      <td>NaN</td>\n",
       "      <td>NaN</td>\n",
       "      <td>0.128024</td>\n",
       "      <td>123460.0</td>\n",
       "      <td>35</td>\n",
       "      <td>year</td>\n",
       "      <td>adult</td>\n",
       "    </tr>\n",
       "  </tbody>\n",
       "</table>\n",
       "</div>"
      ],
      "text/plain": [
       "  File_accession         Biosample_term_name            Biosample_organ_slims  \\\n",
       "0    ENCFF007FAW  gastroesophageal sphincter      musculature of body,stomach   \n",
       "1    ENCFF009YES                  left colon  colon,intestine,large intestine   \n",
       "2    ENCFF010JOP               adrenal gland    adrenal gland,endocrine gland   \n",
       "3    ENCFF012BKZ       heart right ventricle                            heart   \n",
       "4    ENCFF018EMP               sigmoid colon  colon,intestine,large intestine   \n",
       "\n",
       "         Biosample_system_slims Biosample_developmental_slims  \\\n",
       "0  digestive system,musculature                      endoderm   \n",
       "1              digestive system                      endoderm   \n",
       "2              endocrine system             ectoderm,mesoderm   \n",
       "3            circulatory system                      mesoderm   \n",
       "4              digestive system                      endoderm   \n",
       "\n",
       "  Biosample_organism proc_Assay_lvl1     proc_target Experiment_date_released  \\\n",
       "0       Homo sapiens        ATAC-seq  Accessible DNA               2016-06-15   \n",
       "1       Homo sapiens        ATAC-seq  Accessible DNA               2020-08-17   \n",
       "2       Homo sapiens        ATAC-seq  Accessible DNA               2016-10-31   \n",
       "3       Homo sapiens        ATAC-seq  Accessible DNA               2020-08-05   \n",
       "4       Homo sapiens        ATAC-seq  Accessible DNA               2016-06-15   \n",
       "\n",
       "             Library_lab  spot2_score  five_percent_narrowpeaks_count  \\\n",
       "0  /labs/michael-snyder/          NaN                             NaN   \n",
       "1  /labs/michael-snyder/          NaN                             NaN   \n",
       "2  /labs/michael-snyder/          NaN                             NaN   \n",
       "3  /labs/michael-snyder/          NaN                             NaN   \n",
       "4  /labs/michael-snyder/          NaN                             NaN   \n",
       "\n",
       "       frip  reproducible_peaks proc_age_bin proc_age_bin_units  \\\n",
       "0  0.220021            148398.0           50               year   \n",
       "1  0.557630            260427.0           45               year   \n",
       "2  0.282873            213082.0           50               year   \n",
       "3  0.320655            237529.0           60               year   \n",
       "4  0.128024            123460.0           35               year   \n",
       "\n",
       "  proc_Biosample_life_stage  \n",
       "0                     adult  \n",
       "1                     adult  \n",
       "2                     adult  \n",
       "3                     adult  \n",
       "4                     adult  "
      ]
     },
     "execution_count": 8,
     "metadata": {},
     "output_type": "execute_result"
    }
   ],
   "source": [
    "md.rename(columns={c: c.replace('.','_') for c in md.columns}, inplace=True)\n",
    "md_qc.rename(columns={c: c.replace('.','_') for c in md.columns}, inplace=True)\n",
    "md_qc.rename(columns={'Unnamed: 0': 'File_accession'}, inplace=True)\n",
    "# 221111_encode_metadata_processed.tsv contains information about the different classes\n",
    "# later I would like to incorporate this metadata into the learning process\n",
    "md.head()"
   ]
  },
  {
   "cell_type": "code",
   "execution_count": 14,
   "id": "59374a98-b2f6-43f4-a6ae-2d78be201c94",
   "metadata": {
    "tags": []
   },
   "outputs": [
    {
     "data": {
      "text/html": [
       "<div>\n",
       "<style scoped>\n",
       "    .dataframe tbody tr th:only-of-type {\n",
       "        vertical-align: middle;\n",
       "    }\n",
       "\n",
       "    .dataframe tbody tr th {\n",
       "        vertical-align: top;\n",
       "    }\n",
       "\n",
       "    .dataframe thead th {\n",
       "        text-align: right;\n",
       "    }\n",
       "</style>\n",
       "<table border=\"1\" class=\"dataframe\">\n",
       "  <thead>\n",
       "    <tr style=\"text-align: right;\">\n",
       "      <th></th>\n",
       "      <th>File_accession</th>\n",
       "      <th>N_peaks</th>\n",
       "      <th>bp_covered</th>\n",
       "      <th>non_zero</th>\n",
       "      <th>score_max</th>\n",
       "      <th>score_mean</th>\n",
       "      <th>score_median</th>\n",
       "      <th>score_min</th>\n",
       "      <th>score_q25</th>\n",
       "      <th>score_q75</th>\n",
       "      <th>...</th>\n",
       "      <th>TSS_lncRNA_enrich</th>\n",
       "      <th>TSS_protein_coding_enrich</th>\n",
       "      <th>TSS_rRNA_enrich</th>\n",
       "      <th>promoter_lncRNA_enrich</th>\n",
       "      <th>promoter_protein_coding_enrich</th>\n",
       "      <th>promoter_rRNA_enrich</th>\n",
       "      <th>CDS_enrich</th>\n",
       "      <th>five_prime_UTR_enrich</th>\n",
       "      <th>three_prime_UTR_enrich</th>\n",
       "      <th>intron_enrich</th>\n",
       "    </tr>\n",
       "  </thead>\n",
       "  <tbody>\n",
       "    <tr>\n",
       "      <th>0</th>\n",
       "      <td>ENCFF003IMJ</td>\n",
       "      <td>28868.0</td>\n",
       "      <td>12878538.0</td>\n",
       "      <td>0.006282</td>\n",
       "      <td>18.11870</td>\n",
       "      <td>5.255017</td>\n",
       "      <td>5.015800</td>\n",
       "      <td>2.041190</td>\n",
       "      <td>4.266300</td>\n",
       "      <td>5.927760</td>\n",
       "      <td>...</td>\n",
       "      <td>1.075011</td>\n",
       "      <td>0.511839</td>\n",
       "      <td>0.000000</td>\n",
       "      <td>0.933792</td>\n",
       "      <td>0.624095</td>\n",
       "      <td>0.000000</td>\n",
       "      <td>2.047153</td>\n",
       "      <td>0.992063</td>\n",
       "      <td>2.064651</td>\n",
       "      <td>0.711246</td>\n",
       "    </tr>\n",
       "    <tr>\n",
       "      <th>1</th>\n",
       "      <td>ENCFF003KOQ</td>\n",
       "      <td>270663.0</td>\n",
       "      <td>59051563.0</td>\n",
       "      <td>0.028561</td>\n",
       "      <td>19.67660</td>\n",
       "      <td>0.743396</td>\n",
       "      <td>0.394735</td>\n",
       "      <td>0.007519</td>\n",
       "      <td>0.236841</td>\n",
       "      <td>0.785710</td>\n",
       "      <td>...</td>\n",
       "      <td>6.383012</td>\n",
       "      <td>8.532097</td>\n",
       "      <td>2.121995</td>\n",
       "      <td>2.981906</td>\n",
       "      <td>3.052459</td>\n",
       "      <td>0.567541</td>\n",
       "      <td>1.462436</td>\n",
       "      <td>7.948689</td>\n",
       "      <td>1.058709</td>\n",
       "      <td>1.100186</td>\n",
       "    </tr>\n",
       "    <tr>\n",
       "      <th>2</th>\n",
       "      <td>ENCFF003KVZ</td>\n",
       "      <td>3151.0</td>\n",
       "      <td>794841.0</td>\n",
       "      <td>0.000371</td>\n",
       "      <td>14.47028</td>\n",
       "      <td>3.343118</td>\n",
       "      <td>3.331290</td>\n",
       "      <td>1.865750</td>\n",
       "      <td>3.001530</td>\n",
       "      <td>3.681715</td>\n",
       "      <td>...</td>\n",
       "      <td>2.763362</td>\n",
       "      <td>3.730073</td>\n",
       "      <td>0.000000</td>\n",
       "      <td>2.363636</td>\n",
       "      <td>2.952908</td>\n",
       "      <td>0.000000</td>\n",
       "      <td>1.277884</td>\n",
       "      <td>4.135471</td>\n",
       "      <td>1.589795</td>\n",
       "      <td>1.242434</td>\n",
       "    </tr>\n",
       "    <tr>\n",
       "      <th>3</th>\n",
       "      <td>ENCFF003TGC</td>\n",
       "      <td>74706.0</td>\n",
       "      <td>96037308.0</td>\n",
       "      <td>0.046598</td>\n",
       "      <td>78.86799</td>\n",
       "      <td>7.510577</td>\n",
       "      <td>4.893270</td>\n",
       "      <td>1.742160</td>\n",
       "      <td>3.920620</td>\n",
       "      <td>7.609360</td>\n",
       "      <td>...</td>\n",
       "      <td>5.411217</td>\n",
       "      <td>8.217849</td>\n",
       "      <td>1.300609</td>\n",
       "      <td>3.748547</td>\n",
       "      <td>4.321479</td>\n",
       "      <td>0.722470</td>\n",
       "      <td>2.202078</td>\n",
       "      <td>9.579459</td>\n",
       "      <td>1.321944</td>\n",
       "      <td>1.191383</td>\n",
       "    </tr>\n",
       "    <tr>\n",
       "      <th>4</th>\n",
       "      <td>ENCFF004ANL</td>\n",
       "      <td>69167.0</td>\n",
       "      <td>111641447.0</td>\n",
       "      <td>0.054231</td>\n",
       "      <td>95.88441</td>\n",
       "      <td>11.268159</td>\n",
       "      <td>6.088260</td>\n",
       "      <td>1.921710</td>\n",
       "      <td>4.456770</td>\n",
       "      <td>11.942465</td>\n",
       "      <td>...</td>\n",
       "      <td>4.715368</td>\n",
       "      <td>7.121110</td>\n",
       "      <td>0.558776</td>\n",
       "      <td>3.403606</td>\n",
       "      <td>3.997887</td>\n",
       "      <td>0.344880</td>\n",
       "      <td>2.081526</td>\n",
       "      <td>8.259164</td>\n",
       "      <td>1.479355</td>\n",
       "      <td>1.346014</td>\n",
       "    </tr>\n",
       "  </tbody>\n",
       "</table>\n",
       "<p>5 rows × 270 columns</p>\n",
       "</div>"
      ],
      "text/plain": [
       "  File_accession   N_peaks   bp_covered  non_zero  score_max  score_mean  \\\n",
       "0    ENCFF003IMJ   28868.0   12878538.0  0.006282   18.11870    5.255017   \n",
       "1    ENCFF003KOQ  270663.0   59051563.0  0.028561   19.67660    0.743396   \n",
       "2    ENCFF003KVZ    3151.0     794841.0  0.000371   14.47028    3.343118   \n",
       "3    ENCFF003TGC   74706.0   96037308.0  0.046598   78.86799    7.510577   \n",
       "4    ENCFF004ANL   69167.0  111641447.0  0.054231   95.88441   11.268159   \n",
       "\n",
       "   score_median  score_min  score_q25  score_q75  ...  TSS_lncRNA_enrich  \\\n",
       "0      5.015800   2.041190   4.266300   5.927760  ...           1.075011   \n",
       "1      0.394735   0.007519   0.236841   0.785710  ...           6.383012   \n",
       "2      3.331290   1.865750   3.001530   3.681715  ...           2.763362   \n",
       "3      4.893270   1.742160   3.920620   7.609360  ...           5.411217   \n",
       "4      6.088260   1.921710   4.456770  11.942465  ...           4.715368   \n",
       "\n",
       "   TSS_protein_coding_enrich  TSS_rRNA_enrich  promoter_lncRNA_enrich  \\\n",
       "0                   0.511839         0.000000                0.933792   \n",
       "1                   8.532097         2.121995                2.981906   \n",
       "2                   3.730073         0.000000                2.363636   \n",
       "3                   8.217849         1.300609                3.748547   \n",
       "4                   7.121110         0.558776                3.403606   \n",
       "\n",
       "   promoter_protein_coding_enrich  promoter_rRNA_enrich  CDS_enrich  \\\n",
       "0                        0.624095              0.000000    2.047153   \n",
       "1                        3.052459              0.567541    1.462436   \n",
       "2                        2.952908              0.000000    1.277884   \n",
       "3                        4.321479              0.722470    2.202078   \n",
       "4                        3.997887              0.344880    2.081526   \n",
       "\n",
       "   five_prime_UTR_enrich  three_prime_UTR_enrich  intron_enrich  \n",
       "0               0.992063                2.064651       0.711246  \n",
       "1               7.948689                1.058709       1.100186  \n",
       "2               4.135471                1.589795       1.242434  \n",
       "3               9.579459                1.321944       1.191383  \n",
       "4               8.259164                1.479355       1.346014  \n",
       "\n",
       "[5 rows x 270 columns]"
      ]
     },
     "execution_count": 14,
     "metadata": {},
     "output_type": "execute_result"
    }
   ],
   "source": [
    "# 220407_hg38_roi_mincov2_nc10_QC.tsv contains quality metrics....\n",
    "# these could be useful for evaluation\n",
    "md_qc.head()"
   ]
  },
  {
   "cell_type": "markdown",
   "id": "e84c1cea-4314-4f22-84a4-220a7db4c345",
   "metadata": {},
   "source": [
    "## Matching the metadata to the loaders"
   ]
  },
  {
   "cell_type": "code",
   "execution_count": 54,
   "id": "1a8b275d-b877-4bad-83d3-fdda3998e052",
   "metadata": {
    "tags": []
   },
   "outputs": [
    {
     "name": "stdout",
     "output_type": "stream",
     "text": [
      "BED-file contains 10000 regions.\n",
      "93.250% of regions have at least 1 label.\n"
     ]
    }
   ],
   "source": [
    "datamodule = LitCoverageDatasetHDF5(\n",
    "            seq_order = 1, \n",
    "            seq_len = 2176,\n",
    "            basepath=\"data/processed/GRCh38/toydata\",\n",
    "            ref_path = config['reference']['GRCh38'],\n",
    "            batch_size = 128,\n",
    "            random_shift = 3,\n",
    "            random_reverse_complement = True,\n",
    "        )"
   ]
  },
  {
   "cell_type": "code",
   "execution_count": 55,
   "id": "54d27702-034c-4b17-96c0-be83214a960d",
   "metadata": {
    "tags": []
   },
   "outputs": [
    {
     "data": {
      "text/plain": [
       "array(['ENCFF003IMJ', 'ENCFF003KOQ', 'ENCFF003KVZ', ..., 'ENCFF998LIO',\n",
       "       'ENCFF998YYO', 'ENCFF999UGV'], dtype=object)"
      ]
     },
     "execution_count": 55,
     "metadata": {},
     "output_type": "execute_result"
    }
   ],
   "source": [
    "# this attribute contains the label IDs\n",
    "datamodule.data.labelloader.label_ids"
   ]
  },
  {
   "cell_type": "code",
   "execution_count": 56,
   "id": "846a9722-1b3b-4aa9-93de-d58ae20b500d",
   "metadata": {
    "tags": []
   },
   "outputs": [
    {
     "data": {
      "text/plain": [
       "array([ 59, 276,   2, ...,  46,  63,   4])"
      ]
     },
     "execution_count": 56,
     "metadata": {},
     "output_type": "execute_result"
    }
   ],
   "source": [
    "# this attribute contains the number of times a label appears in the whole dataset (training + validation + test) \n",
    "datamodule.data.labelloader.label_N"
   ]
  },
  {
   "cell_type": "code",
   "execution_count": 58,
   "id": "fe5bd6db-39b0-4419-983a-05a09533ace1",
   "metadata": {
    "tags": []
   },
   "outputs": [
    {
     "name": "stdout",
     "output_type": "stream",
     "text": [
      "11\n"
     ]
    },
    {
     "data": {
      "text/plain": [
       "array([0.    , 0.    , 0.    , ..., 0.1198, 0.1263, 0.1337])"
      ]
     },
     "execution_count": 58,
     "metadata": {},
     "output_type": "execute_result"
    }
   ],
   "source": [
    "# some labels are so rare that they are not actually part of the toy dataset...\n",
    "print(sum(datamodule.data.labelloader.label_N == 0))\n",
    "\n",
    "np.sort(datamodule.data.labelloader.label_N / len(datamodule.data.labelloader))"
   ]
  },
  {
   "cell_type": "code",
   "execution_count": 59,
   "id": "4cc73313-af31-4d24-8d7d-874953ed91cf",
   "metadata": {
    "tags": []
   },
   "outputs": [],
   "source": [
    "md.set_index('File_accession',drop=False,inplace=True)"
   ]
  },
  {
   "cell_type": "code",
   "execution_count": 60,
   "id": "e6cec06a-9fda-4b51-a070-234b52f55ab1",
   "metadata": {
    "tags": []
   },
   "outputs": [],
   "source": [
    "md = md.loc[datamodule.data.labelloader.label_ids]"
   ]
  },
  {
   "cell_type": "code",
   "execution_count": 61,
   "id": "5d5556f1-017b-4966-a3b9-fe4b3013171e",
   "metadata": {
    "tags": []
   },
   "outputs": [
    {
     "data": {
      "text/plain": [
       "(2106, 17)"
      ]
     },
     "execution_count": 61,
     "metadata": {},
     "output_type": "execute_result"
    }
   ],
   "source": [
    "md.shape"
   ]
  },
  {
   "cell_type": "markdown",
   "id": "06ad2c66-d8e3-4f9a-8ba4-61bae62c8130",
   "metadata": {},
   "source": [
    "## Description of the metadata columns"
   ]
  },
  {
   "cell_type": "raw",
   "id": "5c9f7172-1d87-4eb4-ba32-7eec01968b36",
   "metadata": {},
   "source": [
    "\n",
    "# General:\n",
    "\n",
    "    File_accession:  Unique identifier, can be used to query https://www.encodeproject.org/ and find more information about the experiment\n",
    "\n",
    "# Biological:\n",
    "\n",
    "  - fields directly taken from ENCODE metadata:\n",
    "  \n",
    "    Biosample_term_name:            A string defining the source (typically tissue within organ)           \n",
    "    Biosample_organ_slims:          one or more comma-separated ontology-based terms describing the source organ\n",
    "    Biosample_system_slims:         one or more comma-separated ontology-based terms describing the source system \n",
    "    Biosample_developmental_slims:  one or more comma-separated ontology-based terms describing the source developmental system \n",
    "    Biosample_organism:             Human or Mouse\n",
    "    \n",
    "  - fields that were pre-processed:\n",
    "\n",
    "    proc_target:                    CTCF or histone modification (in case of ChIP-seq) or simply \"accessibility\" for ATAC- or DNase-seq\n",
    "    proc_age_bin:                   The age of the subject the sample was taken from\n",
    "    proc_age_bin_units:             The unit of the age measurement\n",
    "    proc_Biosample_life_stage:      The life stage (embryonic, child, adult)\n",
    "   \n",
    "   \n",
    "# Technical:\n",
    "\n",
    "    proc_Assay_lvl1:                ATAC-seq, DNase-seq or ChIP-seq\n",
    "    Experiment_date_released:       the original realease date\n",
    "    Library_lab:                    the lab that performed the experiment\n",
    "    \n",
    "# Sample Quality (technical):\n",
    "\n",
    "    spot2_score:                    quality metric for DNase-seq and ATAC-seq\n",
    "    five_percent_narrowpeaks_count: number of peaks for DNase-seq and ATAC-seq\n",
    "    frip:                           quality metric for ChIP-seq\n",
    "    reproducible_peaks:             number of peaks for ChIP-seq\n",
    "\n"
   ]
  },
  {
   "cell_type": "markdown",
   "id": "e3b17dd5-da70-442e-a50f-4699d962d3f9",
   "metadata": {
    "tags": []
   },
   "source": [
    "## Make experiment groppings for metrics logs"
   ]
  },
  {
   "cell_type": "code",
   "execution_count": 11,
   "id": "0d45e307-c016-4bdb-bd58-8e937afcf9fa",
   "metadata": {},
   "outputs": [
    {
     "data": {
      "text/plain": [
       "array(['Accessible DNA', 'CTCF', 'H3K27ac', 'H3K27me3', 'H3K36me3',\n",
       "       'H3K4me1', 'H3K4me3', 'H3K9ac', 'H3K9me3'], dtype=object)"
      ]
     },
     "execution_count": 11,
     "metadata": {},
     "output_type": "execute_result"
    }
   ],
   "source": [
    "md['proc_target'].unique()"
   ]
  },
  {
   "cell_type": "code",
   "execution_count": 15,
   "id": "4ddd7bb8-08b4-497f-b9a9-a53476a42e53",
   "metadata": {},
   "outputs": [
    {
     "data": {
      "text/plain": [
       "array(['ATAC-seq', 'ChIP-seq', 'DNase-seq'], dtype=object)"
      ]
     },
     "execution_count": 15,
     "metadata": {},
     "output_type": "execute_result"
    }
   ],
   "source": [
    "md['proc_Assay_lvl1'].unique()"
   ]
  },
  {
   "cell_type": "code",
   "execution_count": 22,
   "id": "4c631c51-2dc4-41b0-a047-cafcb49b4221",
   "metadata": {},
   "outputs": [],
   "source": [
    "groupping = []\n",
    "for i in range(len(md)):\n",
    "    if md['proc_Assay_lvl1'][i] == 'ATAC-seq':\n",
    "        groupping.append((i, 'ATAC-seq'))\n",
    "    elif md['proc_Assay_lvl1'][i] == 'DNase-seq':\n",
    "        groupping.append((i, 'DNase-seq'))\n",
    "    else:\n",
    "        groupping.append((i, md['proc_Assay_lvl1'][i] + ' ' + md['proc_target'][i]))\n",
    "        "
   ]
  },
  {
   "cell_type": "code",
   "execution_count": 25,
   "id": "6adf2375-bb2c-450c-8b66-f7417f649f71",
   "metadata": {},
   "outputs": [],
   "source": [
    "import csv"
   ]
  },
  {
   "cell_type": "code",
   "execution_count": 32,
   "id": "2457c7fb-a610-4ad4-9e9f-afb8f88e44fd",
   "metadata": {},
   "outputs": [],
   "source": [
    "with open('../../src/data/metadata_gropus_assay.csv','w') as out:\n",
    "    csv_out=csv.writer(out)\n",
    "    csv_out.writerow(['n_experiment','group'])\n",
    "    for row in groupping:\n",
    "        csv_out.writerow(row)"
   ]
  },
  {
   "cell_type": "code",
   "execution_count": null,
   "id": "78b098e4-eac5-4558-8c42-e3c5fe84cb4b",
   "metadata": {},
   "outputs": [],
   "source": []
  }
 ],
 "metadata": {
  "kernelspec": {
   "display_name": "Python 3 (ipykernel)",
   "language": "python",
   "name": "python3"
  },
  "language_info": {
   "codemirror_mode": {
    "name": "ipython",
    "version": 3
   },
   "file_extension": ".py",
   "mimetype": "text/x-python",
   "name": "python",
   "nbconvert_exporter": "python",
   "pygments_lexer": "ipython3",
   "version": "3.10.8"
  }
 },
 "nbformat": 4,
 "nbformat_minor": 5
}
