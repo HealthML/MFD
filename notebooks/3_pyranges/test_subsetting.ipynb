{
 "cells": [
  {
   "cell_type": "code",
   "execution_count": 1,
   "id": "452be5e8-a750-4947-bc83-4f216357db25",
   "metadata": {},
   "outputs": [],
   "source": [
    "import pyranges\n",
    "import sys\n",
    "sys.path.append('../../src')\n",
    "from features.nucleotide import BEDSeqLoader"
   ]
  },
  {
   "cell_type": "code",
   "execution_count": 2,
   "id": "cd7b1ac3-fa2b-484d-8de5-4713c9785584",
   "metadata": {},
   "outputs": [],
   "source": [
    "bsl = BEDSeqLoader(bed_path='../../data/processed/GRCh38/221111_128bp_minoverlap64_mincov2_nc10_tissues/regions.bed.gz',\n",
    "                   ref_path='/dhc/dsets/reference_genomes/ensembl/Homo_sapiens.GRCh38.dna.primary_assembly_renamed.fa')"
   ]
  },
  {
   "cell_type": "code",
   "execution_count": 3,
   "id": "ccb5c271-dab0-46b3-9a32-f511572fab54",
   "metadata": {},
   "outputs": [],
   "source": [
    "query_ranges = pyranges.from_dict({\"Chromosome\": [1, 2, 3, 'X'], \"Start\": [0, 0, 0, 0], \"End\": [1000000, 1000000, 1000000, 1000000]})"
   ]
  },
  {
   "cell_type": "code",
   "execution_count": 4,
   "id": "27d7a757-5172-43a8-a3de-f31dc510b291",
   "metadata": {},
   "outputs": [],
   "source": [
    "idx_overlap = bsl.get_indexes_overlapping_with(query_ranges)"
   ]
  },
  {
   "cell_type": "code",
   "execution_count": 5,
   "id": "d187d6b3-49b5-483a-9c57-c80fe7c9229d",
   "metadata": {},
   "outputs": [
    {
     "data": {
      "text/plain": [
       "array([      0,       1,       2, ..., 7288722, 7288723, 7288724])"
      ]
     },
     "execution_count": 5,
     "metadata": {},
     "output_type": "execute_result"
    }
   ],
   "source": [
    "idx_overlap"
   ]
  },
  {
   "cell_type": "code",
   "execution_count": 6,
   "id": "fc0c7a5d-1712-47ee-9b8b-bfeb7694b614",
   "metadata": {},
   "outputs": [
    {
     "data": {
      "text/plain": [
       "array(['TAACCCTAACCCTAACCCTAACCCTAACCCTAACCCTAACCCTAACCCTAACCCAACCCTAACCCTAACCCTAACCCTAACCCTAACCCTAACCCCTAACCCTAACCCTAACCCTAACCCTAACCTAA',\n",
       "       'CCCTAACCCTAACCCTAACCCTAACCCTAACCCTAACCCTAACCCTAACCCCTAACCCTAACCCTAAACCCTAAACCCTAACCCTAACCCTAACCCTAACCCTAACCCCAACCCCAACCCCAACCCCA',\n",
       "       'ACCCCAACCCCAACCCTAACCCCTAACCCTAACCCTAACCCTACCCTAACCCTAACCCTAACCCTAACCCTAACCCTAACCCCTAACCCCTAACCCTAACCCTAACCCTAACCCTAACCCTAACCCTA',\n",
       "       ...,\n",
       "       'CCCTGTCTCTGCTAAAAATACAAATATCAGCCGAGAGTAGTGGTGGGCGTCTGTAGTCACAGCTACTTGGGAGGCTGAGACAGGAGAATCCCTTGAATCCGGGAGGCAGAGGTTGCAGTGAGCGGAGA',\n",
       "       'TGATGCCATTGCACTCCGGTCTGGGCCACAGAGCGAGACTGTCAAAACAAAACGGAACAAAAAGAATGCTTTAAGAAGCGGGCGGATCACAAGATCCAGAGATTGAGAATAGCCTGGCTAACACAGTG',\n",
       "       'AAACTCCGTCACTACTAAAAATACAAAAAAATTAGCCGGGCGTGGTGGCAGGTGCATGTAGTCTCAGCTCCTCAGGAGGCTGAGGCAGGAGAATGGTGTGAACCCAGGAGGCGGAGCTTGCAGTGAGC'],\n",
       "      dtype='<U128')"
      ]
     },
     "execution_count": 6,
     "metadata": {},
     "output_type": "execute_result"
    }
   ],
   "source": [
    "bsl.get_seq(idx_overlap)"
   ]
  },
  {
   "cell_type": "code",
   "execution_count": null,
   "id": "bdf74ec1-9bed-413c-acaa-cc2a68fbb9a3",
   "metadata": {},
   "outputs": [],
   "source": []
  }
 ],
 "metadata": {
  "kernelspec": {
   "display_name": "python3 (dna)",
   "language": "python",
   "name": "dna"
  },
  "language_info": {
   "codemirror_mode": {
    "name": "ipython",
    "version": 3
   },
   "file_extension": ".py",
   "mimetype": "text/x-python",
   "name": "python",
   "nbconvert_exporter": "python",
   "pygments_lexer": "ipython3",
   "version": "3.9.5"
  }
 },
 "nbformat": 4,
 "nbformat_minor": 5
}
