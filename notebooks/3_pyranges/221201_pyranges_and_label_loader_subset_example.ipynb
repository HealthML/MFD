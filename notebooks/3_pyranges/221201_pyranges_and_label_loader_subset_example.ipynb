{
 "cells": [
  {
   "cell_type": "markdown",
   "id": "66bce162-943d-4e9b-bd03-ab5449e0d31b",
   "metadata": {},
   "source": [
    "# Pyranges for selecting regions by overlap"
   ]
  },
  {
   "cell_type": "code",
   "execution_count": 87,
   "id": "0dacf254-ec0a-46e6-a216-37bbea9ea0b3",
   "metadata": {
    "vscode": {
     "languageId": "python"
    }
   },
   "outputs": [],
   "source": [
    "import pyranges"
   ]
  },
  {
   "cell_type": "code",
   "execution_count": 88,
   "id": "a94fcaea-778b-44cf-9c81-e8439bc247da",
   "metadata": {
    "vscode": {
     "languageId": "python"
    }
   },
   "outputs": [],
   "source": [
    "import sys\n",
    "# sys.path.append('../../src')"
   ]
  },
  {
   "cell_type": "code",
   "execution_count": 89,
   "id": "c7f84efc-7deb-4220-89ff-ab44c58d369c",
   "metadata": {
    "vscode": {
     "languageId": "python"
    }
   },
   "outputs": [],
   "source": [
    "from features.nucleotide import BEDSeqLoader"
   ]
  },
  {
   "cell_type": "code",
   "execution_count": 90,
   "id": "a7b284f6-4575-45db-b548-6eae7eb27a8b",
   "metadata": {
    "vscode": {
     "languageId": "python"
    }
   },
   "outputs": [],
   "source": [
    "bsl = BEDSeqLoader(bed_path='../../data/processed/GRCh38/221111_128bp_minoverlap64_mincov2_nc10_tissues/regions.bed.gz',\n",
    "                   ref_path='/dhc/dsets/reference_genomes/ensembl/Homo_sapiens.GRCh38.dna.primary_assembly_renamed.fa')"
   ]
  },
  {
   "cell_type": "code",
   "execution_count": 91,
   "id": "d7085718-8960-4596-a232-1550039485e2",
   "metadata": {
    "vscode": {
     "languageId": "python"
    }
   },
   "outputs": [
    {
     "data": {
      "text/plain": [
       "<features.nucleotide.BEDSeqLoader at 0x7feaa04595e0>"
      ]
     },
     "execution_count": 91,
     "metadata": {},
     "output_type": "execute_result"
    }
   ],
   "source": [
    "bsl"
   ]
  },
  {
   "cell_type": "code",
   "execution_count": 92,
   "id": "ccdcab98-8ccc-4148-8335-5195ba10e41d",
   "metadata": {
    "vscode": {
     "languageId": "python"
    }
   },
   "outputs": [
    {
     "data": {
      "text/html": [
       "<div>\n",
       "<style scoped>\n",
       "    .dataframe tbody tr th:only-of-type {\n",
       "        vertical-align: middle;\n",
       "    }\n",
       "\n",
       "    .dataframe tbody tr th {\n",
       "        vertical-align: top;\n",
       "    }\n",
       "\n",
       "    .dataframe thead th {\n",
       "        text-align: right;\n",
       "    }\n",
       "</style>\n",
       "<table border=\"1\" class=\"dataframe\">\n",
       "  <thead>\n",
       "    <tr style=\"text-align: right;\">\n",
       "      <th></th>\n",
       "      <th>Chromosome</th>\n",
       "      <th>Start</th>\n",
       "      <th>End</th>\n",
       "      <th>Name</th>\n",
       "      <th>Score</th>\n",
       "    </tr>\n",
       "  </thead>\n",
       "  <tbody>\n",
       "    <tr>\n",
       "      <th>0</th>\n",
       "      <td>1</td>\n",
       "      <td>10054</td>\n",
       "      <td>10182</td>\n",
       "      <td>c1</td>\n",
       "      <td>0</td>\n",
       "    </tr>\n",
       "    <tr>\n",
       "      <th>1</th>\n",
       "      <td>1</td>\n",
       "      <td>10182</td>\n",
       "      <td>10310</td>\n",
       "      <td>c2</td>\n",
       "      <td>0</td>\n",
       "    </tr>\n",
       "    <tr>\n",
       "      <th>2</th>\n",
       "      <td>1</td>\n",
       "      <td>10310</td>\n",
       "      <td>10438</td>\n",
       "      <td>c3</td>\n",
       "      <td>0</td>\n",
       "    </tr>\n",
       "    <tr>\n",
       "      <th>3</th>\n",
       "      <td>1</td>\n",
       "      <td>10438</td>\n",
       "      <td>10566</td>\n",
       "      <td>c4</td>\n",
       "      <td>0</td>\n",
       "    </tr>\n",
       "    <tr>\n",
       "      <th>4</th>\n",
       "      <td>1</td>\n",
       "      <td>10566</td>\n",
       "      <td>10694</td>\n",
       "      <td>c5</td>\n",
       "      <td>0</td>\n",
       "    </tr>\n",
       "  </tbody>\n",
       "</table>\n",
       "</div>"
      ],
      "text/plain": [
       "  Chromosome  Start    End Name  Score\n",
       "0          1  10054  10182   c1      0\n",
       "1          1  10182  10310   c2      0\n",
       "2          1  10310  10438   c3      0\n",
       "3          1  10438  10566   c4      0\n",
       "4          1  10566  10694   c5      0"
      ]
     },
     "execution_count": 92,
     "metadata": {},
     "output_type": "execute_result"
    }
   ],
   "source": [
    "bsl.bed.head()"
   ]
  },
  {
   "cell_type": "code",
   "execution_count": 93,
   "id": "88936c86-10f3-4058-9c41-40256d6b1458",
   "metadata": {
    "vscode": {
     "languageId": "python"
    }
   },
   "outputs": [
    {
     "data": {
      "text/plain": [
       "count     15996490\n",
       "unique          23\n",
       "top              1\n",
       "freq       1329379\n",
       "Name: Chromosome, dtype: object"
      ]
     },
     "execution_count": 93,
     "metadata": {},
     "output_type": "execute_result"
    }
   ],
   "source": [
    "bsl.bed[\"Chromosome\"].describe()"
   ]
  },
  {
   "cell_type": "code",
   "execution_count": 94,
   "id": "7ca6f4b0-bc95-44cf-826b-f95727ba926f",
   "metadata": {
    "vscode": {
     "languageId": "python"
    }
   },
   "outputs": [],
   "source": [
    "bsl.bed['i'] = bsl.bed.index.values # \"i\" will contain the original index preserving the ordering of the BED-file"
   ]
  },
  {
   "cell_type": "code",
   "execution_count": 95,
   "id": "2e6a6f89-e001-435c-9cfc-ce1b77278132",
   "metadata": {
    "vscode": {
     "languageId": "python"
    }
   },
   "outputs": [],
   "source": [
    "bed = pyranges.PyRanges(df=bsl.bed, copy_df=False) # we create a pyranges object from the DataFrame"
   ]
  },
  {
   "cell_type": "code",
   "execution_count": 96,
   "id": "9e34ca2c-1473-4d12-bad9-99689d83477d",
   "metadata": {
    "vscode": {
     "languageId": "python"
    }
   },
   "outputs": [
    {
     "data": {
      "text/plain": [
       "array([       0,        1,        2, ..., 15996487, 15996488, 15996489])"
      ]
     },
     "execution_count": 96,
     "metadata": {},
     "output_type": "execute_result"
    }
   ],
   "source": [
    "bsl.bed.i.values"
   ]
  },
  {
   "cell_type": "code",
   "execution_count": 97,
   "id": "67d3eecf-78c8-436a-a926-d54423640588",
   "metadata": {
    "vscode": {
     "languageId": "python"
    }
   },
   "outputs": [
    {
     "data": {
      "text/plain": [
       "15996490"
      ]
     },
     "execution_count": 97,
     "metadata": {},
     "output_type": "execute_result"
    }
   ],
   "source": [
    "len(bsl.bed.i.values)"
   ]
  },
  {
   "cell_type": "code",
   "execution_count": 98,
   "id": "9353ef7d-db25-41eb-9c41-44db4f65c0d1",
   "metadata": {
    "vscode": {
     "languageId": "python"
    }
   },
   "outputs": [
    {
     "data": {
      "text/plain": [
       "array([      0,       1,       2, ..., 8182882, 8182883, 8182884])"
      ]
     },
     "execution_count": 98,
     "metadata": {},
     "output_type": "execute_result"
    }
   ],
   "source": [
    "bed.df.i.values"
   ]
  },
  {
   "cell_type": "code",
   "execution_count": 99,
   "id": "32b1c846-79c3-4d5b-bb52-b8beea12ea98",
   "metadata": {
    "vscode": {
     "languageId": "python"
    }
   },
   "outputs": [
    {
     "data": {
      "text/plain": [
       "15996490"
      ]
     },
     "execution_count": 99,
     "metadata": {},
     "output_type": "execute_result"
    }
   ],
   "source": [
    "len(bed.df.i.values)"
   ]
  },
  {
   "cell_type": "code",
   "execution_count": 100,
   "id": "f8b72e7b-3692-4ad2-941e-f8de13e9cc92",
   "metadata": {
    "vscode": {
     "languageId": "python"
    }
   },
   "outputs": [
    {
     "data": {
      "text/plain": [
       "numpy.ndarray"
      ]
     },
     "execution_count": 100,
     "metadata": {},
     "output_type": "execute_result"
    }
   ],
   "source": [
    "type(bed.df.i.values)"
   ]
  },
  {
   "cell_type": "code",
   "execution_count": 101,
   "id": "06ebb4c9-d63b-4699-9e42-5db5ed0bf899",
   "metadata": {
    "vscode": {
     "languageId": "python"
    }
   },
   "outputs": [
    {
     "data": {
      "text/plain": [
       "False"
      ]
     },
     "execution_count": 101,
     "metadata": {},
     "output_type": "execute_result"
    }
   ],
   "source": [
    "all(bed.df.i.values == bsl.bed.i.values) # note that pyranges internally switches the ordering around .... this makes it a pain to link to the labels in the LabelLoaderHDF5 "
   ]
  },
  {
   "cell_type": "code",
   "execution_count": 102,
   "id": "8cd51f15-a25d-4ecb-910d-552b9368a2cc",
   "metadata": {
    "vscode": {
     "languageId": "python"
    }
   },
   "outputs": [
    {
     "data": {
      "text/plain": [
       "False"
      ]
     },
     "execution_count": 102,
     "metadata": {},
     "output_type": "execute_result"
    }
   ],
   "source": [
    "all(bed.i == bsl.bed.i.values) # also happens when accessed with __getattr__ "
   ]
  },
  {
   "cell_type": "code",
   "execution_count": 103,
   "id": "e3bd6f39-fe00-4659-842d-858a678823ad",
   "metadata": {
    "vscode": {
     "languageId": "python"
    }
   },
   "outputs": [
    {
     "data": {
      "text/plain": [
       "0                0\n",
       "1                1\n",
       "2                2\n",
       "3                3\n",
       "4                4\n",
       "            ...   \n",
       "8182880    8182880\n",
       "8182881    8182881\n",
       "8182882    8182882\n",
       "8182883    8182883\n",
       "8182884    8182884\n",
       "Name: i, Length: 15996490, dtype: int64"
      ]
     },
     "execution_count": 103,
     "metadata": {},
     "output_type": "execute_result"
    }
   ],
   "source": [
    "bed.i"
   ]
  },
  {
   "cell_type": "code",
   "execution_count": 104,
   "id": "885bd751-e6a0-4d98-8f42-934900094ecb",
   "metadata": {
    "vscode": {
     "languageId": "python"
    }
   },
   "outputs": [
    {
     "name": "stdout",
     "output_type": "stream",
     "text": [
      "+--------------+-----------+-----------+------------+-----------+-----------+\n",
      "| Chromosome   | Start     | End       | Name       | Score     | i         |\n",
      "| (category)   | (int32)   | (int32)   | (object)   | (int64)   | (int64)   |\n",
      "|--------------+-----------+-----------+------------+-----------+-----------|\n",
      "| 1            | 10054     | 10182     | c1         | 0         | 0         |\n",
      "| 1            | 10182     | 10310     | c2         | 0         | 1         |\n",
      "| 1            | 10310     | 10438     | c3         | 0         | 2         |\n",
      "| 1            | 10438     | 10566     | c4         | 0         | 3         |\n",
      "| ...          | ...       | ...       | ...        | ...       | ...       |\n",
      "| X            | 156030363 | 156030491 | c7432941   | 0         | 8182881   |\n",
      "| X            | 156030491 | 156030619 | c7432942   | 0         | 8182882   |\n",
      "| X            | 156030619 | 156030747 | c7432943   | 0         | 8182883   |\n",
      "| X            | 156030747 | 156030875 | c7432944   | 0         | 8182884   |\n",
      "+--------------+-----------+-----------+------------+-----------+-----------+\n",
      "Unstranded PyRanges object has 15,996,490 rows and 6 columns from 23 chromosomes.\n",
      "For printing, the PyRanges was sorted on Chromosome.\n"
     ]
    }
   ],
   "source": [
    "print(bed) # the column \"i\" in the pyranges contains the original positional index in the BED-file"
   ]
  },
  {
   "cell_type": "code",
   "execution_count": 105,
   "id": "68e857d0-6723-499c-b000-a38a887a046b",
   "metadata": {
    "vscode": {
     "languageId": "python"
    }
   },
   "outputs": [],
   "source": [
    "# we define a set of query ranges:\n",
    "query_ranges = pyranges.from_dict({\"Chromosome\": [1, 2, 3, 'X'], \"Start\": [0, 0, 0, 0], \"End\": [1000000, 1000000, 1000000, 1000000]})"
   ]
  },
  {
   "cell_type": "code",
   "execution_count": 106,
   "id": "31d414ef-3b33-4820-8099-5f1dc1e34018",
   "metadata": {
    "vscode": {
     "languageId": "python"
    }
   },
   "outputs": [],
   "source": [
    "# this could be an easy way to get i\n",
    "idx_overlap = bed.overlap(query_ranges).i.values"
   ]
  },
  {
   "cell_type": "code",
   "execution_count": 107,
   "id": "529ddcfb-d946-450e-b674-64e0dd9c272f",
   "metadata": {
    "vscode": {
     "languageId": "python"
    }
   },
   "outputs": [
    {
     "data": {
      "text/html": [
       "<div>\n",
       "<style scoped>\n",
       "    .dataframe tbody tr th:only-of-type {\n",
       "        vertical-align: middle;\n",
       "    }\n",
       "\n",
       "    .dataframe tbody tr th {\n",
       "        vertical-align: top;\n",
       "    }\n",
       "\n",
       "    .dataframe thead th {\n",
       "        text-align: right;\n",
       "    }\n",
       "</style>\n",
       "<table border=\"1\" class=\"dataframe\">\n",
       "  <thead>\n",
       "    <tr style=\"text-align: right;\">\n",
       "      <th></th>\n",
       "      <th>Chromosome</th>\n",
       "      <th>Start</th>\n",
       "      <th>End</th>\n",
       "      <th>Name</th>\n",
       "      <th>Score</th>\n",
       "      <th>i</th>\n",
       "    </tr>\n",
       "  </thead>\n",
       "  <tbody>\n",
       "    <tr>\n",
       "      <th>0</th>\n",
       "      <td>1</td>\n",
       "      <td>10054</td>\n",
       "      <td>10182</td>\n",
       "      <td>c1</td>\n",
       "      <td>0</td>\n",
       "      <td>0</td>\n",
       "    </tr>\n",
       "    <tr>\n",
       "      <th>1</th>\n",
       "      <td>1</td>\n",
       "      <td>10182</td>\n",
       "      <td>10310</td>\n",
       "      <td>c2</td>\n",
       "      <td>0</td>\n",
       "      <td>1</td>\n",
       "    </tr>\n",
       "    <tr>\n",
       "      <th>2</th>\n",
       "      <td>1</td>\n",
       "      <td>10310</td>\n",
       "      <td>10438</td>\n",
       "      <td>c3</td>\n",
       "      <td>0</td>\n",
       "      <td>2</td>\n",
       "    </tr>\n",
       "    <tr>\n",
       "      <th>3</th>\n",
       "      <td>1</td>\n",
       "      <td>10438</td>\n",
       "      <td>10566</td>\n",
       "      <td>c4</td>\n",
       "      <td>0</td>\n",
       "      <td>3</td>\n",
       "    </tr>\n",
       "    <tr>\n",
       "      <th>4</th>\n",
       "      <td>1</td>\n",
       "      <td>10566</td>\n",
       "      <td>10694</td>\n",
       "      <td>c5</td>\n",
       "      <td>0</td>\n",
       "      <td>4</td>\n",
       "    </tr>\n",
       "    <tr>\n",
       "      <th>...</th>\n",
       "      <td>...</td>\n",
       "      <td>...</td>\n",
       "      <td>...</td>\n",
       "      <td>...</td>\n",
       "      <td>...</td>\n",
       "      <td>...</td>\n",
       "    </tr>\n",
       "    <tr>\n",
       "      <th>20606</th>\n",
       "      <td>X</td>\n",
       "      <td>999139</td>\n",
       "      <td>999267</td>\n",
       "      <td>c6599872</td>\n",
       "      <td>0</td>\n",
       "      <td>7288720</td>\n",
       "    </tr>\n",
       "    <tr>\n",
       "      <th>20607</th>\n",
       "      <td>X</td>\n",
       "      <td>999267</td>\n",
       "      <td>999395</td>\n",
       "      <td>c6599873</td>\n",
       "      <td>0</td>\n",
       "      <td>7288721</td>\n",
       "    </tr>\n",
       "    <tr>\n",
       "      <th>20608</th>\n",
       "      <td>X</td>\n",
       "      <td>999395</td>\n",
       "      <td>999523</td>\n",
       "      <td>c6599874</td>\n",
       "      <td>0</td>\n",
       "      <td>7288722</td>\n",
       "    </tr>\n",
       "    <tr>\n",
       "      <th>20609</th>\n",
       "      <td>X</td>\n",
       "      <td>999523</td>\n",
       "      <td>999651</td>\n",
       "      <td>c6599875</td>\n",
       "      <td>0</td>\n",
       "      <td>7288723</td>\n",
       "    </tr>\n",
       "    <tr>\n",
       "      <th>20610</th>\n",
       "      <td>X</td>\n",
       "      <td>999651</td>\n",
       "      <td>999779</td>\n",
       "      <td>c6599876</td>\n",
       "      <td>0</td>\n",
       "      <td>7288724</td>\n",
       "    </tr>\n",
       "  </tbody>\n",
       "</table>\n",
       "<p>20611 rows × 6 columns</p>\n",
       "</div>"
      ],
      "text/plain": [
       "+--------------+-----------+-----------+------------+-----------+-----------+\n",
       "| Chromosome   | Start     | End       | Name       | Score     | i         |\n",
       "| (category)   | (int32)   | (int32)   | (object)   | (int64)   | (int64)   |\n",
       "|--------------+-----------+-----------+------------+-----------+-----------|\n",
       "| 1            | 10054     | 10182     | c1         | 0         | 0         |\n",
       "| 1            | 10182     | 10310     | c2         | 0         | 1         |\n",
       "| 1            | 10310     | 10438     | c3         | 0         | 2         |\n",
       "| 1            | 10438     | 10566     | c4         | 0         | 3         |\n",
       "| ...          | ...       | ...       | ...        | ...       | ...       |\n",
       "| X            | 999267    | 999395    | c6599873   | 0         | 7288721   |\n",
       "| X            | 999395    | 999523    | c6599874   | 0         | 7288722   |\n",
       "| X            | 999523    | 999651    | c6599875   | 0         | 7288723   |\n",
       "| X            | 999651    | 999779    | c6599876   | 0         | 7288724   |\n",
       "+--------------+-----------+-----------+------------+-----------+-----------+\n",
       "Unstranded PyRanges object has 20,611 rows and 6 columns from 4 chromosomes.\n",
       "For printing, the PyRanges was sorted on Chromosome."
      ]
     },
     "execution_count": 107,
     "metadata": {},
     "output_type": "execute_result"
    }
   ],
   "source": [
    "bed.overlap(query_ranges)"
   ]
  },
  {
   "cell_type": "code",
   "execution_count": 114,
   "id": "0ae4d7e2-11dd-4a5f-92c9-61f5d0662a59",
   "metadata": {
    "vscode": {
     "languageId": "python"
    }
   },
   "outputs": [
    {
     "name": "stdout",
     "output_type": "stream",
     "text": [
      "+--------------+-----------+-----------+\n",
      "|   Chromosome |     Start |       End |\n",
      "|   (category) |   (int32) |   (int32) |\n",
      "|--------------+-----------+-----------|\n",
      "|            1 |     10060 |     10183 |\n",
      "+--------------+-----------+-----------+\n",
      "Unstranded PyRanges object has 1 rows and 3 columns from 1 chromosomes.\n",
      "For printing, the PyRanges was sorted on Chromosome.\n",
      "<class 'pyranges.pyranges.PyRanges'>\n",
      "\n",
      "<class 'type'>\n",
      "True\n",
      "\n",
      "[0 1]\n",
      "['TAACCCTAACCCTAACCCTAACCCTAACCCTAACCCTAACCCTAACCCTAACCCAACCCTAACCCTAACCCTAACCCTAACCCTAACCCTAACCCCTAACCCTAACCCTAACCCTAACCCTAACCTAA'\n",
      " 'CCCTAACCCTAACCCTAACCCTAACCCTAACCCTAACCCTAACCCTAACCCCTAACCCTAACCCTAAACCCTAAACCCTAACCCTAACCCTAACCCTAACCCTAACCCCAACCCCAACCCCAACCCCA']\n",
      "128\n",
      "128\n"
     ]
    }
   ],
   "source": [
    "# returns the ones it touches!!!\n",
    "test_query_ranges = pyranges.from_dict({\"Chromosome\": [1], \"Start\": [10060], \"End\": [10183]})\n",
    "print(test_query_ranges)\n",
    "print(type(test_query_ranges))\n",
    "print()\n",
    "print(type(pyranges.pyranges.PyRanges))\n",
    "print(isinstance(test_query_ranges, pyranges.pyranges.PyRanges))\n",
    "print()\n",
    "test_idx_overlap = bed.overlap(test_query_ranges).i.values\n",
    "print(test_idx_overlap)\n",
    "print(bsl.get_seq(test_idx_overlap))\n",
    "print(len(bsl.get_seq(test_idx_overlap)[0]))\n",
    "print(len(bsl.get_seq(test_idx_overlap)[1]))"
   ]
  },
  {
   "cell_type": "code",
   "execution_count": 60,
   "id": "d75810ce-37af-4bb3-994f-4bb5a92b8ece",
   "metadata": {
    "vscode": {
     "languageId": "python"
    }
   },
   "outputs": [
    {
     "data": {
      "text/plain": [
       "array([      0,       1,       2, ..., 7288722, 7288723, 7288724])"
      ]
     },
     "execution_count": 60,
     "metadata": {},
     "output_type": "execute_result"
    }
   ],
   "source": [
    "idx_overlap"
   ]
  },
  {
   "cell_type": "code",
   "execution_count": 61,
   "id": "93757d3a-05f9-4cd7-becc-bdfa03d0b165",
   "metadata": {
    "vscode": {
     "languageId": "python"
    }
   },
   "outputs": [
    {
     "data": {
      "text/plain": [
       "20611"
      ]
     },
     "execution_count": 61,
     "metadata": {},
     "output_type": "execute_result"
    }
   ],
   "source": [
    "len(idx_overlap)"
   ]
  },
  {
   "cell_type": "code",
   "execution_count": 63,
   "id": "3b135791-592d-45e5-bfae-a44dec917984",
   "metadata": {
    "vscode": {
     "languageId": "python"
    }
   },
   "outputs": [
    {
     "data": {
      "text/plain": [
       "numpy.ndarray"
      ]
     },
     "execution_count": 63,
     "metadata": {},
     "output_type": "execute_result"
    }
   ],
   "source": [
    "type(idx_overlap)"
   ]
  },
  {
   "cell_type": "code",
   "execution_count": 62,
   "id": "d298dc83-6ede-44c2-838a-52c1dbf8cc1c",
   "metadata": {
    "vscode": {
     "languageId": "python"
    }
   },
   "outputs": [
    {
     "data": {
      "text/plain": [
       "array(['TAACCCTAACCCTAACCCTAACCCTAACCCTAACCCTAACCCTAACCCTAACCCAACCCTAACCCTAACCCTAACCCTAACCCTAACCCTAACCCCTAACCCTAACCCTAACCCTAACCCTAACCTAA',\n",
       "       'CCCTAACCCTAACCCTAACCCTAACCCTAACCCTAACCCTAACCCTAACCCCTAACCCTAACCCTAAACCCTAAACCCTAACCCTAACCCTAACCCTAACCCTAACCCCAACCCCAACCCCAACCCCA',\n",
       "       'ACCCCAACCCCAACCCTAACCCCTAACCCTAACCCTAACCCTACCCTAACCCTAACCCTAACCCTAACCCTAACCCTAACCCCTAACCCCTAACCCTAACCCTAACCCTAACCCTAACCCTAACCCTA',\n",
       "       ...,\n",
       "       'CCCTGTCTCTGCTAAAAATACAAATATCAGCCGAGAGTAGTGGTGGGCGTCTGTAGTCACAGCTACTTGGGAGGCTGAGACAGGAGAATCCCTTGAATCCGGGAGGCAGAGGTTGCAGTGAGCGGAGA',\n",
       "       'TGATGCCATTGCACTCCGGTCTGGGCCACAGAGCGAGACTGTCAAAACAAAACGGAACAAAAAGAATGCTTTAAGAAGCGGGCGGATCACAAGATCCAGAGATTGAGAATAGCCTGGCTAACACAGTG',\n",
       "       'AAACTCCGTCACTACTAAAAATACAAAAAAATTAGCCGGGCGTGGTGGCAGGTGCATGTAGTCTCAGCTCCTCAGGAGGCTGAGGCAGGAGAATGGTGTGAACCCAGGAGGCGGAGCTTGCAGTGAGC'],\n",
       "      dtype='<U128')"
      ]
     },
     "execution_count": 62,
     "metadata": {},
     "output_type": "execute_result"
    }
   ],
   "source": [
    "bsl.get_seq(idx_overlap)"
   ]
  },
  {
   "cell_type": "code",
   "execution_count": 64,
   "id": "3da45ac0-0668-4f91-af48-4b82a0430079",
   "metadata": {
    "vscode": {
     "languageId": "python"
    }
   },
   "outputs": [
    {
     "data": {
      "text/plain": [
       "numpy.ndarray"
      ]
     },
     "execution_count": 64,
     "metadata": {},
     "output_type": "execute_result"
    }
   ],
   "source": [
    "type(bsl.get_seq(idx_overlap))"
   ]
  },
  {
   "cell_type": "code",
   "execution_count": 65,
   "id": "e9998bea-93d8-449a-8c56-6f5f6537ef21",
   "metadata": {
    "vscode": {
     "languageId": "python"
    }
   },
   "outputs": [
    {
     "data": {
      "text/plain": [
       "20611"
      ]
     },
     "execution_count": 65,
     "metadata": {},
     "output_type": "execute_result"
    }
   ],
   "source": [
    "len(bsl.get_seq(idx_overlap))"
   ]
  },
  {
   "cell_type": "code",
   "execution_count": 66,
   "id": "56ae5ce5-f430-48e3-8ae7-bd3a8b20d194",
   "metadata": {
    "vscode": {
     "languageId": "python"
    }
   },
   "outputs": [
    {
     "data": {
      "text/plain": [
       "128"
      ]
     },
     "execution_count": 66,
     "metadata": {},
     "output_type": "execute_result"
    }
   ],
   "source": [
    "len(bsl.get_seq(idx_overlap)[0])"
   ]
  },
  {
   "cell_type": "code",
   "execution_count": 67,
   "id": "0224b0ac-a45b-47e9-90f0-68d99bc3d68b",
   "metadata": {
    "vscode": {
     "languageId": "python"
    }
   },
   "outputs": [
    {
     "data": {
      "text/html": [
       "<div>\n",
       "<style scoped>\n",
       "    .dataframe tbody tr th:only-of-type {\n",
       "        vertical-align: middle;\n",
       "    }\n",
       "\n",
       "    .dataframe tbody tr th {\n",
       "        vertical-align: top;\n",
       "    }\n",
       "\n",
       "    .dataframe thead th {\n",
       "        text-align: right;\n",
       "    }\n",
       "</style>\n",
       "<table border=\"1\" class=\"dataframe\">\n",
       "  <thead>\n",
       "    <tr style=\"text-align: right;\">\n",
       "      <th></th>\n",
       "      <th>Chromosome</th>\n",
       "      <th>Start</th>\n",
       "      <th>End</th>\n",
       "      <th>Name</th>\n",
       "      <th>Score</th>\n",
       "      <th>i</th>\n",
       "    </tr>\n",
       "  </thead>\n",
       "  <tbody>\n",
       "    <tr>\n",
       "      <th>0</th>\n",
       "      <td>1</td>\n",
       "      <td>10054</td>\n",
       "      <td>10182</td>\n",
       "      <td>c1</td>\n",
       "      <td>0</td>\n",
       "      <td>0</td>\n",
       "    </tr>\n",
       "    <tr>\n",
       "      <th>1</th>\n",
       "      <td>1</td>\n",
       "      <td>10182</td>\n",
       "      <td>10310</td>\n",
       "      <td>c2</td>\n",
       "      <td>0</td>\n",
       "      <td>1</td>\n",
       "    </tr>\n",
       "    <tr>\n",
       "      <th>2</th>\n",
       "      <td>1</td>\n",
       "      <td>10310</td>\n",
       "      <td>10438</td>\n",
       "      <td>c3</td>\n",
       "      <td>0</td>\n",
       "      <td>2</td>\n",
       "    </tr>\n",
       "    <tr>\n",
       "      <th>3</th>\n",
       "      <td>1</td>\n",
       "      <td>10438</td>\n",
       "      <td>10566</td>\n",
       "      <td>c4</td>\n",
       "      <td>0</td>\n",
       "      <td>3</td>\n",
       "    </tr>\n",
       "    <tr>\n",
       "      <th>4</th>\n",
       "      <td>1</td>\n",
       "      <td>10566</td>\n",
       "      <td>10694</td>\n",
       "      <td>c5</td>\n",
       "      <td>0</td>\n",
       "      <td>4</td>\n",
       "    </tr>\n",
       "    <tr>\n",
       "      <th>...</th>\n",
       "      <td>...</td>\n",
       "      <td>...</td>\n",
       "      <td>...</td>\n",
       "      <td>...</td>\n",
       "      <td>...</td>\n",
       "      <td>...</td>\n",
       "    </tr>\n",
       "    <tr>\n",
       "      <th>7288720</th>\n",
       "      <td>X</td>\n",
       "      <td>999139</td>\n",
       "      <td>999267</td>\n",
       "      <td>c6599872</td>\n",
       "      <td>0</td>\n",
       "      <td>7288720</td>\n",
       "    </tr>\n",
       "    <tr>\n",
       "      <th>7288721</th>\n",
       "      <td>X</td>\n",
       "      <td>999267</td>\n",
       "      <td>999395</td>\n",
       "      <td>c6599873</td>\n",
       "      <td>0</td>\n",
       "      <td>7288721</td>\n",
       "    </tr>\n",
       "    <tr>\n",
       "      <th>7288722</th>\n",
       "      <td>X</td>\n",
       "      <td>999395</td>\n",
       "      <td>999523</td>\n",
       "      <td>c6599874</td>\n",
       "      <td>0</td>\n",
       "      <td>7288722</td>\n",
       "    </tr>\n",
       "    <tr>\n",
       "      <th>7288723</th>\n",
       "      <td>X</td>\n",
       "      <td>999523</td>\n",
       "      <td>999651</td>\n",
       "      <td>c6599875</td>\n",
       "      <td>0</td>\n",
       "      <td>7288723</td>\n",
       "    </tr>\n",
       "    <tr>\n",
       "      <th>7288724</th>\n",
       "      <td>X</td>\n",
       "      <td>999651</td>\n",
       "      <td>999779</td>\n",
       "      <td>c6599876</td>\n",
       "      <td>0</td>\n",
       "      <td>7288724</td>\n",
       "    </tr>\n",
       "  </tbody>\n",
       "</table>\n",
       "<p>20611 rows × 6 columns</p>\n",
       "</div>"
      ],
      "text/plain": [
       "        Chromosome   Start     End      Name  Score        i\n",
       "0                1   10054   10182        c1      0        0\n",
       "1                1   10182   10310        c2      0        1\n",
       "2                1   10310   10438        c3      0        2\n",
       "3                1   10438   10566        c4      0        3\n",
       "4                1   10566   10694        c5      0        4\n",
       "...            ...     ...     ...       ...    ...      ...\n",
       "7288720          X  999139  999267  c6599872      0  7288720\n",
       "7288721          X  999267  999395  c6599873      0  7288721\n",
       "7288722          X  999395  999523  c6599874      0  7288722\n",
       "7288723          X  999523  999651  c6599875      0  7288723\n",
       "7288724          X  999651  999779  c6599876      0  7288724\n",
       "\n",
       "[20611 rows x 6 columns]"
      ]
     },
     "execution_count": 67,
     "metadata": {},
     "output_type": "execute_result"
    }
   ],
   "source": [
    "bsl.bed.loc[idx_overlap] # this returns the correct ranges based on \"i\", i.e., the position in the BED file"
   ]
  },
  {
   "cell_type": "code",
   "execution_count": 79,
   "id": "593a8f5c-8715-45a9-bea8-94fe6ff3d9ce",
   "metadata": {
    "vscode": {
     "languageId": "python"
    }
   },
   "outputs": [
    {
     "data": {
      "text/html": [
       "<div>\n",
       "<style scoped>\n",
       "    .dataframe tbody tr th:only-of-type {\n",
       "        vertical-align: middle;\n",
       "    }\n",
       "\n",
       "    .dataframe tbody tr th {\n",
       "        vertical-align: top;\n",
       "    }\n",
       "\n",
       "    .dataframe thead th {\n",
       "        text-align: right;\n",
       "    }\n",
       "</style>\n",
       "<table border=\"1\" class=\"dataframe\">\n",
       "  <thead>\n",
       "    <tr style=\"text-align: right;\">\n",
       "      <th></th>\n",
       "      <th>Chromosome</th>\n",
       "      <th>Start</th>\n",
       "      <th>End</th>\n",
       "      <th>Name</th>\n",
       "      <th>Score</th>\n",
       "      <th>i</th>\n",
       "    </tr>\n",
       "  </thead>\n",
       "  <tbody>\n",
       "    <tr>\n",
       "      <th>0</th>\n",
       "      <td>1</td>\n",
       "      <td>10054</td>\n",
       "      <td>10182</td>\n",
       "      <td>c1</td>\n",
       "      <td>0</td>\n",
       "      <td>0</td>\n",
       "    </tr>\n",
       "    <tr>\n",
       "      <th>1</th>\n",
       "      <td>1</td>\n",
       "      <td>10182</td>\n",
       "      <td>10310</td>\n",
       "      <td>c2</td>\n",
       "      <td>0</td>\n",
       "      <td>1</td>\n",
       "    </tr>\n",
       "    <tr>\n",
       "      <th>2</th>\n",
       "      <td>1</td>\n",
       "      <td>10310</td>\n",
       "      <td>10438</td>\n",
       "      <td>c3</td>\n",
       "      <td>0</td>\n",
       "      <td>2</td>\n",
       "    </tr>\n",
       "    <tr>\n",
       "      <th>3</th>\n",
       "      <td>1</td>\n",
       "      <td>10438</td>\n",
       "      <td>10566</td>\n",
       "      <td>c4</td>\n",
       "      <td>0</td>\n",
       "      <td>3</td>\n",
       "    </tr>\n",
       "    <tr>\n",
       "      <th>4</th>\n",
       "      <td>1</td>\n",
       "      <td>10566</td>\n",
       "      <td>10694</td>\n",
       "      <td>c5</td>\n",
       "      <td>0</td>\n",
       "      <td>4</td>\n",
       "    </tr>\n",
       "    <tr>\n",
       "      <th>...</th>\n",
       "      <td>...</td>\n",
       "      <td>...</td>\n",
       "      <td>...</td>\n",
       "      <td>...</td>\n",
       "      <td>...</td>\n",
       "      <td>...</td>\n",
       "    </tr>\n",
       "    <tr>\n",
       "      <th>7288720</th>\n",
       "      <td>8</td>\n",
       "      <td>989704</td>\n",
       "      <td>989832</td>\n",
       "      <td>c7438225</td>\n",
       "      <td>0</td>\n",
       "      <td>8188742</td>\n",
       "    </tr>\n",
       "    <tr>\n",
       "      <th>7288721</th>\n",
       "      <td>8</td>\n",
       "      <td>989832</td>\n",
       "      <td>989960</td>\n",
       "      <td>c7438226</td>\n",
       "      <td>0</td>\n",
       "      <td>8188743</td>\n",
       "    </tr>\n",
       "    <tr>\n",
       "      <th>7288722</th>\n",
       "      <td>8</td>\n",
       "      <td>989960</td>\n",
       "      <td>990088</td>\n",
       "      <td>c7438227</td>\n",
       "      <td>0</td>\n",
       "      <td>8188744</td>\n",
       "    </tr>\n",
       "    <tr>\n",
       "      <th>7288723</th>\n",
       "      <td>8</td>\n",
       "      <td>990088</td>\n",
       "      <td>990216</td>\n",
       "      <td>c7438228</td>\n",
       "      <td>0</td>\n",
       "      <td>8188745</td>\n",
       "    </tr>\n",
       "    <tr>\n",
       "      <th>7288724</th>\n",
       "      <td>8</td>\n",
       "      <td>990216</td>\n",
       "      <td>990344</td>\n",
       "      <td>c7438229</td>\n",
       "      <td>0</td>\n",
       "      <td>8188746</td>\n",
       "    </tr>\n",
       "  </tbody>\n",
       "</table>\n",
       "<p>20611 rows × 6 columns</p>\n",
       "</div>"
      ],
      "text/plain": [
       "        Chromosome   Start     End      Name  Score        i\n",
       "0                1   10054   10182        c1      0        0\n",
       "1                1   10182   10310        c2      0        1\n",
       "2                1   10310   10438        c3      0        2\n",
       "3                1   10438   10566        c4      0        3\n",
       "4                1   10566   10694        c5      0        4\n",
       "...            ...     ...     ...       ...    ...      ...\n",
       "7288720          8  989704  989832  c7438225      0  8188742\n",
       "7288721          8  989832  989960  c7438226      0  8188743\n",
       "7288722          8  989960  990088  c7438227      0  8188744\n",
       "7288723          8  990088  990216  c7438228      0  8188745\n",
       "7288724          8  990216  990344  c7438229      0  8188746\n",
       "\n",
       "[20611 rows x 6 columns]"
      ]
     },
     "execution_count": 79,
     "metadata": {},
     "output_type": "execute_result"
    }
   ],
   "source": [
    "bed.df.loc[idx_overlap] # note that this returns the wrong ranges! PyRanges.index =/= position in BED file (\"i\") ........ "
   ]
  },
  {
   "cell_type": "code",
   "execution_count": 80,
   "id": "19494af1-beed-4070-9eb3-e7294d6c0528",
   "metadata": {
    "vscode": {
     "languageId": "python"
    }
   },
   "outputs": [],
   "source": [
    "bed_idx_from_i = {k: v for k, v in zip(bed.df.i.values,bed.df.index.values)} # dictionary that maps \"i\" to position in the PyRanges"
   ]
  },
  {
   "cell_type": "code",
   "execution_count": 82,
   "id": "c3883c70-12f3-4cf0-9174-598a6cdea0fb",
   "metadata": {
    "vscode": {
     "languageId": "python"
    }
   },
   "outputs": [],
   "source": [
    "# bed_idx_from_i just the identity!"
   ]
  },
  {
   "cell_type": "code",
   "execution_count": 83,
   "id": "b7efeea9-a67d-4ef7-8dee-f10ec4081cf9",
   "metadata": {
    "vscode": {
     "languageId": "python"
    }
   },
   "outputs": [
    {
     "data": {
      "text/html": [
       "<div>\n",
       "<style scoped>\n",
       "    .dataframe tbody tr th:only-of-type {\n",
       "        vertical-align: middle;\n",
       "    }\n",
       "\n",
       "    .dataframe tbody tr th {\n",
       "        vertical-align: top;\n",
       "    }\n",
       "\n",
       "    .dataframe thead th {\n",
       "        text-align: right;\n",
       "    }\n",
       "</style>\n",
       "<table border=\"1\" class=\"dataframe\">\n",
       "  <thead>\n",
       "    <tr style=\"text-align: right;\">\n",
       "      <th></th>\n",
       "      <th>Chromosome</th>\n",
       "      <th>Start</th>\n",
       "      <th>End</th>\n",
       "      <th>Name</th>\n",
       "      <th>Score</th>\n",
       "      <th>i</th>\n",
       "    </tr>\n",
       "  </thead>\n",
       "  <tbody>\n",
       "    <tr>\n",
       "      <th>0</th>\n",
       "      <td>1</td>\n",
       "      <td>10054</td>\n",
       "      <td>10182</td>\n",
       "      <td>c1</td>\n",
       "      <td>0</td>\n",
       "      <td>0</td>\n",
       "    </tr>\n",
       "    <tr>\n",
       "      <th>1</th>\n",
       "      <td>1</td>\n",
       "      <td>10182</td>\n",
       "      <td>10310</td>\n",
       "      <td>c2</td>\n",
       "      <td>0</td>\n",
       "      <td>1</td>\n",
       "    </tr>\n",
       "    <tr>\n",
       "      <th>2</th>\n",
       "      <td>1</td>\n",
       "      <td>10310</td>\n",
       "      <td>10438</td>\n",
       "      <td>c3</td>\n",
       "      <td>0</td>\n",
       "      <td>2</td>\n",
       "    </tr>\n",
       "    <tr>\n",
       "      <th>3</th>\n",
       "      <td>1</td>\n",
       "      <td>10438</td>\n",
       "      <td>10566</td>\n",
       "      <td>c4</td>\n",
       "      <td>0</td>\n",
       "      <td>3</td>\n",
       "    </tr>\n",
       "    <tr>\n",
       "      <th>4</th>\n",
       "      <td>1</td>\n",
       "      <td>10566</td>\n",
       "      <td>10694</td>\n",
       "      <td>c5</td>\n",
       "      <td>0</td>\n",
       "      <td>4</td>\n",
       "    </tr>\n",
       "    <tr>\n",
       "      <th>...</th>\n",
       "      <td>...</td>\n",
       "      <td>...</td>\n",
       "      <td>...</td>\n",
       "      <td>...</td>\n",
       "      <td>...</td>\n",
       "      <td>...</td>\n",
       "    </tr>\n",
       "    <tr>\n",
       "      <th>15102325</th>\n",
       "      <td>X</td>\n",
       "      <td>999139</td>\n",
       "      <td>999267</td>\n",
       "      <td>c6599872</td>\n",
       "      <td>0</td>\n",
       "      <td>7288720</td>\n",
       "    </tr>\n",
       "    <tr>\n",
       "      <th>15102326</th>\n",
       "      <td>X</td>\n",
       "      <td>999267</td>\n",
       "      <td>999395</td>\n",
       "      <td>c6599873</td>\n",
       "      <td>0</td>\n",
       "      <td>7288721</td>\n",
       "    </tr>\n",
       "    <tr>\n",
       "      <th>15102327</th>\n",
       "      <td>X</td>\n",
       "      <td>999395</td>\n",
       "      <td>999523</td>\n",
       "      <td>c6599874</td>\n",
       "      <td>0</td>\n",
       "      <td>7288722</td>\n",
       "    </tr>\n",
       "    <tr>\n",
       "      <th>15102328</th>\n",
       "      <td>X</td>\n",
       "      <td>999523</td>\n",
       "      <td>999651</td>\n",
       "      <td>c6599875</td>\n",
       "      <td>0</td>\n",
       "      <td>7288723</td>\n",
       "    </tr>\n",
       "    <tr>\n",
       "      <th>15102329</th>\n",
       "      <td>X</td>\n",
       "      <td>999651</td>\n",
       "      <td>999779</td>\n",
       "      <td>c6599876</td>\n",
       "      <td>0</td>\n",
       "      <td>7288724</td>\n",
       "    </tr>\n",
       "  </tbody>\n",
       "</table>\n",
       "<p>20611 rows × 6 columns</p>\n",
       "</div>"
      ],
      "text/plain": [
       "         Chromosome   Start     End      Name  Score        i\n",
       "0                 1   10054   10182        c1      0        0\n",
       "1                 1   10182   10310        c2      0        1\n",
       "2                 1   10310   10438        c3      0        2\n",
       "3                 1   10438   10566        c4      0        3\n",
       "4                 1   10566   10694        c5      0        4\n",
       "...             ...     ...     ...       ...    ...      ...\n",
       "15102325          X  999139  999267  c6599872      0  7288720\n",
       "15102326          X  999267  999395  c6599873      0  7288721\n",
       "15102327          X  999395  999523  c6599874      0  7288722\n",
       "15102328          X  999523  999651  c6599875      0  7288723\n",
       "15102329          X  999651  999779  c6599876      0  7288724\n",
       "\n",
       "[20611 rows x 6 columns]"
      ]
     },
     "execution_count": 83,
     "metadata": {},
     "output_type": "execute_result"
    }
   ],
   "source": [
    "bed.df.loc[[*map(bed_idx_from_i.get, idx_overlap)]] # this actually returns the correct regions, but is way slower... (?) -> don't do this"
   ]
  },
  {
   "cell_type": "code",
   "execution_count": 84,
   "id": "bb119bcd-4978-4876-9fef-f246ed0e0611",
   "metadata": {
    "vscode": {
     "languageId": "python"
    }
   },
   "outputs": [
    {
     "data": {
      "text/html": [
       "<div>\n",
       "<style scoped>\n",
       "    .dataframe tbody tr th:only-of-type {\n",
       "        vertical-align: middle;\n",
       "    }\n",
       "\n",
       "    .dataframe tbody tr th {\n",
       "        vertical-align: top;\n",
       "    }\n",
       "\n",
       "    .dataframe thead th {\n",
       "        text-align: right;\n",
       "    }\n",
       "</style>\n",
       "<table border=\"1\" class=\"dataframe\">\n",
       "  <thead>\n",
       "    <tr style=\"text-align: right;\">\n",
       "      <th></th>\n",
       "      <th>Chromosome</th>\n",
       "      <th>Start</th>\n",
       "      <th>End</th>\n",
       "      <th>Name</th>\n",
       "      <th>Score</th>\n",
       "      <th>i</th>\n",
       "    </tr>\n",
       "  </thead>\n",
       "  <tbody>\n",
       "    <tr>\n",
       "      <th>0</th>\n",
       "      <td>1</td>\n",
       "      <td>10054</td>\n",
       "      <td>10182</td>\n",
       "      <td>c1</td>\n",
       "      <td>0</td>\n",
       "      <td>0</td>\n",
       "    </tr>\n",
       "    <tr>\n",
       "      <th>1</th>\n",
       "      <td>1</td>\n",
       "      <td>10182</td>\n",
       "      <td>10310</td>\n",
       "      <td>c2</td>\n",
       "      <td>0</td>\n",
       "      <td>1</td>\n",
       "    </tr>\n",
       "    <tr>\n",
       "      <th>2</th>\n",
       "      <td>1</td>\n",
       "      <td>10310</td>\n",
       "      <td>10438</td>\n",
       "      <td>c3</td>\n",
       "      <td>0</td>\n",
       "      <td>2</td>\n",
       "    </tr>\n",
       "    <tr>\n",
       "      <th>3</th>\n",
       "      <td>1</td>\n",
       "      <td>10438</td>\n",
       "      <td>10566</td>\n",
       "      <td>c4</td>\n",
       "      <td>0</td>\n",
       "      <td>3</td>\n",
       "    </tr>\n",
       "    <tr>\n",
       "      <th>4</th>\n",
       "      <td>1</td>\n",
       "      <td>10566</td>\n",
       "      <td>10694</td>\n",
       "      <td>c5</td>\n",
       "      <td>0</td>\n",
       "      <td>4</td>\n",
       "    </tr>\n",
       "    <tr>\n",
       "      <th>...</th>\n",
       "      <td>...</td>\n",
       "      <td>...</td>\n",
       "      <td>...</td>\n",
       "      <td>...</td>\n",
       "      <td>...</td>\n",
       "      <td>...</td>\n",
       "    </tr>\n",
       "    <tr>\n",
       "      <th>7288720</th>\n",
       "      <td>X</td>\n",
       "      <td>999139</td>\n",
       "      <td>999267</td>\n",
       "      <td>c6599872</td>\n",
       "      <td>0</td>\n",
       "      <td>7288720</td>\n",
       "    </tr>\n",
       "    <tr>\n",
       "      <th>7288721</th>\n",
       "      <td>X</td>\n",
       "      <td>999267</td>\n",
       "      <td>999395</td>\n",
       "      <td>c6599873</td>\n",
       "      <td>0</td>\n",
       "      <td>7288721</td>\n",
       "    </tr>\n",
       "    <tr>\n",
       "      <th>7288722</th>\n",
       "      <td>X</td>\n",
       "      <td>999395</td>\n",
       "      <td>999523</td>\n",
       "      <td>c6599874</td>\n",
       "      <td>0</td>\n",
       "      <td>7288722</td>\n",
       "    </tr>\n",
       "    <tr>\n",
       "      <th>7288723</th>\n",
       "      <td>X</td>\n",
       "      <td>999523</td>\n",
       "      <td>999651</td>\n",
       "      <td>c6599875</td>\n",
       "      <td>0</td>\n",
       "      <td>7288723</td>\n",
       "    </tr>\n",
       "    <tr>\n",
       "      <th>7288724</th>\n",
       "      <td>X</td>\n",
       "      <td>999651</td>\n",
       "      <td>999779</td>\n",
       "      <td>c6599876</td>\n",
       "      <td>0</td>\n",
       "      <td>7288724</td>\n",
       "    </tr>\n",
       "  </tbody>\n",
       "</table>\n",
       "<p>20611 rows × 6 columns</p>\n",
       "</div>"
      ],
      "text/plain": [
       "        Chromosome   Start     End      Name  Score        i\n",
       "0                1   10054   10182        c1      0        0\n",
       "1                1   10182   10310        c2      0        1\n",
       "2                1   10310   10438        c3      0        2\n",
       "3                1   10438   10566        c4      0        3\n",
       "4                1   10566   10694        c5      0        4\n",
       "...            ...     ...     ...       ...    ...      ...\n",
       "7288720          X  999139  999267  c6599872      0  7288720\n",
       "7288721          X  999267  999395  c6599873      0  7288721\n",
       "7288722          X  999395  999523  c6599874      0  7288722\n",
       "7288723          X  999523  999651  c6599875      0  7288723\n",
       "7288724          X  999651  999779  c6599876      0  7288724\n",
       "\n",
       "[20611 rows x 6 columns]"
      ]
     },
     "execution_count": 84,
     "metadata": {},
     "output_type": "execute_result"
    }
   ],
   "source": [
    "bsl.bed.loc[idx_overlap]"
   ]
  },
  {
   "cell_type": "code",
   "execution_count": 85,
   "id": "fbf46f57-f228-41e8-b8bf-72dc622a45d6",
   "metadata": {
    "vscode": {
     "languageId": "python"
    }
   },
   "outputs": [],
   "source": [
    "# conclusion: we can get the index \"i\" of the overlapping regions using pyranges. I would not replace BEDSeqLoader.bed with a PyRanges-object though, because it messes with the ordering"
   ]
  },
  {
   "cell_type": "code",
   "execution_count": 86,
   "id": "b4965b7d-068e-4d60-832c-27c4090bfc13",
   "metadata": {
    "vscode": {
     "languageId": "python"
    }
   },
   "outputs": [],
   "source": [
    "del bsl, bed"
   ]
  },
  {
   "cell_type": "markdown",
   "id": "7d35b4c4-ea14-49d7-893e-5e42bb77dbb6",
   "metadata": {},
   "source": [
    "# Subsetting based on labels"
   ]
  },
  {
   "cell_type": "code",
   "execution_count": null,
   "id": "e65cc413-e972-4f2a-b529-cc623b8a3000",
   "metadata": {
    "vscode": {
     "languageId": "python"
    }
   },
   "outputs": [],
   "source": [
    "from features.label import LabelLoaderHDF5"
   ]
  },
  {
   "cell_type": "code",
   "execution_count": null,
   "id": "97952ef8-95d5-4d19-a107-1a3880c9d3c5",
   "metadata": {
    "vscode": {
     "languageId": "python"
    }
   },
   "outputs": [],
   "source": [
    "lbl = LabelLoaderHDF5('data/processed/GRCh38/toydata/overlaps.h5', 'data/processed/GRCh38/toydata/regions.bed')"
   ]
  },
  {
   "cell_type": "code",
   "execution_count": null,
   "id": "ece76991-3087-442c-baea-ecfb853405c0",
   "metadata": {
    "vscode": {
     "languageId": "python"
    }
   },
   "outputs": [],
   "source": [
    "lbl.get_labels(list(range(0,10))) # subsetting the data on this level is not easy to do efficiently"
   ]
  },
  {
   "cell_type": "code",
   "execution_count": null,
   "id": "03cf642b-142d-4406-8f63-b7a84466b0be",
   "metadata": {
    "vscode": {
     "languageId": "python"
    }
   },
   "outputs": [],
   "source": [
    "lbl.get_labels_one_hot(list(range(0,10))).shape # subsetting is easier here (can just be by position in the second dimention)"
   ]
  },
  {
   "cell_type": "code",
   "execution_count": null,
   "id": "f47b641f-e8da-417d-8444-e27e930a099f",
   "metadata": {
    "vscode": {
     "languageId": "python"
    }
   },
   "outputs": [],
   "source": [
    "# IDEA: subsetting by the label id could be easier during initialization"
   ]
  },
  {
   "cell_type": "code",
   "execution_count": null,
   "id": "fab27efa-267e-4657-bef2-b0dca5ba68a9",
   "metadata": {
    "vscode": {
     "languageId": "python"
    }
   },
   "outputs": [],
   "source": [
    "import h5py\n",
    "import numpy as np"
   ]
  },
  {
   "cell_type": "code",
   "execution_count": null,
   "id": "7a632433-0be1-4f5a-8514-86e14a72585b",
   "metadata": {
    "vscode": {
     "languageId": "python"
    }
   },
   "outputs": [],
   "source": [
    "f = h5py.File('data/processed/GRCh38/221111_128bp_minoverlap64_mincov2_nc10_tissues/overlaps.h5', 'r') # this is the full dataset"
   ]
  },
  {
   "cell_type": "code",
   "execution_count": null,
   "id": "45d565f2-bece-4993-aa94-0fb5fdea8994",
   "metadata": {
    "vscode": {
     "languageId": "python"
    }
   },
   "outputs": [],
   "source": [
    "l = len(f['query'])"
   ]
  },
  {
   "cell_type": "code",
   "execution_count": null,
   "id": "1941b50c-6cc0-40c7-bbb4-98aa805ef021",
   "metadata": {
    "vscode": {
     "languageId": "python"
    }
   },
   "outputs": [],
   "source": [
    "l"
   ]
  },
  {
   "cell_type": "code",
   "execution_count": null,
   "id": "78e5fbfe-222a-4c6d-8cfc-7dbe4b7cd74e",
   "metadata": {
    "vscode": {
     "languageId": "python"
    }
   },
   "outputs": [],
   "source": [
    "q = f['query']"
   ]
  },
  {
   "cell_type": "code",
   "execution_count": null,
   "id": "da333373-0914-45bd-840f-84a7f7058132",
   "metadata": {
    "vscode": {
     "languageId": "python"
    }
   },
   "outputs": [],
   "source": [
    "# HDF5 data is stored in chunks. We can quickly iterate over chunks..."
   ]
  },
  {
   "cell_type": "code",
   "execution_count": null,
   "id": "5638171b-25e0-4d18-8dca-4e0b019a705c",
   "metadata": {
    "vscode": {
     "languageId": "python"
    }
   },
   "outputs": [],
   "source": [
    "# example: get every region with at least X labels:"
   ]
  },
  {
   "cell_type": "code",
   "execution_count": null,
   "id": "7a7ceed5-887c-4bdf-92fb-e6a1b2251456",
   "metadata": {
    "vscode": {
     "languageId": "python"
    }
   },
   "outputs": [],
   "source": [
    "proc_chunk = []\n",
    "\n",
    "for c in q.iter_chunks():\n",
    "    \n",
    "    # iterate over the HDF5 file in chunks\n",
    "    \n",
    "    chunk = q[c]\n",
    "    chunk = np.stack(np.unique(chunk, return_counts=True), axis=1)\n",
    "    \n",
    "    if len(proc_chunk):\n",
    "        if[chunk[0,0] == proc_chunk[-1][-1,0]]:\n",
    "            proc_chunk[-1][-1,1] += chunk[0,1]\n",
    "        chunk = chunk[1:]\n",
    "    \n",
    "    proc_chunk.append(chunk)"
   ]
  },
  {
   "cell_type": "code",
   "execution_count": null,
   "id": "2b1b469d-a886-4b81-83fc-a72f2059c8ac",
   "metadata": {
    "vscode": {
     "languageId": "python"
    }
   },
   "outputs": [],
   "source": [
    "proc_chunk = np.concatenate(proc_chunk)"
   ]
  },
  {
   "cell_type": "code",
   "execution_count": null,
   "id": "29cad094-3a2e-47ef-bb0b-8d18b8cfe2c1",
   "metadata": {
    "vscode": {
     "languageId": "python"
    }
   },
   "outputs": [],
   "source": [
    "proc_chunk.shape"
   ]
  },
  {
   "cell_type": "code",
   "execution_count": null,
   "id": "91d41c1d-4110-40ef-9b81-b680f8cbd44b",
   "metadata": {
    "vscode": {
     "languageId": "python"
    }
   },
   "outputs": [],
   "source": [
    "len(np.unique(proc_chunk[:,0])) # the reason this is less long than the BED-file is that the ranges with 0 readouts are not stored in the HDF5"
   ]
  },
  {
   "cell_type": "code",
   "execution_count": null,
   "id": "3d944b13-10f6-4962-a704-8e1dfdbd0318",
   "metadata": {
    "vscode": {
     "languageId": "python"
    }
   },
   "outputs": [],
   "source": [
    "proc_chunk[0:20] # [ i,  number of labels]"
   ]
  },
  {
   "cell_type": "code",
   "execution_count": null,
   "id": "231b43de-200c-4549-b57f-02c942a9dd03",
   "metadata": {
    "vscode": {
     "languageId": "python"
    }
   },
   "outputs": [],
   "source": [
    "# getting the regions with at least N experimental readouts is now trivial:"
   ]
  },
  {
   "cell_type": "code",
   "execution_count": null,
   "id": "94a8b3ee-52a0-4231-a7ab-028422b3c946",
   "metadata": {
    "vscode": {
     "languageId": "python"
    }
   },
   "outputs": [],
   "source": [
    "min_cover = 5\n",
    "idx = proc_chunk[proc_chunk[:,1] > min_cover,0]"
   ]
  },
  {
   "cell_type": "code",
   "execution_count": null,
   "id": "94f6625e-f34d-4d36-b9be-058538e7628b",
   "metadata": {
    "vscode": {
     "languageId": "python"
    }
   },
   "outputs": [],
   "source": [
    "len(idx)"
   ]
  },
  {
   "cell_type": "code",
   "execution_count": null,
   "id": "295fb20a-e87e-4641-9540-a27db8d13174",
   "metadata": {
    "vscode": {
     "languageId": "python"
    }
   },
   "outputs": [],
   "source": [
    "del proc_chunk, chunk"
   ]
  },
  {
   "cell_type": "code",
   "execution_count": null,
   "id": "14ead44e-c4b5-4ddf-92c6-475132e5fd8f",
   "metadata": {
    "vscode": {
     "languageId": "python"
    }
   },
   "outputs": [],
   "source": [
    "# second example: subset on a list of target labels"
   ]
  },
  {
   "cell_type": "code",
   "execution_count": null,
   "id": "792e4789-caef-4300-9704-60ad9d62e6ce",
   "metadata": {
    "vscode": {
     "languageId": "python"
    }
   },
   "outputs": [],
   "source": [
    "t = f['target']"
   ]
  },
  {
   "cell_type": "code",
   "execution_count": null,
   "id": "afe26590-5ab3-472b-bf1f-249cba960142",
   "metadata": {
    "vscode": {
     "languageId": "python"
    }
   },
   "outputs": [],
   "source": [
    "# we can use a similar approach to filter for regions that have a specific set of labels:"
   ]
  },
  {
   "cell_type": "code",
   "execution_count": null,
   "id": "bf232095-082e-481d-84ae-28e39f9bdc06",
   "metadata": {
    "vscode": {
     "languageId": "python"
    }
   },
   "outputs": [],
   "source": [
    "list(t.attrs.keys()) # 'N' contains the number of regions with a readout for each experiment, 'labels' contains the identifiers"
   ]
  },
  {
   "cell_type": "code",
   "execution_count": null,
   "id": "a150e272-8147-439a-a5e5-3cdbab3d3d7b",
   "metadata": {
    "vscode": {
     "languageId": "python"
    }
   },
   "outputs": [],
   "source": [
    "n_labels = len(t.attrs.get('labels'))"
   ]
  },
  {
   "cell_type": "code",
   "execution_count": null,
   "id": "ebb62441-cb5c-4492-a6be-9ae6ec3dc121",
   "metadata": {
    "vscode": {
     "languageId": "python"
    }
   },
   "outputs": [],
   "source": [
    "n_labels"
   ]
  },
  {
   "cell_type": "code",
   "execution_count": null,
   "id": "272f0c39-74fc-4e7f-ab44-da83c6a6e8d4",
   "metadata": {
    "vscode": {
     "languageId": "python"
    }
   },
   "outputs": [],
   "source": [
    "labels_of_interest = np.random.choice(np.arange(n_labels), 100, replace=False)"
   ]
  },
  {
   "cell_type": "code",
   "execution_count": null,
   "id": "77af4cec-bade-47d5-b8af-55474eb90522",
   "metadata": {
    "vscode": {
     "languageId": "python"
    }
   },
   "outputs": [],
   "source": [
    "labels_of_interest"
   ]
  },
  {
   "cell_type": "code",
   "execution_count": null,
   "id": "3e65e4ec-bda3-4eaa-b962-6c2e44d5d118",
   "metadata": {
    "vscode": {
     "languageId": "python"
    }
   },
   "outputs": [],
   "source": [
    "import tqdm"
   ]
  },
  {
   "cell_type": "code",
   "execution_count": null,
   "id": "7490898a-2348-451a-9c11-5760d96af16b",
   "metadata": {
    "vscode": {
     "languageId": "python"
    }
   },
   "outputs": [],
   "source": [
    "n_chunk = len(q) // q.chunks[0]"
   ]
  },
  {
   "cell_type": "code",
   "execution_count": null,
   "id": "afb5bdf8-5055-4fb7-af39-2c4df3c81539",
   "metadata": {
    "vscode": {
     "languageId": "python"
    }
   },
   "outputs": [],
   "source": [
    "n_chunk"
   ]
  },
  {
   "cell_type": "code",
   "execution_count": null,
   "id": "79441781-802d-4fb2-94ee-4f2fb251aed3",
   "metadata": {
    "vscode": {
     "languageId": "python"
    }
   },
   "outputs": [],
   "source": [
    "proc_chunk = []\n",
    "\n",
    "i = 1\n",
    "\n",
    "with tqdm.tqdm(total=n_chunk) as pbar:\n",
    "    \n",
    "    # this is a bit slower, having a progress bar makes it more satisfying\n",
    "\n",
    "    for c in q.iter_chunks():\n",
    "        \n",
    "        # iterate over the HDF5 file in chunks\n",
    "        \n",
    "        chunk_q = q[c]\n",
    "        chunk_t = t[c]\n",
    "        \n",
    "        keep = chunk_q[(chunk_t == labels_of_interest).any(axis=1)]\n",
    "        \n",
    "        proc_chunk.append(keep)\n",
    "        \n",
    "        if i % 100 == 0:\n",
    "            pbar.update(100)\n",
    "            \n",
    "        i += 1\n",
    "        \n"
   ]
  },
  {
   "cell_type": "code",
   "execution_count": null,
   "id": "9a9bc457-a41f-44ef-8c36-fe7c66ae2b95",
   "metadata": {
    "vscode": {
     "languageId": "python"
    }
   },
   "outputs": [],
   "source": [
    "idx_select = np.unique(np.concatenate(proc_chunk))"
   ]
  },
  {
   "cell_type": "code",
   "execution_count": null,
   "id": "ddf468b9-f5db-4580-bf35-7409898dceba",
   "metadata": {
    "vscode": {
     "languageId": "python"
    }
   },
   "outputs": [],
   "source": [
    "len(idx_select) # this many regions have at least one of the labels in labels_of_interest"
   ]
  },
  {
   "cell_type": "code",
   "execution_count": null,
   "id": "280525c3-561f-4cb7-9720-d46d080b6c62",
   "metadata": {
    "vscode": {
     "languageId": "python"
    }
   },
   "outputs": [],
   "source": [
    "# IMPORTANT: always close the hdf5 file after use\n",
    "\n",
    "f.close()"
   ]
  },
  {
   "cell_type": "code",
   "execution_count": null,
   "id": "26ebb5a6-cd07-428a-8920-864519b1b1ad",
   "metadata": {
    "vscode": {
     "languageId": "python"
    }
   },
   "outputs": [],
   "source": []
  }
 ],
 "metadata": {
  "kernelspec": {
   "display_name": "python3 (dna)",
   "language": "python",
   "name": "dna"
  }
 },
 "nbformat": 4,
 "nbformat_minor": 5
}
